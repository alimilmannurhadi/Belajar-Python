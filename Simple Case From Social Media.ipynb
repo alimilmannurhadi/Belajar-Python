{
 "cells": [
  {
   "attachments": {},
   "cell_type": "markdown",
   "metadata": {},
   "source": [
    "Find the longest word in a sentence"
   ]
  },
  {
   "cell_type": "code",
   "execution_count": 33,
   "metadata": {},
   "outputs": [
    {
     "name": "stdout",
     "output_type": "stream",
     "text": [
      "The longest word in this sentence 'To find a place I love the most Where the fields are green To see you once again' is 'fields'\n"
     ]
    }
   ],
   "source": [
    "# Input = To find a place I love the most Where the fields are green To see you once again\n",
    "x = input('Enter a sentence') # Sentence input\n",
    "\n",
    "split = x.split()\n",
    "\n",
    "dicts = {}\n",
    "\n",
    "# Create a dictionary with word as keys and letter as values\n",
    "for i in split:\n",
    "    dicts[i] = len(i)\n",
    "\n",
    "# Variabel of find the largest value and take its keys\n",
    "largest = max(dicts, key = dicts.get) \n",
    "\n",
    "print(f\"The longest word in this sentence '{x}' is '{largest}'\")"
   ]
  },
  {
   "attachments": {},
   "cell_type": "markdown",
   "metadata": {},
   "source": [
    "Adding dots on every 3rd number for money number"
   ]
  },
  {
   "cell_type": "code",
   "execution_count": 50,
   "metadata": {},
   "outputs": [
    {
     "name": "stdout",
     "output_type": "stream",
     "text": [
      "Money $100,000,000\n",
      "Phi is 3.14\n"
     ]
    }
   ],
   "source": [
    "dollars = 100000000\n",
    "phi = 22/7\n",
    "\n",
    "print(f'Money ${dollars:,}')\n",
    "print(f'Phi is {phi:.2f}')\n"
   ]
  }
 ],
 "metadata": {
  "kernelspec": {
   "display_name": "base",
   "language": "python",
   "name": "python3"
  },
  "language_info": {
   "codemirror_mode": {
    "name": "ipython",
    "version": 3
   },
   "file_extension": ".py",
   "mimetype": "text/x-python",
   "name": "python",
   "nbconvert_exporter": "python",
   "pygments_lexer": "ipython3",
   "version": "3.10.8"
  },
  "orig_nbformat": 4,
  "vscode": {
   "interpreter": {
    "hash": "46ba8b78efd2206173599717abff8d67dc45b096af27dc0efa49d9c30dc4508b"
   }
  }
 },
 "nbformat": 4,
 "nbformat_minor": 2
}
