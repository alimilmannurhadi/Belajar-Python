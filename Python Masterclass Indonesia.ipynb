{
 "cells": [
  {
   "attachments": {},
   "cell_type": "markdown",
   "metadata": {},
   "source": [
    "Integer (Bilangan Bulat)"
   ]
  },
  {
   "cell_type": "code",
   "execution_count": 177,
   "metadata": {},
   "outputs": [
    {
     "data": {
      "text/plain": [
       "2"
      ]
     },
     "execution_count": 177,
     "metadata": {},
     "output_type": "execute_result"
    }
   ],
   "source": [
    "2"
   ]
  },
  {
   "cell_type": "code",
   "execution_count": 178,
   "metadata": {},
   "outputs": [
    {
     "data": {
      "text/plain": [
       "100"
      ]
     },
     "execution_count": 178,
     "metadata": {},
     "output_type": "execute_result"
    }
   ],
   "source": [
    "100\n"
   ]
  },
  {
   "cell_type": "code",
   "execution_count": 179,
   "metadata": {},
   "outputs": [
    {
     "data": {
      "text/plain": [
       "1000"
      ]
     },
     "execution_count": 179,
     "metadata": {},
     "output_type": "execute_result"
    }
   ],
   "source": [
    "1000"
   ]
  },
  {
   "attachments": {},
   "cell_type": "markdown",
   "metadata": {},
   "source": [
    "Float (Bilangan Desimal)"
   ]
  },
  {
   "cell_type": "code",
   "execution_count": 180,
   "metadata": {},
   "outputs": [
    {
     "data": {
      "text/plain": [
       "3.0"
      ]
     },
     "execution_count": 180,
     "metadata": {},
     "output_type": "execute_result"
    }
   ],
   "source": [
    "\n",
    "3.32\n",
    "3.0"
   ]
  },
  {
   "attachments": {},
   "cell_type": "markdown",
   "metadata": {},
   "source": [
    "String (Teks & Karakter)"
   ]
  },
  {
   "cell_type": "code",
   "execution_count": 181,
   "metadata": {},
   "outputs": [
    {
     "data": {
      "text/plain": [
       "\"Assalamu'alaikum\""
      ]
     },
     "execution_count": 181,
     "metadata": {},
     "output_type": "execute_result"
    }
   ],
   "source": [
    "\n",
    "'sdahsdjkah'\n",
    "\"dsadasdsa\"\n",
    "\"Assalamu'alaikum\""
   ]
  },
  {
   "attachments": {},
   "cell_type": "markdown",
   "metadata": {},
   "source": [
    "Boolean (True & False)"
   ]
  },
  {
   "cell_type": "code",
   "execution_count": 182,
   "metadata": {},
   "outputs": [
    {
     "data": {
      "text/plain": [
       "False"
      ]
     },
     "execution_count": 182,
     "metadata": {},
     "output_type": "execute_result"
    }
   ],
   "source": [
    "\n",
    "True\n",
    "False"
   ]
  },
  {
   "attachments": {},
   "cell_type": "markdown",
   "metadata": {},
   "source": [
    "Modulus % (mendapatkan sisa hasil)"
   ]
  },
  {
   "cell_type": "code",
   "execution_count": 183,
   "metadata": {},
   "outputs": [
    {
     "data": {
      "text/plain": [
       "3.3333333333333335"
      ]
     },
     "execution_count": 183,
     "metadata": {},
     "output_type": "execute_result"
    }
   ],
   "source": [
    "10/3"
   ]
  },
  {
   "cell_type": "code",
   "execution_count": 184,
   "metadata": {},
   "outputs": [
    {
     "data": {
      "text/plain": [
       "1"
      ]
     },
     "execution_count": 184,
     "metadata": {},
     "output_type": "execute_result"
    }
   ],
   "source": [
    "10%3"
   ]
  },
  {
   "attachments": {},
   "cell_type": "markdown",
   "metadata": {},
   "source": [
    "Pangkat ** "
   ]
  },
  {
   "cell_type": "code",
   "execution_count": 185,
   "metadata": {},
   "outputs": [
    {
     "data": {
      "text/plain": [
       "576"
      ]
     },
     "execution_count": 185,
     "metadata": {},
     "output_type": "execute_result"
    }
   ],
   "source": [
    "24**2"
   ]
  },
  {
   "attachments": {},
   "cell_type": "markdown",
   "metadata": {},
   "source": [
    "Assignment"
   ]
  },
  {
   "cell_type": "code",
   "execution_count": 186,
   "metadata": {},
   "outputs": [],
   "source": [
    "bil1 = 3.0"
   ]
  },
  {
   "cell_type": "code",
   "execution_count": 187,
   "metadata": {},
   "outputs": [
    {
     "data": {
      "text/plain": [
       "3.0"
      ]
     },
     "execution_count": 187,
     "metadata": {},
     "output_type": "execute_result"
    }
   ],
   "source": [
    "bil1"
   ]
  },
  {
   "cell_type": "code",
   "execution_count": 188,
   "metadata": {},
   "outputs": [
    {
     "data": {
      "text/plain": [
       "float"
      ]
     },
     "execution_count": 188,
     "metadata": {},
     "output_type": "execute_result"
    }
   ],
   "source": [
    "#cek tipe data\n",
    "type(bil1)"
   ]
  },
  {
   "attachments": {},
   "cell_type": "markdown",
   "metadata": {},
   "source": [
    "**Data Structure**"
   ]
  },
  {
   "attachments": {},
   "cell_type": "markdown",
   "metadata": {},
   "source": [
    "Variabel "
   ]
  },
  {
   "cell_type": "code",
   "execution_count": 189,
   "metadata": {},
   "outputs": [],
   "source": [
    "var1 = 1.0 #jika hanya memiliki satu element akan menjadi variabel biasa"
   ]
  },
  {
   "cell_type": "code",
   "execution_count": 190,
   "metadata": {},
   "outputs": [
    {
     "data": {
      "text/plain": [
       "float"
      ]
     },
     "execution_count": 190,
     "metadata": {},
     "output_type": "execute_result"
    }
   ],
   "source": [
    "type(var1) #tipe data variable mengikuti element didalamnnya"
   ]
  },
  {
   "cell_type": "code",
   "execution_count": 191,
   "metadata": {},
   "outputs": [],
   "source": [
    "var2 = 1, 2, 4, \"gaskeun\" "
   ]
  },
  {
   "cell_type": "code",
   "execution_count": 192,
   "metadata": {},
   "outputs": [
    {
     "data": {
      "text/plain": [
       "tuple"
      ]
     },
     "execution_count": 192,
     "metadata": {},
     "output_type": "execute_result"
    }
   ],
   "source": [
    "type(var2) #jika memiliki lebih dari satu element akan menjadi Tuple"
   ]
  },
  {
   "attachments": {},
   "cell_type": "markdown",
   "metadata": {},
   "source": [
    "Mutable"
   ]
  },
  {
   "cell_type": "code",
   "execution_count": 193,
   "metadata": {},
   "outputs": [],
   "source": [
    "mutable = [1, 3, 3, 4, 5, 6] #ini bertipe data list sehingga mutable"
   ]
  },
  {
   "cell_type": "code",
   "execution_count": 194,
   "metadata": {},
   "outputs": [],
   "source": [
    "mutable[1] = 2"
   ]
  },
  {
   "cell_type": "code",
   "execution_count": 195,
   "metadata": {},
   "outputs": [
    {
     "data": {
      "text/plain": [
       "[1, 2, 3, 4, 5, 6]"
      ]
     },
     "execution_count": 195,
     "metadata": {},
     "output_type": "execute_result"
    }
   ],
   "source": [
    "mutable"
   ]
  },
  {
   "cell_type": "code",
   "execution_count": 196,
   "metadata": {},
   "outputs": [],
   "source": [
    "namam = 'olim Ilman Nurhadi' #ini merukapan variable String"
   ]
  },
  {
   "cell_type": "code",
   "execution_count": 197,
   "metadata": {},
   "outputs": [
    {
     "ename": "TypeError",
     "evalue": "'str' object does not support item assignment",
     "output_type": "error",
     "traceback": [
      "\u001b[1;31m---------------------------------------------------------------------------\u001b[0m",
      "\u001b[1;31mTypeError\u001b[0m                                 Traceback (most recent call last)",
      "\u001b[1;32md:\\Visual Studio Code\\Jupyter Notebook\\Belajar-Python\\Python Masterclass Indonesia.ipynb Cell 31\u001b[0m in \u001b[0;36m<cell line: 1>\u001b[1;34m()\u001b[0m\n\u001b[1;32m----> <a href='vscode-notebook-cell:/d%3A/Visual%20Studio%20Code/Jupyter%20Notebook/Belajar-Python/Python%20Masterclass%20Indonesia.ipynb#X42sZmlsZQ%3D%3D?line=0'>1</a>\u001b[0m namam[\u001b[39m0\u001b[39m] \u001b[39m=\u001b[39m \u001b[39m'\u001b[39m\u001b[39mA\u001b[39m\u001b[39m'\u001b[39m\n",
      "\u001b[1;31mTypeError\u001b[0m: 'str' object does not support item assignment"
     ]
    }
   ],
   "source": [
    "namam[0] = 'A' #variable Str unmutable"
   ]
  },
  {
   "cell_type": "code",
   "execution_count": null,
   "metadata": {},
   "outputs": [
    {
     "data": {
      "text/plain": [
       "'olim Ilman Nurhadiganteng'"
      ]
     },
     "execution_count": 136,
     "metadata": {},
     "output_type": "execute_result"
    }
   ],
   "source": [
    "namam + 'ganteng'"
   ]
  },
  {
   "cell_type": "code",
   "execution_count": null,
   "metadata": {},
   "outputs": [
    {
     "data": {
      "text/plain": [
       "'olim Ilman Nurhadiolim Ilman Nurhadi'"
      ]
     },
     "execution_count": 137,
     "metadata": {},
     "output_type": "execute_result"
    }
   ],
   "source": [
    "namam * 2"
   ]
  },
  {
   "cell_type": "code",
   "execution_count": null,
   "metadata": {},
   "outputs": [],
   "source": [
    "namam2 = namam + ' alias Andry'"
   ]
  },
  {
   "cell_type": "code",
   "execution_count": null,
   "metadata": {},
   "outputs": [
    {
     "data": {
      "text/plain": [
       "'olim Ilman Nurhadi alias Andry'"
      ]
     },
     "execution_count": 139,
     "metadata": {},
     "output_type": "execute_result"
    }
   ],
   "source": [
    "namam2"
   ]
  },
  {
   "attachments": {},
   "cell_type": "markdown",
   "metadata": {},
   "source": [
    "List (ordered, mutable, index/slicing, duplicate element) - []"
   ]
  },
  {
   "cell_type": "code",
   "execution_count": null,
   "metadata": {},
   "outputs": [],
   "source": [
    "keranjang = [1, 2.3, 'apel'] #dapat berisi berbagai tipe data"
   ]
  },
  {
   "cell_type": "code",
   "execution_count": null,
   "metadata": {},
   "outputs": [],
   "source": [
    "keranjang.append(2)"
   ]
  },
  {
   "cell_type": "code",
   "execution_count": null,
   "metadata": {},
   "outputs": [
    {
     "data": {
      "text/plain": [
       "4"
      ]
     },
     "execution_count": 118,
     "metadata": {},
     "output_type": "execute_result"
    }
   ],
   "source": [
    "len(keranjang) #mengetahui jumlah item"
   ]
  },
  {
   "cell_type": "code",
   "execution_count": null,
   "metadata": {},
   "outputs": [
    {
     "data": {
      "text/plain": [
       "2.3"
      ]
     },
     "execution_count": 119,
     "metadata": {},
     "output_type": "execute_result"
    }
   ],
   "source": [
    "keranjang[1]"
   ]
  },
  {
   "attachments": {},
   "cell_type": "markdown",
   "metadata": {},
   "source": [
    "Tuple (ordered, index/slicing, duplicate element) - ()"
   ]
  },
  {
   "cell_type": "code",
   "execution_count": null,
   "metadata": {},
   "outputs": [],
   "source": [
    "bumi = ('tanah', 'air', 'api', 'udara')"
   ]
  },
  {
   "cell_type": "code",
   "execution_count": null,
   "metadata": {},
   "outputs": [
    {
     "data": {
      "text/plain": [
       "'tanah'"
      ]
     },
     "execution_count": 121,
     "metadata": {},
     "output_type": "execute_result"
    }
   ],
   "source": [
    "bumi[0]"
   ]
  },
  {
   "attachments": {},
   "cell_type": "markdown",
   "metadata": {},
   "source": [
    "Dictionary (mutable, index/slicing) - {}."
   ]
  },
  {
   "cell_type": "code",
   "execution_count": null,
   "metadata": {},
   "outputs": [],
   "source": [
    "mobil = {'ban':'karet', 'body':'besi'}"
   ]
  },
  {
   "attachments": {},
   "cell_type": "markdown",
   "metadata": {},
   "source": [
    "sets (mutable) - {}"
   ]
  },
  {
   "cell_type": "code",
   "execution_count": null,
   "metadata": {},
   "outputs": [],
   "source": [
    "s = {'a', 'b', 'kaki', 90}"
   ]
  },
  {
   "attachments": {},
   "cell_type": "markdown",
   "metadata": {},
   "source": [
    "Indexing\n",
    "urutan karakter jika dari depan 0 1 2 3...\n",
    "urutan karekter jika dari belakang ... -3 -2 - 1"
   ]
  },
  {
   "cell_type": "code",
   "execution_count": null,
   "metadata": {},
   "outputs": [
    {
     "data": {
      "text/plain": [
       "'i'"
      ]
     },
     "execution_count": 124,
     "metadata": {},
     "output_type": "execute_result"
    }
   ],
   "source": [
    "\"Alim Ilman Nurhadi\"[2] #melihat karaker ke"
   ]
  },
  {
   "cell_type": "code",
   "execution_count": null,
   "metadata": {},
   "outputs": [
    {
     "data": {
      "text/plain": [
       "'im Ilman Nurhadi'"
      ]
     },
     "execution_count": 125,
     "metadata": {},
     "output_type": "execute_result"
    }
   ],
   "source": [
    "\"Alim Ilman Nurhadi\"[2:] #melihat karakter ke-2 hingga terakhir"
   ]
  },
  {
   "cell_type": "code",
   "execution_count": null,
   "metadata": {},
   "outputs": [
    {
     "data": {
      "text/plain": [
       "'i la uhd'"
      ]
     },
     "execution_count": 126,
     "metadata": {},
     "output_type": "execute_result"
    }
   ],
   "source": [
    "\"Alim Ilman Nurhadi\"[2::2] #melihat karakter ke-2 hingga terakhir dengan lompatan 2 \n"
   ]
  },
  {
   "cell_type": "code",
   "execution_count": null,
   "metadata": {},
   "outputs": [],
   "source": [
    "Index_slice = (0, 1, 2, 3, 4, 5, 6, 7, 8, 9, 10)"
   ]
  },
  {
   "cell_type": "code",
   "execution_count": null,
   "metadata": {},
   "outputs": [
    {
     "data": {
      "text/plain": [
       "(1, 5)"
      ]
     },
     "execution_count": 128,
     "metadata": {},
     "output_type": "execute_result"
    }
   ],
   "source": [
    "Index_slice[1:8:4]"
   ]
  },
  {
   "attachments": {},
   "cell_type": "markdown",
   "metadata": {},
   "source": [
    "**Method**\n",
    "\n",
    "merupakan fungsi yang dimiliki oleh suatu object"
   ]
  },
  {
   "cell_type": "code",
   "execution_count": null,
   "metadata": {},
   "outputs": [],
   "source": [
    "method = 'sekarang atau tidak sama sekali'"
   ]
  },
  {
   "cell_type": "code",
   "execution_count": null,
   "metadata": {},
   "outputs": [
    {
     "data": {
      "text/plain": [
       "'SEKARANG ATAU TIDAK SAMA SEKALI'"
      ]
     },
     "execution_count": 147,
     "metadata": {},
     "output_type": "execute_result"
    }
   ],
   "source": [
    "method.upper() #method diberikan setelah tanda titik"
   ]
  },
  {
   "cell_type": "code",
   "execution_count": null,
   "metadata": {},
   "outputs": [
    {
     "data": {
      "text/plain": [
       "'sekarang atau tidak sama sekali'"
      ]
     },
     "execution_count": 148,
     "metadata": {},
     "output_type": "execute_result"
    }
   ],
   "source": [
    "method #method tidak merubah isi dari variabel"
   ]
  },
  {
   "cell_type": "code",
   "execution_count": null,
   "metadata": {},
   "outputs": [],
   "source": [
    "method = method.split() #merubah isi variabel dapat dilakukan dengan mengulang defini variabel"
   ]
  },
  {
   "cell_type": "code",
   "execution_count": null,
   "metadata": {},
   "outputs": [
    {
     "data": {
      "text/plain": [
       "['sekarang', 'atau', 'tidak', 'sama', 'sekali']"
      ]
     },
     "execution_count": 151,
     "metadata": {},
     "output_type": "execute_result"
    }
   ],
   "source": [
    "method"
   ]
  },
  {
   "attachments": {},
   "cell_type": "markdown",
   "metadata": {},
   "source": [
    "Trik - Penggunaan method format pada print agar mempermudah saat menggunakan banyak variable"
   ]
  },
  {
   "cell_type": "code",
   "execution_count": null,
   "metadata": {},
   "outputs": [
    {
     "name": "stdout",
     "output_type": "stream",
     "text": [
      "saya adalah anak ke 2\n"
     ]
    }
   ],
   "source": [
    "print('saya adalah anak ke {}'.format('2'))"
   ]
  },
  {
   "cell_type": "code",
   "execution_count": null,
   "metadata": {},
   "outputs": [
    {
     "name": "stdout",
     "output_type": "stream",
     "text": [
      "Urutan saudara saya adalah Armin Andry Ari\n"
     ]
    }
   ],
   "source": [
    "print('Urutan saudara saya adalah {} {} {}'.format('Armin', 'Andry', 'Ari'))"
   ]
  },
  {
   "cell_type": "code",
   "execution_count": null,
   "metadata": {},
   "outputs": [
    {
     "name": "stdout",
     "output_type": "stream",
     "text": [
      "urutan saudara saya dari yang termuda adalah Ari Andry Armin\n"
     ]
    }
   ],
   "source": [
    "print('urutan saudara saya dari yang termuda adalah {2} {1} {0}'.format('Armin', 'Andry', 'Ari'))"
   ]
  },
  {
   "cell_type": "code",
   "execution_count": null,
   "metadata": {},
   "outputs": [
    {
     "name": "stdout",
     "output_type": "stream",
     "text": [
      "urutan saudara saya dari daskdakj adalah Armin Ari Andry\n"
     ]
    }
   ],
   "source": [
    "print('urutan saudara saya dari daskdakj adalah {a} {c} {b}'.format(a='Armin', b='Andry', c='Ari'))"
   ]
  },
  {
   "cell_type": "code",
   "execution_count": null,
   "metadata": {},
   "outputs": [],
   "source": [
    "phi = 22/7"
   ]
  },
  {
   "cell_type": "code",
   "execution_count": null,
   "metadata": {},
   "outputs": [
    {
     "name": "stdout",
     "output_type": "stream",
     "text": [
      "nilai phi adalah 3.142857142857143\n"
     ]
    }
   ],
   "source": [
    "print('nilai phi adalah {}'.format(phi))"
   ]
  },
  {
   "cell_type": "code",
   "execution_count": null,
   "metadata": {},
   "outputs": [
    {
     "name": "stdout",
     "output_type": "stream",
     "text": [
      "nilai phi adalah 3.1\n"
     ]
    }
   ],
   "source": [
    "print('nilai phi adalah {:1.2}'.format(phi)) #Format penulisan method print adalah {nilai:lebar.berapa angka jika dari depan langsung saja, jika dari titik pakai F}"
   ]
  },
  {
   "cell_type": "code",
   "execution_count": null,
   "metadata": {},
   "outputs": [
    {
     "name": "stdout",
     "output_type": "stream",
     "text": [
      "nilai phi adalah 3.14\n"
     ]
    }
   ],
   "source": [
    "print('nilai phi adalah {:1.2f}'.format(phi)) #Format penulisan method print adalah {nilai:lebar.berapa angka jika dari depan langsung saja, jika dari titik pakai F}"
   ]
  },
  {
   "attachments": {},
   "cell_type": "markdown",
   "metadata": {},
   "source": [
    "Mengenal list"
   ]
  },
  {
   "cell_type": "code",
   "execution_count": null,
   "metadata": {},
   "outputs": [],
   "source": [
    "list1 = ['1', '2', '3', 'apel']"
   ]
  },
  {
   "cell_type": "code",
   "execution_count": null,
   "metadata": {},
   "outputs": [
    {
     "data": {
      "text/plain": [
       "4"
      ]
     },
     "execution_count": 190,
     "metadata": {},
     "output_type": "execute_result"
    }
   ],
   "source": [
    "len(list1) #mengetahui jumlah element pada variabel "
   ]
  },
  {
   "attachments": {},
   "cell_type": "markdown",
   "metadata": {},
   "source": [
    "looping sederhana"
   ]
  },
  {
   "cell_type": "code",
   "execution_count": null,
   "metadata": {},
   "outputs": [
    {
     "name": "stdout",
     "output_type": "stream",
     "text": [
      "1\n",
      "2\n",
      "3\n",
      "apel\n"
     ]
    }
   ],
   "source": [
    "for i in range(len(list1)):\n",
    "    print(list1[i])"
   ]
  },
  {
   "attachments": {},
   "cell_type": "markdown",
   "metadata": {},
   "source": [
    "Merubah isi list"
   ]
  },
  {
   "cell_type": "code",
   "execution_count": null,
   "metadata": {},
   "outputs": [
    {
     "data": {
      "text/plain": [
       "['1', '2', '3', 'apel']"
      ]
     },
     "execution_count": 193,
     "metadata": {},
     "output_type": "execute_result"
    }
   ],
   "source": [
    "list1"
   ]
  },
  {
   "cell_type": "code",
   "execution_count": null,
   "metadata": {},
   "outputs": [],
   "source": [
    "list1[3] = '4' #3 adalah index 'apel'"
   ]
  },
  {
   "cell_type": "code",
   "execution_count": null,
   "metadata": {},
   "outputs": [
    {
     "data": {
      "text/plain": [
       "['1', '2', '3', '4']"
      ]
     },
     "execution_count": 195,
     "metadata": {},
     "output_type": "execute_result"
    }
   ],
   "source": [
    "list1"
   ]
  },
  {
   "attachments": {},
   "cell_type": "markdown",
   "metadata": {},
   "source": [
    "Menambah isi List"
   ]
  },
  {
   "cell_type": "code",
   "execution_count": null,
   "metadata": {},
   "outputs": [],
   "source": [
    "list2 = ['4', '5'] #dapat menambahkan berapapun item"
   ]
  },
  {
   "cell_type": "code",
   "execution_count": null,
   "metadata": {},
   "outputs": [],
   "source": [
    "list1 = list1 + list2"
   ]
  },
  {
   "cell_type": "code",
   "execution_count": null,
   "metadata": {},
   "outputs": [
    {
     "data": {
      "text/plain": [
       "['1', '2', '3', '4', '4', '5']"
      ]
     },
     "execution_count": 198,
     "metadata": {},
     "output_type": "execute_result"
    }
   ],
   "source": [
    "list1"
   ]
  },
  {
   "attachments": {},
   "cell_type": "markdown",
   "metadata": {},
   "source": [
    "Trik - Penggunaan method format Append"
   ]
  },
  {
   "cell_type": "code",
   "execution_count": null,
   "metadata": {},
   "outputs": [],
   "source": [
    "list1.append('6') #method apppend hanya dapat menambahkah satu item saja"
   ]
  },
  {
   "cell_type": "code",
   "execution_count": null,
   "metadata": {},
   "outputs": [
    {
     "data": {
      "text/plain": [
       "['1', '2', '3', '4', '4', '5', '6']"
      ]
     },
     "execution_count": 200,
     "metadata": {},
     "output_type": "execute_result"
    }
   ],
   "source": [
    "list1"
   ]
  },
  {
   "cell_type": "markdown",
   "metadata": {},
   "source": [
    "Trik - Penggunaan method Pop"
   ]
  },
  {
   "cell_type": "code",
   "execution_count": null,
   "metadata": {},
   "outputs": [
    {
     "data": {
      "text/plain": [
       "'4'"
      ]
     },
     "execution_count": 201,
     "metadata": {},
     "output_type": "execute_result"
    }
   ],
   "source": [
    "list1.pop(3) #menghapus item pada index ke tiga, jika tanpa index maka menghapus item terakhir"
   ]
  },
  {
   "cell_type": "code",
   "execution_count": null,
   "metadata": {},
   "outputs": [
    {
     "data": {
      "text/plain": [
       "['1', '2', '3', '4', '5', '6']"
      ]
     },
     "execution_count": 202,
     "metadata": {},
     "output_type": "execute_result"
    }
   ],
   "source": [
    "list1"
   ]
  },
  {
   "cell_type": "code",
   "execution_count": null,
   "metadata": {},
   "outputs": [],
   "source": [
    "list_pop = list1.pop() #mengambil nilai terakhir dan dimasukkan ke variabel baru"
   ]
  },
  {
   "cell_type": "code",
   "execution_count": null,
   "metadata": {},
   "outputs": [
    {
     "data": {
      "text/plain": [
       "'6'"
      ]
     },
     "execution_count": 204,
     "metadata": {},
     "output_type": "execute_result"
    }
   ],
   "source": [
    "list_pop"
   ]
  },
  {
   "cell_type": "code",
   "execution_count": null,
   "metadata": {},
   "outputs": [
    {
     "data": {
      "text/plain": [
       "['1', '2', '3', '4', '5']"
      ]
     },
     "execution_count": 205,
     "metadata": {},
     "output_type": "execute_result"
    }
   ],
   "source": [
    "list1 #nilai pada variabel list1 berkurang"
   ]
  },
  {
   "cell_type": "markdown",
   "metadata": {},
   "source": [
    "Trik - Penggunaan method Sort"
   ]
  },
  {
   "cell_type": "code",
   "execution_count": null,
   "metadata": {},
   "outputs": [],
   "source": [
    "var_sort = [1, 2, 3, 4, 5, 7, 8, 9, 0, 6]"
   ]
  },
  {
   "cell_type": "code",
   "execution_count": null,
   "metadata": {},
   "outputs": [],
   "source": [
    "var_sort.sort()"
   ]
  },
  {
   "cell_type": "code",
   "execution_count": null,
   "metadata": {},
   "outputs": [
    {
     "data": {
      "text/plain": [
       "[0, 1, 2, 3, 4, 5, 6, 7, 8, 9]"
      ]
     },
     "execution_count": 211,
     "metadata": {},
     "output_type": "execute_result"
    }
   ],
   "source": [
    "var_sort #item menjadi berurut"
   ]
  },
  {
   "cell_type": "code",
   "execution_count": null,
   "metadata": {},
   "outputs": [],
   "source": [
    "var_sort2 = ['b', 'a', 'c', 'd', 'f', 'e']"
   ]
  },
  {
   "cell_type": "code",
   "execution_count": null,
   "metadata": {},
   "outputs": [],
   "source": [
    "var_sort2.sort()"
   ]
  },
  {
   "cell_type": "code",
   "execution_count": null,
   "metadata": {},
   "outputs": [
    {
     "data": {
      "text/plain": [
       "['a', 'b', 'c', 'd', 'e', 'f']"
      ]
     },
     "execution_count": 214,
     "metadata": {},
     "output_type": "execute_result"
    }
   ],
   "source": [
    "var_sort2"
   ]
  },
  {
   "cell_type": "code",
   "execution_count": null,
   "metadata": {},
   "outputs": [],
   "source": [
    "var_sort2.reverse() #method reverse untuk me"
   ]
  },
  {
   "cell_type": "code",
   "execution_count": null,
   "metadata": {},
   "outputs": [
    {
     "data": {
      "text/plain": [
       "['f', 'e', 'd', 'c', 'b', 'a']"
      ]
     },
     "execution_count": 216,
     "metadata": {},
     "output_type": "execute_result"
    }
   ],
   "source": [
    "var_sort2"
   ]
  },
  {
   "attachments": {},
   "cell_type": "markdown",
   "metadata": {},
   "source": [
    "Nested List - List dalam List"
   ]
  },
  {
   "cell_type": "code",
   "execution_count": null,
   "metadata": {},
   "outputs": [],
   "source": [
    "nlist = [1, 2, 3, 4, [5, 6, 7, 8]]"
   ]
  },
  {
   "cell_type": "code",
   "execution_count": null,
   "metadata": {},
   "outputs": [
    {
     "data": {
      "text/plain": [
       "[5, 6, 7, 8]"
      ]
     },
     "execution_count": 220,
     "metadata": {},
     "output_type": "execute_result"
    }
   ],
   "source": [
    "nlist[4] #index ke adalah list "
   ]
  },
  {
   "cell_type": "code",
   "execution_count": null,
   "metadata": {},
   "outputs": [
    {
     "data": {
      "text/plain": [
       "5"
      ]
     },
     "execution_count": 222,
     "metadata": {},
     "output_type": "execute_result"
    }
   ],
   "source": [
    "nlist[4][0] #index ke empat dan mengambil nilai index ke nol pada list tersebut"
   ]
  },
  {
   "attachments": {},
   "cell_type": "markdown",
   "metadata": {},
   "source": [
    "Memahami List"
   ]
  },
  {
   "cell_type": "code",
   "execution_count": null,
   "metadata": {},
   "outputs": [],
   "source": [
    "var1 = list() #kedua cara ini benar\n",
    "var2 = []"
   ]
  },
  {
   "cell_type": "code",
   "execution_count": null,
   "metadata": {},
   "outputs": [
    {
     "name": "stdout",
     "output_type": "stream",
     "text": [
      "sama dongs\n"
     ]
    }
   ],
   "source": [
    "if var1 == var2:\n",
    "    print('sama dongs') #kedua cara ini sama"
   ]
  },
  {
   "cell_type": "code",
   "execution_count": null,
   "metadata": {},
   "outputs": [
    {
     "data": {
      "text/plain": [
       "['l', 'e', 'n', 'o', 'v', 'o', ' ', 'b', 'a', 'g', 'u', 's']"
      ]
     },
     "execution_count": 231,
     "metadata": {},
     "output_type": "execute_result"
    }
   ],
   "source": [
    "list('lenovo bagus') #membuat list dari string akan membagi tiap huruf menjadi item"
   ]
  },
  {
   "cell_type": "code",
   "execution_count": null,
   "metadata": {},
   "outputs": [],
   "source": [
    "pecah = list('lenovo bagus') #membuat list dari string akan membagi tiap huruf menjadi item"
   ]
  },
  {
   "cell_type": "code",
   "execution_count": null,
   "metadata": {},
   "outputs": [
    {
     "data": {
      "text/plain": [
       "['l', 'e', 'n', 'o', 'v', 'o', ' ', 'b', 'a', 'g', 'u', 's']"
      ]
     },
     "execution_count": 233,
     "metadata": {},
     "output_type": "execute_result"
    }
   ],
   "source": [
    "pecah"
   ]
  },
  {
   "cell_type": "code",
   "execution_count": null,
   "metadata": {},
   "outputs": [],
   "source": [
    "angka1 = [1, 3, 5]\n",
    "angka2 = [4, 6, 0]"
   ]
  },
  {
   "cell_type": "code",
   "execution_count": null,
   "metadata": {},
   "outputs": [],
   "source": [
    "angka3 = angka1 + angka2 "
   ]
  },
  {
   "cell_type": "code",
   "execution_count": null,
   "metadata": {},
   "outputs": [
    {
     "data": {
      "text/plain": [
       "[1, 3, 5, 4, 6, 0]"
      ]
     },
     "execution_count": 5,
     "metadata": {},
     "output_type": "execute_result"
    }
   ],
   "source": [
    "angka3 #penambahan list akan menyatukan list"
   ]
  },
  {
   "cell_type": "code",
   "execution_count": null,
   "metadata": {},
   "outputs": [],
   "source": [
    "angka4 = [angka1, angka2]"
   ]
  },
  {
   "cell_type": "code",
   "execution_count": null,
   "metadata": {},
   "outputs": [
    {
     "data": {
      "text/plain": [
       "[[1, 3, 5], [4, 6, 0]]"
      ]
     },
     "execution_count": 7,
     "metadata": {},
     "output_type": "execute_result"
    }
   ],
   "source": [
    "angka4 #membuat list baru dengan isi dua list diatas"
   ]
  },
  {
   "cell_type": "code",
   "execution_count": null,
   "metadata": {},
   "outputs": [
    {
     "name": "stdout",
     "output_type": "stream",
     "text": [
      "[1, 3, 5]\n",
      "1\n",
      "3\n",
      "5\n",
      "[4, 6, 0]\n",
      "4\n",
      "6\n",
      "0\n"
     ]
    }
   ],
   "source": [
    "for item in angka4:\n",
    "    print(item)\n",
    "\n",
    "    for items in item:\n",
    "        print(items)"
   ]
  },
  {
   "attachments": {},
   "cell_type": "markdown",
   "metadata": {},
   "source": [
    "Memahami Dictionary"
   ]
  },
  {
   "cell_type": "code",
   "execution_count": null,
   "metadata": {},
   "outputs": [],
   "source": [
    "dict1 = {'b1':'kambing', 'b2':'sapi', 'b3':'kuda'}"
   ]
  },
  {
   "cell_type": "code",
   "execution_count": null,
   "metadata": {},
   "outputs": [
    {
     "data": {
      "text/plain": [
       "{'b1': 'kambing', 'b2': 'sapi', 'b3': 'kuda'}"
      ]
     },
     "execution_count": 13,
     "metadata": {},
     "output_type": "execute_result"
    }
   ],
   "source": [
    "dict1"
   ]
  },
  {
   "cell_type": "code",
   "execution_count": null,
   "metadata": {},
   "outputs": [
    {
     "data": {
      "text/plain": [
       "'sapi'"
      ]
     },
     "execution_count": 14,
     "metadata": {},
     "output_type": "execute_result"
    }
   ],
   "source": [
    "# Cara memanggil item \n",
    "dict1['b2']"
   ]
  },
  {
   "cell_type": "code",
   "execution_count": null,
   "metadata": {},
   "outputs": [],
   "source": [
    "# Contoh penggunaan dictionary\n",
    "harga_mobil = {'avanza':200, 'xenia':190, 'alpard':850}"
   ]
  },
  {
   "cell_type": "code",
   "execution_count": null,
   "metadata": {},
   "outputs": [
    {
     "data": {
      "text/plain": [
       "200"
      ]
     },
     "execution_count": 16,
     "metadata": {},
     "output_type": "execute_result"
    }
   ],
   "source": [
    "harga_mobil['avanza']"
   ]
  },
  {
   "cell_type": "code",
   "execution_count": null,
   "metadata": {},
   "outputs": [],
   "source": [
    "dict2 = {'k1':'bumi', 'k2':432, 'k3':[1, 2, 3, 4, 'lima'], 'k4':{'k5':'kopi', 'k6':'tea'}}"
   ]
  },
  {
   "cell_type": "code",
   "execution_count": null,
   "metadata": {},
   "outputs": [
    {
     "data": {
      "text/plain": [
       "'kopi'"
      ]
     },
     "execution_count": 18,
     "metadata": {},
     "output_type": "execute_result"
    }
   ],
   "source": [
    "# Mengambil item Kopi\n",
    "dict2['k4']['k5']"
   ]
  },
  {
   "cell_type": "code",
   "execution_count": null,
   "metadata": {},
   "outputs": [],
   "source": [
    "# Merubah item di Dictionary\n",
    "dict2['k1'] = 123"
   ]
  },
  {
   "cell_type": "code",
   "execution_count": null,
   "metadata": {},
   "outputs": [
    {
     "data": {
      "text/plain": [
       "{'k1': 'bumi',\n",
       " 'k2': 432,\n",
       " 'k3': [1, 2, 3, 4, 'lima'],\n",
       " 'k4': {'k5': 'kopi', 'k6': 'tea'}}"
      ]
     },
     "execution_count": 45,
     "metadata": {},
     "output_type": "execute_result"
    }
   ],
   "source": [
    "dict2"
   ]
  },
  {
   "cell_type": "code",
   "execution_count": null,
   "metadata": {},
   "outputs": [
    {
     "data": {
      "text/plain": [
       "dict_keys(['k1', 'k2', 'k3', 'k4'])"
      ]
     },
     "execution_count": 22,
     "metadata": {},
     "output_type": "execute_result"
    }
   ],
   "source": [
    "# memunculkan semua kepala pada Dict\n",
    "dict2.keys()"
   ]
  },
  {
   "cell_type": "code",
   "execution_count": null,
   "metadata": {},
   "outputs": [
    {
     "data": {
      "text/plain": [
       "dict_values([123, 432, [1, 2, 3, 4, 'lima'], {'k5': 'kopi', 'k6': 'tea'}])"
      ]
     },
     "execution_count": 24,
     "metadata": {},
     "output_type": "execute_result"
    }
   ],
   "source": [
    "# memunculkan semua isi pada Dict\n",
    "dict2.values()"
   ]
  },
  {
   "cell_type": "code",
   "execution_count": null,
   "metadata": {},
   "outputs": [
    {
     "data": {
      "text/plain": [
       "dict_items([('k1', 'bumi'), ('k2', 432), ('k3', [1, 2, 3, 4, 'lima']), ('k4', {'k5': 'kopi', 'k6': 'tea'})])"
      ]
     },
     "execution_count": 38,
     "metadata": {},
     "output_type": "execute_result"
    }
   ],
   "source": [
    "# memunculkan semua item\n",
    "dict2.items()"
   ]
  },
  {
   "cell_type": "code",
   "execution_count": null,
   "metadata": {},
   "outputs": [],
   "source": [
    "besar = dict2['k4']['k6'].upper()"
   ]
  },
  {
   "cell_type": "code",
   "execution_count": null,
   "metadata": {},
   "outputs": [
    {
     "data": {
      "text/plain": [
       "'TEA'"
      ]
     },
     "execution_count": 41,
     "metadata": {},
     "output_type": "execute_result"
    }
   ],
   "source": [
    "besar"
   ]
  },
  {
   "cell_type": "code",
   "execution_count": null,
   "metadata": {},
   "outputs": [],
   "source": [
    "# Mengubah isi Dict\n",
    "dict2['k4']['k6'] = dict2['k4']['k6'].upper()"
   ]
  },
  {
   "cell_type": "code",
   "execution_count": null,
   "metadata": {},
   "outputs": [
    {
     "data": {
      "text/plain": [
       "{'k1': 'bumi',\n",
       " 'k2': 432,\n",
       " 'k3': [1, 2, 3, 4, 'lima'],\n",
       " 'k4': {'k5': 'kopi', 'k6': 'TEA'}}"
      ]
     },
     "execution_count": 47,
     "metadata": {},
     "output_type": "execute_result"
    }
   ],
   "source": [
    "dict2"
   ]
  },
  {
   "attachments": {},
   "cell_type": "markdown",
   "metadata": {},
   "source": [
    "Memahami Tuple ()\n",
    "\n",
    "-Isi tidak bisa berubah, jadi gunakan ketika tahu bahwa data tersebut tidak akan diubah"
   ]
  },
  {
   "cell_type": "code",
   "execution_count": null,
   "metadata": {},
   "outputs": [],
   "source": [
    "# Cara membuat tuple\n",
    "tuple = (1, 2, 3, 4, 5)\n",
    "tuple1 = 1, 2, 3, 4, 5\n"
   ]
  },
  {
   "cell_type": "code",
   "execution_count": null,
   "metadata": {},
   "outputs": [
    {
     "name": "stdout",
     "output_type": "stream",
     "text": [
      "<class 'tuple'>\n",
      "<class 'tuple'>\n"
     ]
    }
   ],
   "source": [
    "print(type(tuple))\n",
    "print(type(tuple1))"
   ]
  },
  {
   "cell_type": "code",
   "execution_count": null,
   "metadata": {},
   "outputs": [],
   "source": [
    "# Tuple bisa berbagai tipe data seperti List\n",
    "tuple_b = (1, 2, 3, 'an', 'dry', 0.2)\n"
   ]
  },
  {
   "cell_type": "code",
   "execution_count": null,
   "metadata": {},
   "outputs": [
    {
     "data": {
      "text/plain": [
       "3"
      ]
     },
     "execution_count": 62,
     "metadata": {},
     "output_type": "execute_result"
    }
   ],
   "source": [
    "# Tuple bisa indexing\n",
    "tuple_b[2]"
   ]
  },
  {
   "attachments": {},
   "cell_type": "markdown",
   "metadata": {},
   "source": [
    "*Tips - Usahakan selalu menggunakan kurung (),[], dan {}*"
   ]
  },
  {
   "cell_type": "code",
   "execution_count": null,
   "metadata": {},
   "outputs": [
    {
     "ename": "TypeError",
     "evalue": "'tuple' object does not support item assignment",
     "output_type": "error",
     "traceback": [
      "\u001b[1;31m---------------------------------------------------------------------------\u001b[0m",
      "\u001b[1;31mTypeError\u001b[0m                                 Traceback (most recent call last)",
      "\u001b[1;32md:\\Visual Studio Code\\YT Mega Bagus .ipynb Cell 138\u001b[0m in \u001b[0;36m<cell line: 2>\u001b[1;34m()\u001b[0m\n\u001b[0;32m      <a href='vscode-notebook-cell:/d%3A/Visual%20Studio%20Code/YT%20Mega%20Bagus%20.ipynb#Y255sZmlsZQ%3D%3D?line=0'>1</a>\u001b[0m \u001b[39m# Item pada data Tuple tidak dapat diubah\u001b[39;00m\n\u001b[1;32m----> <a href='vscode-notebook-cell:/d%3A/Visual%20Studio%20Code/YT%20Mega%20Bagus%20.ipynb#Y255sZmlsZQ%3D%3D?line=1'>2</a>\u001b[0m tuple_b[\u001b[39m5\u001b[39m] \u001b[39m=\u001b[39m \u001b[39m2\u001b[39m\n",
      "\u001b[1;31mTypeError\u001b[0m: 'tuple' object does not support item assignment"
     ]
    }
   ],
   "source": [
    "# Item pada data Tuple tidak dapat diubah\n",
    "tuple_b[5] = 2 "
   ]
  },
  {
   "cell_type": "code",
   "execution_count": null,
   "metadata": {},
   "outputs": [],
   "source": [
    "# Cara merubah isi Tuple\n",
    "tuple_b = tuple_b[0], tuple_b[1], tuple_b[2], 4, 5, tuple_b[5]"
   ]
  },
  {
   "cell_type": "code",
   "execution_count": null,
   "metadata": {},
   "outputs": [
    {
     "data": {
      "text/plain": [
       "(1, 2, 3, 'an', 'dry', 0.2)"
      ]
     },
     "execution_count": 92,
     "metadata": {},
     "output_type": "execute_result"
    }
   ],
   "source": [
    "tuple_b"
   ]
  },
  {
   "cell_type": "code",
   "execution_count": null,
   "metadata": {},
   "outputs": [],
   "source": [
    "# Cara merubah isi Tuple\n",
    "# Merubah Tuple ke List dan dikembalikan lagi\n",
    "tuple_b = list(tuple_b)\n",
    "tuple_b[5] = 6\n"
   ]
  },
  {
   "cell_type": "code",
   "execution_count": null,
   "metadata": {},
   "outputs": [],
   "source": [
    "# Menghapus varibel\n",
    "del tuple"
   ]
  },
  {
   "cell_type": "code",
   "execution_count": null,
   "metadata": {},
   "outputs": [],
   "source": [
    "tuple_b = tuple(tuple_b)"
   ]
  },
  {
   "cell_type": "code",
   "execution_count": null,
   "metadata": {},
   "outputs": [
    {
     "data": {
      "text/plain": [
       "(1, 2, 3, 'an', 'dry', 6)"
      ]
     },
     "execution_count": 97,
     "metadata": {},
     "output_type": "execute_result"
    }
   ],
   "source": [
    "tuple_b"
   ]
  },
  {
   "attachments": {},
   "cell_type": "markdown",
   "metadata": {},
   "source": [
    "Method pada Tuple"
   ]
  },
  {
   "cell_type": "code",
   "execution_count": null,
   "metadata": {},
   "outputs": [
    {
     "data": {
      "text/plain": [
       "1"
      ]
     },
     "execution_count": 99,
     "metadata": {},
     "output_type": "execute_result"
    }
   ],
   "source": [
    "# Menghitung jumlah item yang sama\n",
    "tuple_b.count(1)"
   ]
  },
  {
   "cell_type": "code",
   "execution_count": null,
   "metadata": {},
   "outputs": [
    {
     "data": {
      "text/plain": [
       "4"
      ]
     },
     "execution_count": 100,
     "metadata": {},
     "output_type": "execute_result"
    }
   ],
   "source": [
    "# Mengetahui index sebuah item\n",
    "tuple_b.index('dry')"
   ]
  },
  {
   "attachments": {},
   "cell_type": "markdown",
   "metadata": {},
   "source": [
    "Mutiple Assignment"
   ]
  },
  {
   "cell_type": "code",
   "execution_count": null,
   "metadata": {},
   "outputs": [],
   "source": [
    "# Membuat banyak variabel dengan satu baris\n",
    "a, b, c, d = 1, 2, 3, 'empat'"
   ]
  },
  {
   "cell_type": "code",
   "execution_count": null,
   "metadata": {},
   "outputs": [
    {
     "name": "stdout",
     "output_type": "stream",
     "text": [
      "1\n",
      "2\n",
      "3\n",
      "empat\n"
     ]
    }
   ],
   "source": [
    "print(a)\n",
    "print(b)\n",
    "print(c)\n",
    "print(d)\n"
   ]
  },
  {
   "cell_type": "code",
   "execution_count": null,
   "metadata": {},
   "outputs": [],
   "source": [
    "# Membuat banyak variabel dengan item yang sama\n",
    "a = b = c = d = 'angka'"
   ]
  },
  {
   "cell_type": "code",
   "execution_count": null,
   "metadata": {},
   "outputs": [
    {
     "data": {
      "text/plain": [
       "'angka'"
      ]
     },
     "execution_count": 106,
     "metadata": {},
     "output_type": "execute_result"
    }
   ],
   "source": [
    "a\n"
   ]
  },
  {
   "cell_type": "code",
   "execution_count": null,
   "metadata": {},
   "outputs": [
    {
     "data": {
      "text/plain": [
       "'angka'"
      ]
     },
     "execution_count": 107,
     "metadata": {},
     "output_type": "execute_result"
    }
   ],
   "source": [
    "d"
   ]
  },
  {
   "cell_type": "code",
   "execution_count": null,
   "metadata": {},
   "outputs": [],
   "source": [
    "# Menukar isi variable\n",
    "a = 'ayam'\n",
    "b = 'bebek'"
   ]
  },
  {
   "cell_type": "code",
   "execution_count": null,
   "metadata": {},
   "outputs": [
    {
     "data": {
      "text/plain": [
       "'ayam'"
      ]
     },
     "execution_count": 109,
     "metadata": {},
     "output_type": "execute_result"
    }
   ],
   "source": [
    "a"
   ]
  },
  {
   "cell_type": "code",
   "execution_count": null,
   "metadata": {},
   "outputs": [
    {
     "data": {
      "text/plain": [
       "'bebek'"
      ]
     },
     "execution_count": 110,
     "metadata": {},
     "output_type": "execute_result"
    }
   ],
   "source": [
    "b"
   ]
  },
  {
   "cell_type": "code",
   "execution_count": null,
   "metadata": {},
   "outputs": [],
   "source": [
    "a, b = b, a"
   ]
  },
  {
   "cell_type": "code",
   "execution_count": null,
   "metadata": {},
   "outputs": [
    {
     "name": "stdout",
     "output_type": "stream",
     "text": [
      "a adalah bebek dan b adalah ayam\n"
     ]
    }
   ],
   "source": [
    "print('a adalah {} dan b adalah {}'.format(a, b))"
   ]
  },
  {
   "cell_type": "code",
   "execution_count": null,
   "metadata": {},
   "outputs": [],
   "source": [
    "# Multiple Assignment dengan Tuple"
   ]
  },
  {
   "cell_type": "code",
   "execution_count": null,
   "metadata": {},
   "outputs": [],
   "source": [
    "# Membuat variable dengan item yang akan menjadi isi\n",
    "t1 = ('ayam', 'bebek', 12, 90.3, ['a', 2, 3.1])"
   ]
  },
  {
   "cell_type": "code",
   "execution_count": null,
   "metadata": {},
   "outputs": [],
   "source": [
    "# Memasukkan item ke variabel\n",
    "item1, item2, item3, item4, item5 = t1"
   ]
  },
  {
   "cell_type": "code",
   "execution_count": null,
   "metadata": {},
   "outputs": [
    {
     "data": {
      "text/plain": [
       "'ayam'"
      ]
     },
     "execution_count": 117,
     "metadata": {},
     "output_type": "execute_result"
    }
   ],
   "source": [
    "item1"
   ]
  },
  {
   "cell_type": "code",
   "execution_count": null,
   "metadata": {},
   "outputs": [
    {
     "data": {
      "text/plain": [
       "['a', 2, 3.1]"
      ]
     },
     "execution_count": 118,
     "metadata": {},
     "output_type": "execute_result"
    }
   ],
   "source": [
    "item5"
   ]
  },
  {
   "attachments": {},
   "cell_type": "markdown",
   "metadata": {},
   "source": [
    "Jumlah variabel dan item haruslah sama, jika tidak maka akan error"
   ]
  },
  {
   "attachments": {},
   "cell_type": "markdown",
   "metadata": {},
   "source": [
    "**Memahami Sets**\n",
    "- Bersifat unik (tanpa duplikasi)\n",
    "- Tidak berurutan"
   ]
  },
  {
   "cell_type": "code",
   "execution_count": null,
   "metadata": {},
   "outputs": [],
   "source": [
    "# Membuat Sets\n",
    "set1 = {'motor', 'mobil', 'pesawat'}\n",
    "set2 = set([1, 2, 3, 'saya', 'kamu'])"
   ]
  },
  {
   "cell_type": "code",
   "execution_count": null,
   "metadata": {},
   "outputs": [],
   "source": [
    "# Membuat set dari list\n",
    "list_angka = [1, 2, 2, 3, 3, 3, 4, 4, 4, 5, 6, 7]\n",
    "set_angka = set(list_angka)"
   ]
  },
  {
   "cell_type": "code",
   "execution_count": null,
   "metadata": {},
   "outputs": [
    {
     "data": {
      "text/plain": [
       "{1, 2, 3, 4, 5, 6, 7}"
      ]
     },
     "execution_count": 7,
     "metadata": {},
     "output_type": "execute_result"
    }
   ],
   "source": [
    "# Item yang tersimpan akan tanpa duplikat\n",
    "set_angka"
   ]
  },
  {
   "cell_type": "code",
   "execution_count": null,
   "metadata": {},
   "outputs": [],
   "source": [
    "# Membuat Set kosong\n",
    "set3 = set()"
   ]
  },
  {
   "cell_type": "code",
   "execution_count": null,
   "metadata": {},
   "outputs": [],
   "source": [
    "# Mengisi item dalam set menggunakan method .add\n",
    "set3.add('biru')"
   ]
  },
  {
   "cell_type": "code",
   "execution_count": null,
   "metadata": {},
   "outputs": [
    {
     "data": {
      "text/plain": [
       "{'biru'}"
      ]
     },
     "execution_count": 4,
     "metadata": {},
     "output_type": "execute_result"
    }
   ],
   "source": [
    "set3"
   ]
  },
  {
   "attachments": {},
   "cell_type": "markdown",
   "metadata": {},
   "source": [
    "Memahami Boolean"
   ]
  },
  {
   "cell_type": "code",
   "execution_count": null,
   "metadata": {},
   "outputs": [
    {
     "data": {
      "text/plain": [
       "True"
      ]
     },
     "execution_count": 9,
     "metadata": {},
     "output_type": "execute_result"
    }
   ],
   "source": [
    "True"
   ]
  },
  {
   "cell_type": "code",
   "execution_count": null,
   "metadata": {},
   "outputs": [
    {
     "data": {
      "text/plain": [
       "False"
      ]
     },
     "execution_count": 10,
     "metadata": {},
     "output_type": "execute_result"
    }
   ],
   "source": [
    "False"
   ]
  },
  {
   "cell_type": "code",
   "execution_count": null,
   "metadata": {},
   "outputs": [
    {
     "data": {
      "text/plain": [
       "bool"
      ]
     },
     "execution_count": 11,
     "metadata": {},
     "output_type": "execute_result"
    }
   ],
   "source": [
    "type(True)"
   ]
  },
  {
   "attachments": {},
   "cell_type": "markdown",
   "metadata": {},
   "source": [
    "Memahami Comparison Operator"
   ]
  },
  {
   "attachments": {},
   "cell_type": "markdown",
   "metadata": {},
   "source": [
    ".   == sama dengan  \n",
    ".   != tidak sama dengan  \n",
    ".   >  lebih besar dari (ekslusif)  \n",
    ".   <  lebih kecil dari (ekslusif)  \n",
    ".   >= lebih besar dari (inklusif)  \n",
    ".   <= lebih kecil dari (inklusif)"
   ]
  },
  {
   "attachments": {},
   "cell_type": "markdown",
   "metadata": {},
   "source": [
    "catatan,\n",
    "tanda sama dengan satu kali (=) disebut item assesment"
   ]
  },
  {
   "cell_type": "code",
   "execution_count": null,
   "metadata": {},
   "outputs": [
    {
     "data": {
      "text/plain": [
       "False"
      ]
     },
     "execution_count": 15,
     "metadata": {},
     "output_type": "execute_result"
    }
   ],
   "source": [
    "1 == 2"
   ]
  },
  {
   "cell_type": "code",
   "execution_count": null,
   "metadata": {},
   "outputs": [
    {
     "data": {
      "text/plain": [
       "True"
      ]
     },
     "execution_count": 16,
     "metadata": {},
     "output_type": "execute_result"
    }
   ],
   "source": [
    "1 != 2"
   ]
  },
  {
   "cell_type": "code",
   "execution_count": null,
   "metadata": {},
   "outputs": [
    {
     "data": {
      "text/plain": [
       "False"
      ]
     },
     "execution_count": 17,
     "metadata": {},
     "output_type": "execute_result"
    }
   ],
   "source": [
    "1 > 2"
   ]
  },
  {
   "cell_type": "code",
   "execution_count": null,
   "metadata": {},
   "outputs": [
    {
     "data": {
      "text/plain": [
       "True"
      ]
     },
     "execution_count": 18,
     "metadata": {},
     "output_type": "execute_result"
    }
   ],
   "source": [
    "1 < 2"
   ]
  },
  {
   "attachments": {},
   "cell_type": "markdown",
   "metadata": {},
   "source": [
    "Memahami Comparison Operator Berantai"
   ]
  },
  {
   "attachments": {},
   "cell_type": "markdown",
   "metadata": {},
   "source": [
    "and = dua kondisi harus True maka menghasilkan True  \n",
    "or  = salah satu kondisi True maka menghasilkan True  \n",
    "not = memberikan Boolean yang berlawanan  "
   ]
  },
  {
   "cell_type": "code",
   "execution_count": null,
   "metadata": {},
   "outputs": [
    {
     "data": {
      "text/plain": [
       "True"
      ]
     },
     "execution_count": 19,
     "metadata": {},
     "output_type": "execute_result"
    }
   ],
   "source": [
    "# Menguji and \n",
    "1 == 1 and 2 == 2"
   ]
  },
  {
   "cell_type": "code",
   "execution_count": null,
   "metadata": {},
   "outputs": [
    {
     "data": {
      "text/plain": [
       "False"
      ]
     },
     "execution_count": 20,
     "metadata": {},
     "output_type": "execute_result"
    }
   ],
   "source": [
    "# Menguji and \n",
    "1 == 1 and 2 != 2"
   ]
  },
  {
   "cell_type": "code",
   "execution_count": null,
   "metadata": {},
   "outputs": [
    {
     "data": {
      "text/plain": [
       "True"
      ]
     },
     "execution_count": 25,
     "metadata": {},
     "output_type": "execute_result"
    }
   ],
   "source": [
    "# Menguji or\n",
    "'aku' == 'i' or 1 == 1.0"
   ]
  },
  {
   "cell_type": "code",
   "execution_count": null,
   "metadata": {},
   "outputs": [
    {
     "data": {
      "text/plain": [
       "False"
      ]
     },
     "execution_count": 26,
     "metadata": {},
     "output_type": "execute_result"
    }
   ],
   "source": [
    "# Menguji or\n",
    "'aku' == 'i' or 1 == 1.1"
   ]
  },
  {
   "cell_type": "code",
   "execution_count": null,
   "metadata": {},
   "outputs": [
    {
     "data": {
      "text/plain": [
       "False"
      ]
     },
     "execution_count": 27,
     "metadata": {},
     "output_type": "execute_result"
    }
   ],
   "source": [
    "# menguji not\n",
    "not True"
   ]
  },
  {
   "cell_type": "code",
   "execution_count": null,
   "metadata": {},
   "outputs": [
    {
     "data": {
      "text/plain": [
       "False"
      ]
     },
     "execution_count": 28,
     "metadata": {},
     "output_type": "execute_result"
    }
   ],
   "source": [
    "'aku' == 'i' or 1 == 1.1"
   ]
  },
  {
   "cell_type": "code",
   "execution_count": null,
   "metadata": {},
   "outputs": [
    {
     "data": {
      "text/plain": [
       "True"
      ]
     },
     "execution_count": 29,
     "metadata": {},
     "output_type": "execute_result"
    }
   ],
   "source": [
    "# not akan memberikan boolean yang berlawanan\n",
    "not('aku' == 'i' or 1 == 1.1)"
   ]
  },
  {
   "attachments": {},
   "cell_type": "markdown",
   "metadata": {},
   "source": [
    "Conditional\n",
    "\n",
    "if...\n",
    "elif...\n",
    "else..."
   ]
  },
  {
   "cell_type": "code",
   "execution_count": null,
   "metadata": {},
   "outputs": [
    {
     "name": "stdout",
     "output_type": "stream",
     "text": [
      "bener\n"
     ]
    }
   ],
   "source": [
    "if 1 == 1:\n",
    "    print('bener')"
   ]
  },
  {
   "cell_type": "code",
   "execution_count": null,
   "metadata": {},
   "outputs": [
    {
     "name": "stdout",
     "output_type": "stream",
     "text": [
      "salah\n"
     ]
    }
   ],
   "source": [
    "if 1 > 1:\n",
    "    print('bener')\n",
    "else:\n",
    "    print('salah')"
   ]
  },
  {
   "cell_type": "code",
   "execution_count": null,
   "metadata": {},
   "outputs": [],
   "source": [
    "berat = 71"
   ]
  },
  {
   "cell_type": "code",
   "execution_count": null,
   "metadata": {},
   "outputs": [
    {
     "name": "stdout",
     "output_type": "stream",
     "text": [
      "Gemuk\n"
     ]
    }
   ],
   "source": [
    "if berat <= 62:\n",
    "    print('Kurus lu')\n",
    "elif 62 < berat <= 68:\n",
    "    print('Ideal')\n",
    "else:\n",
    "    print('Gemuk')"
   ]
  },
  {
   "cell_type": "code",
   "execution_count": null,
   "metadata": {},
   "outputs": [],
   "source": [
    "lebar = 49"
   ]
  },
  {
   "cell_type": "code",
   "execution_count": null,
   "metadata": {},
   "outputs": [
    {
     "name": "stdout",
     "output_type": "stream",
     "text": [
      "M\n"
     ]
    }
   ],
   "source": [
    "if 45 <= lebar <=48:\n",
    "    print('S')\n",
    "elif 48 < lebar <= 50:\n",
    "    print('M')\n",
    "elif 50 < lebar <= 52:\n",
    "    print('L')\n",
    "elif 52 < lebar <= 54:\n",
    "    print('XL')\n",
    "else:\n",
    "    print('ukuran khusus')"
   ]
  },
  {
   "attachments": {},
   "cell_type": "markdown",
   "metadata": {},
   "source": [
    "**For Loops**   \n",
    "digunakan untuk melakukan iterasi (melewati elemen satu per satu)  \n",
    "hampir semua objek di Python bisa diiterasi (iterable)  \n",
    "  \n",
    "  Aturan penulisan:  \n",
    "   \n",
    "for item in item:  \n",
    "eksekusi perintah"
   ]
  },
  {
   "cell_type": "code",
   "execution_count": null,
   "metadata": {},
   "outputs": [
    {
     "name": "stdout",
     "output_type": "stream",
     "text": [
      "s\n",
      "a\n",
      "y\n",
      "a\n",
      " \n",
      "s\n",
      "e\n",
      "d\n",
      "a\n",
      "n\n",
      "g\n",
      " \n",
      "b\n",
      "e\n",
      "l\n",
      "a\n",
      "j\n",
      "a\n",
      "r\n",
      " \n",
      "P\n",
      "y\n",
      "t\n",
      "h\n",
      "o\n",
      "n\n"
     ]
    }
   ],
   "source": [
    "# For untuk sebuah String\n",
    "for i in 'saya sedang belajar Python':\n",
    "    print(i)"
   ]
  },
  {
   "cell_type": "code",
   "execution_count": null,
   "metadata": {},
   "outputs": [
    {
     "name": "stdout",
     "output_type": "stream",
     "text": [
      "saya sedang belajar Python"
     ]
    }
   ],
   "source": [
    "# For untuk sebuah String\n",
    "for i in 'saya sedang belajar Python':\n",
    "    print(i, end='') #menambahkan methot end agar iterasi dilakukan ke kanan bukan kebawah"
   ]
  },
  {
   "cell_type": "code",
   "execution_count": null,
   "metadata": {},
   "outputs": [],
   "source": [
    "# For dengan List\n",
    "list = [1, 2, 3, 4, 5, 6, 7, 8, 9, 10]"
   ]
  },
  {
   "cell_type": "code",
   "execution_count": null,
   "metadata": {},
   "outputs": [],
   "source": [
    "jumlah = 0 # Membuat variabel interger"
   ]
  },
  {
   "cell_type": "code",
   "execution_count": null,
   "metadata": {},
   "outputs": [
    {
     "name": "stdout",
     "output_type": "stream",
     "text": [
      "Hasil penjumlahan pada iterator ke-1 adalah 1\n",
      "Hasil penjumlahan pada iterator ke-2 adalah 3\n",
      "Hasil penjumlahan pada iterator ke-3 adalah 6\n",
      "Hasil penjumlahan pada iterator ke-4 adalah 10\n",
      "Hasil penjumlahan pada iterator ke-5 adalah 15\n",
      "Hasil penjumlahan pada iterator ke-6 adalah 21\n",
      "Hasil penjumlahan pada iterator ke-7 adalah 28\n",
      "Hasil penjumlahan pada iterator ke-8 adalah 36\n",
      "Hasil penjumlahan pada iterator ke-9 adalah 45\n",
      "Hasil penjumlahan pada iterator ke-10 adalah 55\n"
     ]
    }
   ],
   "source": [
    "for item in list:\n",
    "    jumlah = item + jumlah\n",
    "    print('Hasil penjumlahan pada iterator ke-{} adalah {}'.format(item, jumlah))"
   ]
  },
  {
   "cell_type": "code",
   "execution_count": null,
   "metadata": {},
   "outputs": [
    {
     "name": "stdout",
     "output_type": "stream",
     "text": [
      "Hasil penjumlahan total adalah 110\n"
     ]
    }
   ],
   "source": [
    "for item in list:\n",
    "    jumlah = item + jumlah    \n",
    "print('Hasil penjumlahan total adalah', jumlah)"
   ]
  },
  {
   "attachments": {},
   "cell_type": "markdown",
   "metadata": {},
   "source": [
    "**Looping dan Condictional**"
   ]
  },
  {
   "cell_type": "code",
   "execution_count": null,
   "metadata": {},
   "outputs": [
    {
     "name": "stdout",
     "output_type": "stream",
     "text": [
      "Kamu sedang berada di huruf A, pada index ke-2\n",
      "Kamu sedang berada di huruf A, pada index ke-4\n",
      "Kamu sedang berada di huruf A, pada index ke-9\n",
      "Kamu sedang berada di huruf A, pada index ke-16\n",
      "Kamu sedang berada di huruf A, pada index ke-18\n"
     ]
    }
   ],
   "source": [
    "jumlah = 0\n",
    "for i in 'saya sedang belajar Python':\n",
    "    jumlah += 1\n",
    "    if (i == 'a'):\n",
    "        print('Kamu sedang berada di huruf A, pada index ke-'+ str(jumlah))"
   ]
  },
  {
   "cell_type": "code",
   "execution_count": null,
   "metadata": {},
   "outputs": [
    {
     "data": {
      "text/plain": [
       "0"
      ]
     },
     "execution_count": 4,
     "metadata": {},
     "output_type": "execute_result"
    }
   ],
   "source": [
    "6%2"
   ]
  },
  {
   "attachments": {},
   "cell_type": "markdown",
   "metadata": {},
   "source": [
    "Tantangan"
   ]
  },
  {
   "cell_type": "code",
   "execution_count": null,
   "metadata": {},
   "outputs": [
    {
     "name": "stdout",
     "output_type": "stream",
     "text": [
      "1 merupakan angka ganjil\n",
      "2 merupakan angka genap\n",
      "3 merupakan angka ganjil\n",
      "4 merupakan angka genap\n",
      "5 merupakan angka ganjil\n",
      "6 merupakan angka genap\n",
      "7 merupakan angka ganjil\n",
      "8 merupakan angka genap\n",
      "9 merupakan angka ganjil\n",
      "10 merupakan angka genap\n"
     ]
    }
   ],
   "source": [
    "angka = [1, 2, 3, 4, 5, 6, 7, 8, 9, 10]\n",
    "\n",
    "for i in angka:\n",
    "    if (i % 2 == 0):\n",
    "       print('{} merupakan angka genap'.format(i))\n",
    "    else:\n",
    "        print('{} merupakan angka ganjil'.format(i)) "
   ]
  },
  {
   "attachments": {},
   "cell_type": "markdown",
   "metadata": {},
   "source": [
    "For loop dengan Tuple dan List multiple items"
   ]
  },
  {
   "cell_type": "code",
   "execution_count": null,
   "metadata": {},
   "outputs": [],
   "source": [
    "box1 = ((1, 2, 3), (4, 5, 6), (7, 8, 9))"
   ]
  },
  {
   "cell_type": "code",
   "execution_count": null,
   "metadata": {},
   "outputs": [
    {
     "name": "stdout",
     "output_type": "stream",
     "text": [
      "(1, 2, 3)\n",
      "(4, 5, 6)\n",
      "(7, 8, 9)\n"
     ]
    }
   ],
   "source": [
    "for i in box1:\n",
    "    print(i)"
   ]
  },
  {
   "cell_type": "code",
   "execution_count": null,
   "metadata": {},
   "outputs": [
    {
     "name": "stdout",
     "output_type": "stream",
     "text": [
      "1 2 3\n",
      "2\n",
      "3\n",
      "4 5 6\n",
      "5\n",
      "6\n",
      "7 8 9\n",
      "8\n",
      "9\n"
     ]
    }
   ],
   "source": [
    "for a, b, c in box1:\n",
    "    print(a, b, c)\n",
    "    print(b)\n",
    "    print(c)"
   ]
  },
  {
   "attachments": {},
   "cell_type": "markdown",
   "metadata": {},
   "source": [
    "Catatan  \n",
    "Jumlah iterasi harus sama dengan jumlah item dan sebaliknya"
   ]
  },
  {
   "attachments": {},
   "cell_type": "markdown",
   "metadata": {},
   "source": [
    "**While Loop**"
   ]
  },
  {
   "attachments": {},
   "cell_type": "markdown",
   "metadata": {},
   "source": [
    "Terdapat 3 argumen yang biasa digunakan:  \n",
    "break = menghentikan Looping  \n",
    "continue = melanjutkan Looping ke iterator selanjutnya dan melewati iterator saat ini  \n",
    "pass = tidak melakukan apa-apa\n"
   ]
  },
  {
   "cell_type": "code",
   "execution_count": null,
   "metadata": {},
   "outputs": [
    {
     "name": "stdout",
     "output_type": "stream",
     "text": [
      "Saya berhasil menjalankan while loop\n",
      "Saya berhasil menjalankan while loop\n",
      "Saya berhasil menjalankan while loop\n",
      "Saya berhasil menjalankan while loop\n",
      "Saya berhasil menjalankan while loop\n",
      "Saya berhasil menjalankan while loop\n",
      "Saya berhasil menjalankan while loop\n",
      "Saya berhasil menjalankan while loop\n",
      "Saya berhasil menjalankan while loop\n",
      "Saya berhasil menjalankan while loop\n"
     ]
    }
   ],
   "source": [
    "# Perintah while loop dengan if \n",
    "index = 0\n",
    "while True: \n",
    "    print('Saya berhasil menjalankan while loop')\n",
    "    index += 1\n",
    "    if index == 10:\n",
    "        break\n",
    "    "
   ]
  },
  {
   "cell_type": "code",
   "execution_count": null,
   "metadata": {},
   "outputs": [
    {
     "name": "stdout",
     "output_type": "stream",
     "text": [
      "bilangan x saat ini bernilai 1\n",
      "bilangan x saat ini bernilai 2\n",
      "bilangan x saat ini bernilai 3\n",
      "bilangan x saat ini bernilai 4\n",
      "bilangan x saat ini bernilai 5\n"
     ]
    }
   ],
   "source": [
    "x = 1\n",
    "while x <= 5:\n",
    "    print('bilangan x saat ini bernilai', x)\n",
    "    x += 1"
   ]
  },
  {
   "cell_type": "code",
   "execution_count": null,
   "metadata": {},
   "outputs": [
    {
     "name": "stdout",
     "output_type": "stream",
     "text": [
      "kamu sedang berada di angka ganjil  1\n",
      "kamu sedang berada di angka ganjil  3\n",
      "kamu sedang berada di angka ganjil  5\n",
      "kamu sedang berada di angka ganjil  7\n",
      "kamu sedang berada di angka ganjil  9\n"
     ]
    }
   ],
   "source": [
    "list_angka = [1, 2, 3, 4, 5, 6, 7, 8, 9, 10]\n",
    "for i in list_angka:\n",
    "    if i % 2 == 0:\n",
    "        continue\n",
    "    else:\n",
    "        print('kamu sedang berada di angka ganjil ', i)"
   ]
  },
  {
   "cell_type": "code",
   "execution_count": null,
   "metadata": {},
   "outputs": [
    {
     "name": "stdout",
     "output_type": "stream",
     "text": [
      "s\n",
      "a\n",
      "y\n",
      "a\n",
      " \n",
      "s\n",
      "u\n",
      "d\n",
      "a\n",
      "h\n",
      " \n",
      "m\n"
     ]
    }
   ],
   "source": [
    "for i in 'saya sudah mulai mahir python':\n",
    "    print(i)\n",
    "    if i == 'm':\n",
    "        break\n"
   ]
  },
  {
   "cell_type": "code",
   "execution_count": null,
   "metadata": {},
   "outputs": [
    {
     "name": "stdout",
     "output_type": "stream",
     "text": [
      "s\n",
      "y\n",
      "s\n",
      "u\n",
      "d\n",
      "h\n",
      "m\n",
      "u\n",
      "l\n",
      "i\n",
      "m\n",
      "h\n",
      "i\n",
      "r\n",
      "p\n",
      "y\n",
      "t\n",
      "h\n",
      "o\n",
      "n\n"
     ]
    }
   ],
   "source": [
    "for i in 'saya sudah mulai mahir python':\n",
    "    if i == 'a' or i == ' ':\n",
    "        continue\n",
    "    else:\n",
    "        print(i)"
   ]
  },
  {
   "attachments": {},
   "cell_type": "markdown",
   "metadata": {},
   "source": [
    "Range"
   ]
  },
  {
   "cell_type": "code",
   "execution_count": null,
   "metadata": {},
   "outputs": [
    {
     "name": "stdout",
     "output_type": "stream",
     "text": [
      "0\n",
      "1\n",
      "2\n",
      "3\n",
      "4\n",
      "5\n",
      "6\n",
      "7\n",
      "8\n",
      "9\n"
     ]
    }
   ],
   "source": [
    "# Melakukan for loop angka 0 sampai 10\n",
    "for i in range(0,10):\n",
    "    print(i)"
   ]
  },
  {
   "cell_type": "code",
   "execution_count": null,
   "metadata": {},
   "outputs": [
    {
     "name": "stdout",
     "output_type": "stream",
     "text": [
      "0\n",
      "2\n",
      "4\n",
      "6\n",
      "8\n"
     ]
    }
   ],
   "source": [
    "# Melakukan foor loop angka 0 sampai 10 dengan lompatan 2 angka\n",
    "for i in range(0, 10, 2): # Formatnya (nilai awal, nilai anghir, jumlah angka yang dilewati)\n",
    "    print(i)"
   ]
  },
  {
   "cell_type": "code",
   "execution_count": null,
   "metadata": {},
   "outputs": [],
   "source": [
    "# Membuat list dengan range\n",
    "angka1 = [1, 2, 3, 4, 5, 6, 7, 8, 9, 10]\n",
    "angka2 = list(range(1,11))"
   ]
  },
  {
   "cell_type": "code",
   "execution_count": null,
   "metadata": {},
   "outputs": [
    {
     "name": "stdout",
     "output_type": "stream",
     "text": [
      "[1, 2, 3, 4, 5, 6, 7, 8, 9, 10]\n",
      "[1, 2, 3, 4, 5, 6, 7, 8, 9, 10]\n"
     ]
    }
   ],
   "source": [
    "print(angka1)\n",
    "print(angka2)"
   ]
  },
  {
   "attachments": {},
   "cell_type": "markdown",
   "metadata": {},
   "source": [
    "Tips  \n",
    "Cara diatas juga bisa untuk membuat list angkat dengan lompatan"
   ]
  },
  {
   "cell_type": "code",
   "execution_count": null,
   "metadata": {},
   "outputs": [],
   "source": [
    "angka3 = list(range(10,101,10))"
   ]
  },
  {
   "cell_type": "code",
   "execution_count": null,
   "metadata": {},
   "outputs": [
    {
     "data": {
      "text/plain": [
       "[10, 20, 30, 40, 50, 60, 70, 80, 90, 100]"
      ]
     },
     "execution_count": 36,
     "metadata": {},
     "output_type": "execute_result"
    }
   ],
   "source": [
    "angka3"
   ]
  },
  {
   "attachments": {},
   "cell_type": "markdown",
   "metadata": {},
   "source": [
    "Enumerate"
   ]
  },
  {
   "cell_type": "code",
   "execution_count": null,
   "metadata": {},
   "outputs": [
    {
     "name": "stdout",
     "output_type": "stream",
     "text": [
      "(0, 'a')\n",
      "(1, 'b')\n",
      "(2, 'c')\n",
      "(3, 'd')\n",
      "(4, 'e')\n",
      "(5, 'f')\n",
      "(6, 'g')\n",
      "(7, 'h')\n",
      "(8, 'i')\n",
      "(9, 'j')\n",
      "(10, 'k')\n"
     ]
    }
   ],
   "source": [
    "kata = 'abcdefghijk'\n",
    "\n",
    "for i in enumerate(kata):\n",
    "    print(i)"
   ]
  },
  {
   "attachments": {},
   "cell_type": "markdown",
   "metadata": {},
   "source": [
    "karena hasilnya Tuple, maka kita dapat melakukan Tuple unpacking "
   ]
  },
  {
   "cell_type": "code",
   "execution_count": null,
   "metadata": {},
   "outputs": [
    {
     "name": "stdout",
     "output_type": "stream",
     "text": [
      "0\n",
      "a\n",
      "1\n",
      "b\n",
      "2\n",
      "c\n",
      "3\n",
      "d\n",
      "4\n",
      "e\n",
      "5\n",
      "f\n",
      "6\n",
      "g\n",
      "7\n",
      "h\n",
      "8\n",
      "i\n",
      "9\n",
      "j\n",
      "10\n",
      "k\n"
     ]
    }
   ],
   "source": [
    "kata = 'abcdefghijk'\n",
    "\n",
    "for i, j in enumerate(kata):\n",
    "    print(i)\n",
    "    print(j)\n",
    "    "
   ]
  },
  {
   "attachments": {},
   "cell_type": "markdown",
   "metadata": {},
   "source": [
    "Zip"
   ]
  },
  {
   "cell_type": "code",
   "execution_count": null,
   "metadata": {},
   "outputs": [],
   "source": [
    "list1 = [1, 2, 3, 4, 5]\n",
    "list2 = [100, 200, 300, 400, 500]\n",
    "list3 = ['aa', 'bb', 'cc', 'dd', 'ee']"
   ]
  },
  {
   "cell_type": "code",
   "execution_count": null,
   "metadata": {},
   "outputs": [],
   "source": [
    "# Menggunakan list untuk menggabungkan item pada index yang sama di dua variabel menjadi tuple\n",
    "list4 = list(zip(list1, list2, list3))"
   ]
  },
  {
   "cell_type": "code",
   "execution_count": null,
   "metadata": {},
   "outputs": [
    {
     "data": {
      "text/plain": [
       "[(1, 100, 'aa'),\n",
       " (2, 200, 'bb'),\n",
       " (3, 300, 'cc'),\n",
       " (4, 400, 'dd'),\n",
       " (5, 500, 'ee')]"
      ]
     },
     "execution_count": 49,
     "metadata": {},
     "output_type": "execute_result"
    }
   ],
   "source": [
    "list4"
   ]
  },
  {
   "cell_type": "code",
   "execution_count": null,
   "metadata": {},
   "outputs": [
    {
     "name": "stdout",
     "output_type": "stream",
     "text": [
      "(1, 100, 'aa')\n",
      "(2, 200, 'bb')\n",
      "(3, 300, 'cc')\n",
      "(4, 400, 'dd')\n",
      "(5, 500, 'ee')\n"
     ]
    }
   ],
   "source": [
    "for i in zip(list1, list2, list3):\n",
    "    print(i)"
   ]
  },
  {
   "attachments": {},
   "cell_type": "markdown",
   "metadata": {},
   "source": [
    "Catatan  \n",
    "Enumerate dan Zip menghasilkan data Tuple yang berarti tidak dapat diganti kecuali melakukan resignment"
   ]
  },
  {
   "attachments": {},
   "cell_type": "markdown",
   "metadata": {},
   "source": [
    "Item Checking"
   ]
  },
  {
   "cell_type": "code",
   "execution_count": null,
   "metadata": {},
   "outputs": [
    {
     "data": {
      "text/plain": [
       "True"
      ]
     },
     "execution_count": 54,
     "metadata": {},
     "output_type": "execute_result"
    }
   ],
   "source": [
    "# Melakukan pengecekan karakter pada String\n",
    "'h' in 'alim ilman nurhadi'"
   ]
  },
  {
   "cell_type": "code",
   "execution_count": null,
   "metadata": {},
   "outputs": [
    {
     "data": {
      "text/plain": [
       "False"
      ]
     },
     "execution_count": 53,
     "metadata": {},
     "output_type": "execute_result"
    }
   ],
   "source": [
    "'z' in 'alim ilman nurhadi'"
   ]
  },
  {
   "cell_type": "code",
   "execution_count": null,
   "metadata": {},
   "outputs": [],
   "source": [
    "dict1 = {'a':1, 'b':2, 'c':3}"
   ]
  },
  {
   "cell_type": "code",
   "execution_count": null,
   "metadata": {},
   "outputs": [
    {
     "data": {
      "text/plain": [
       "True"
      ]
     },
     "execution_count": 57,
     "metadata": {},
     "output_type": "execute_result"
    }
   ],
   "source": [
    "'a' in dict1"
   ]
  },
  {
   "attachments": {},
   "cell_type": "markdown",
   "metadata": {},
   "source": [
    "**Looping Tingkat Lanjut**  "
   ]
  },
  {
   "cell_type": "code",
   "execution_count": null,
   "metadata": {},
   "outputs": [],
   "source": [
    "# Membuat List dengan angka 1 sampai 10\n",
    "list1 = list(range(0, 11))\n",
    "\n",
    "list2 = []\n",
    "for item in range(0, 11):\n",
    "    list2.append(item) "
   ]
  },
  {
   "cell_type": "code",
   "execution_count": null,
   "metadata": {},
   "outputs": [
    {
     "name": "stdout",
     "output_type": "stream",
     "text": [
      "[0, 1, 2, 3, 4, 5, 6, 7, 8, 9, 10]\n",
      "[0, 1, 2, 3, 4, 5, 6, 7, 8, 9, 10]\n"
     ]
    }
   ],
   "source": [
    "print(list1)\n",
    "print(list2)"
   ]
  },
  {
   "attachments": {},
   "cell_type": "markdown",
   "metadata": {},
   "source": [
    "List Comprehension"
   ]
  },
  {
   "cell_type": "code",
   "execution_count": null,
   "metadata": {},
   "outputs": [],
   "source": [
    "list3 = [item for item in range(0, 11)]"
   ]
  },
  {
   "cell_type": "code",
   "execution_count": null,
   "metadata": {},
   "outputs": [
    {
     "data": {
      "text/plain": [
       "[0, 1, 2, 3, 4, 5, 6, 7, 8, 9, 10]"
      ]
     },
     "execution_count": 62,
     "metadata": {},
     "output_type": "execute_result"
    }
   ],
   "source": [
    "list3"
   ]
  },
  {
   "attachments": {},
   "cell_type": "markdown",
   "metadata": {},
   "source": [
    "Catatan  \n",
    "list3 memiliki nilai yang sama namun dengan cara yg berbedan,  \n",
    "cara tersebut memiliki kelebihan dapat dilakukan proses aritmatika"
   ]
  },
  {
   "cell_type": "code",
   "execution_count": null,
   "metadata": {},
   "outputs": [],
   "source": [
    "list4 = [(item*10) for item in range(0, 11)] # Aritamatika dilakukan dalam kurung agar Pythonic"
   ]
  },
  {
   "cell_type": "code",
   "execution_count": null,
   "metadata": {},
   "outputs": [
    {
     "data": {
      "text/plain": [
       "[0, 10, 20, 30, 40, 50, 60, 70, 80, 90, 100]"
      ]
     },
     "execution_count": 73,
     "metadata": {},
     "output_type": "execute_result"
    }
   ],
   "source": [
    "list4"
   ]
  },
  {
   "cell_type": "code",
   "execution_count": null,
   "metadata": {},
   "outputs": [
    {
     "data": {
      "text/plain": [
       "[0, 2, 4, 6, 8, 10, 12, 14, 16, 18]"
      ]
     },
     "execution_count": 78,
     "metadata": {},
     "output_type": "execute_result"
    }
   ],
   "source": [
    "# Menggunakan If\n",
    "list5 = [item for item in range(0,20) if item % 2 == 0]\n",
    "list5"
   ]
  },
  {
   "cell_type": "code",
   "execution_count": null,
   "metadata": {},
   "outputs": [
    {
     "data": {
      "text/plain": [
       "['Merupakan angka ganjil',\n",
       " 2,\n",
       " 'Merupakan angka ganjil',\n",
       " 4,\n",
       " 'Merupakan angka ganjil',\n",
       " 6,\n",
       " 'Merupakan angka ganjil',\n",
       " 8,\n",
       " 'Merupakan angka ganjil',\n",
       " 10,\n",
       " 'Merupakan angka ganjil',\n",
       " 12,\n",
       " 'Merupakan angka ganjil',\n",
       " 14,\n",
       " 'Merupakan angka ganjil',\n",
       " 16,\n",
       " 'Merupakan angka ganjil',\n",
       " 18,\n",
       " 'Merupakan angka ganjil']"
      ]
     },
     "execution_count": 85,
     "metadata": {},
     "output_type": "execute_result"
    }
   ],
   "source": [
    "# Menggunakan If Else\n",
    "list6 = [item if item % 2 == 0 else 'Merupakan angka ganjil' for item in range(1, 20)]\n",
    "list6"
   ]
  },
  {
   "cell_type": "code",
   "execution_count": null,
   "metadata": {},
   "outputs": [
    {
     "data": {
      "text/plain": [
       "['ini adalah angka ganjil',\n",
       " 2,\n",
       " 'ini adalah angka ganjil',\n",
       " 4,\n",
       " 'ini adalah angka ganjil',\n",
       " 6,\n",
       " 'ini adalah angka ganjil',\n",
       " 8,\n",
       " 'ini adalah angka ganjil',\n",
       " 10]"
      ]
     },
     "execution_count": 91,
     "metadata": {},
     "output_type": "execute_result"
    }
   ],
   "source": [
    "list7 = []\n",
    "for item in range(1,11):\n",
    "    if item % 2 == 0:\n",
    "        list7.append(item)\n",
    "    else:\n",
    "        list7.append('ini adalah angka ganjil')\n",
    "list7"
   ]
  },
  {
   "cell_type": "code",
   "execution_count": null,
   "metadata": {},
   "outputs": [
    {
     "data": {
      "text/plain": [
       "['ini adalah bilangan ganjil',\n",
       " 2,\n",
       " 'ini adalah bilangan ganjil',\n",
       " 4,\n",
       " 'ini adalah bilangan ganjil',\n",
       " 6,\n",
       " 'ini adalah bilangan ganjil',\n",
       " 8,\n",
       " 'ini adalah bilangan ganjil',\n",
       " 10]"
      ]
     },
     "execution_count": 103,
     "metadata": {},
     "output_type": "execute_result"
    }
   ],
   "source": [
    "list8 = []\n",
    "for item in range(1, 11):\n",
    "    if item % 2 == 0:\n",
    "        list8.append(item)\n",
    "    else:\n",
    "        list8.append('ini adalah bilangan ganjil')\n",
    "list8"
   ]
  },
  {
   "attachments": {},
   "cell_type": "markdown",
   "metadata": {},
   "source": [
    "**Function**  \n",
    "Blok kode terorganisir dan dapat digunakan kembali yang digunakan untuk melakukan sebuah tindakan/action  \n",
    "  \n",
    "def nama_fungsi(variabel):   \n",
    "'''  \n",
    "Docstring = sebuah komentar  \n",
    "'''  \n",
    "    *perintah yang diinginkan*  \n",
    "    *return/print*  \n",
    "\n",
    "return = mendefinisikan hasil fungsi ke variabel  \n",
    "print  = mencetak hasil dari fungsi"
   ]
  },
  {
   "cell_type": "code",
   "execution_count": null,
   "metadata": {},
   "outputs": [],
   "source": [
    "def cetak_kata():\n",
    "    print('belajar python itu mudah')"
   ]
  },
  {
   "cell_type": "code",
   "execution_count": null,
   "metadata": {},
   "outputs": [
    {
     "name": "stdout",
     "output_type": "stream",
     "text": [
      "belajar python itu mudah\n"
     ]
    }
   ],
   "source": [
    "cetak_kata()"
   ]
  },
  {
   "cell_type": "code",
   "execution_count": null,
   "metadata": {},
   "outputs": [],
   "source": [
    "def perkalian(num1, num2):\n",
    "    return num1 * num2 "
   ]
  },
  {
   "cell_type": "code",
   "execution_count": null,
   "metadata": {},
   "outputs": [],
   "source": [
    "hasil = perkalian(5, 6)"
   ]
  },
  {
   "cell_type": "code",
   "execution_count": null,
   "metadata": {},
   "outputs": [
    {
     "data": {
      "text/plain": [
       "30"
      ]
     },
     "execution_count": 110,
     "metadata": {},
     "output_type": "execute_result"
    }
   ],
   "source": [
    "# Hasil operasi akan masuk ke variabel\n",
    "hasil"
   ]
  },
  {
   "cell_type": "code",
   "execution_count": null,
   "metadata": {},
   "outputs": [],
   "source": [
    "def perkalian1(num1, num2):\n",
    "    print(num1 * num2)"
   ]
  },
  {
   "cell_type": "code",
   "execution_count": null,
   "metadata": {},
   "outputs": [
    {
     "name": "stdout",
     "output_type": "stream",
     "text": [
      "40\n"
     ]
    }
   ],
   "source": [
    "hasil1 = perkalian1(5,8)"
   ]
  },
  {
   "cell_type": "code",
   "execution_count": null,
   "metadata": {},
   "outputs": [],
   "source": [
    "# Variable tidak memiliki item\n",
    "hasil1"
   ]
  },
  {
   "cell_type": "code",
   "execution_count": null,
   "metadata": {},
   "outputs": [
    {
     "data": {
      "text/plain": [
       "NoneType"
      ]
     },
     "execution_count": 115,
     "metadata": {},
     "output_type": "execute_result"
    }
   ],
   "source": [
    "type(hasil1)"
   ]
  },
  {
   "cell_type": "code",
   "execution_count": null,
   "metadata": {},
   "outputs": [],
   "source": [
    "# Fungsi dengan nama yang default\n",
    "def belajar(mata_pelajaran = 'Python'):\n",
    "    print('Saya sedang belajar {}'.format(mata_pelajaran))\n"
   ]
  },
  {
   "cell_type": "code",
   "execution_count": null,
   "metadata": {},
   "outputs": [
    {
     "name": "stdout",
     "output_type": "stream",
     "text": [
      "Saya sedang belajar Python\n"
     ]
    }
   ],
   "source": [
    "# Jika tidak mengisi mata pelajaran maka akan keluar nama yang default\n",
    "belajar()"
   ]
  },
  {
   "cell_type": "code",
   "execution_count": null,
   "metadata": {},
   "outputs": [
    {
     "name": "stdout",
     "output_type": "stream",
     "text": [
      "Saya sedang belajar IPA\n"
     ]
    }
   ],
   "source": [
    "belajar('IPA')"
   ]
  },
  {
   "cell_type": "code",
   "execution_count": null,
   "metadata": {},
   "outputs": [],
   "source": [
    "def angka_apa(var):\n",
    "    '''\n",
    "    ini adalah function untuk mengetahui ganjil dan genapnya sebuah bilangan\n",
    "    '''\n",
    "    if (var % 2 == 0):\n",
    "        print(var,' adalah angka genap')\n",
    "    else:\n",
    "        print(var, 'adalah angka ganjil')"
   ]
  },
  {
   "cell_type": "code",
   "execution_count": null,
   "metadata": {},
   "outputs": [
    {
     "name": "stdout",
     "output_type": "stream",
     "text": [
      "88  adalah angka genap\n"
     ]
    }
   ],
   "source": [
    "angka_apa(88)"
   ]
  },
  {
   "attachments": {},
   "cell_type": "markdown",
   "metadata": {},
   "source": [
    "Fungsi menerima masukan (input())"
   ]
  },
  {
   "cell_type": "code",
   "execution_count": null,
   "metadata": {},
   "outputs": [],
   "source": [
    "# Menerima masukan apapun\n",
    "kalimat = input('masukkan kalimat ')"
   ]
  },
  {
   "cell_type": "code",
   "execution_count": null,
   "metadata": {},
   "outputs": [],
   "source": [
    "kalimat"
   ]
  },
  {
   "attachments": {},
   "cell_type": "markdown",
   "metadata": {},
   "source": [
    "Fungsi untuk mendeteksi kata Python dalam sebuah kalimat"
   ]
  },
  {
   "cell_type": "code",
   "execution_count": null,
   "metadata": {},
   "outputs": [],
   "source": [
    "# Fungsi untuk mendeteksi kata Python dalam sebuah kalimat\n",
    "def cari_kata(kata):\n",
    "    '''mencari kata python dalam sebuah kalimat'''\n",
    "    kata1 = kata.split()\n",
    "    if (kata1.count('python') or kata1.count('Python') == 1):\n",
    "        print(\"Terdapat kata 'Python'\")\n",
    "    else:\n",
    "        print(\"Tidak terdapat kata 'Python'\")"
   ]
  },
  {
   "cell_type": "code",
   "execution_count": 175,
   "metadata": {},
   "outputs": [
    {
     "name": "stdout",
     "output_type": "stream",
     "text": [
      "Terdapat kata 'Python'\n"
     ]
    }
   ],
   "source": [
    "cari_kata(kalimat)"
   ]
  },
  {
   "cell_type": "code",
   "execution_count": 148,
   "metadata": {},
   "outputs": [],
   "source": [
    "def cari_kata1(kata2):\n",
    "    kata3 = kata2.lower()\n",
    "    if ('python' in kata3):\n",
    "        print(\"Terdapat kata 'Python'\")\n",
    "    else:\n",
    "        print(\"Tidak terdapat kata 'Pyhton'\")"
   ]
  },
  {
   "cell_type": "code",
   "execution_count": 176,
   "metadata": {},
   "outputs": [
    {
     "name": "stdout",
     "output_type": "stream",
     "text": [
      "Terdapat kata 'Python'\n"
     ]
    }
   ],
   "source": [
    "cari_kata1(kalimat)"
   ]
  },
  {
   "attachments": {},
   "cell_type": "markdown",
   "metadata": {},
   "source": [
    "Versi pak Mega"
   ]
  },
  {
   "cell_type": "code",
   "execution_count": 198,
   "metadata": {},
   "outputs": [],
   "source": [
    "kalimat1 = input('Masukkan kalimat yang diinginkan ')"
   ]
  },
  {
   "cell_type": "code",
   "execution_count": 199,
   "metadata": {},
   "outputs": [
    {
     "data": {
      "text/plain": [
       "'manusia sedang belajar python'"
      ]
     },
     "execution_count": 199,
     "metadata": {},
     "output_type": "execute_result"
    }
   ],
   "source": [
    "kalimat1"
   ]
  },
  {
   "cell_type": "code",
   "execution_count": 200,
   "metadata": {},
   "outputs": [],
   "source": [
    "def deteksi_kata(var):\n",
    "    return 'python'.lower() in var # tanpa perintah True dan False string karena hasil dari fungtion tersebut adalah boolean"
   ]
  },
  {
   "cell_type": "code",
   "execution_count": 201,
   "metadata": {},
   "outputs": [
    {
     "data": {
      "text/plain": [
       "True"
      ]
     },
     "execution_count": 201,
     "metadata": {},
     "output_type": "execute_result"
    }
   ],
   "source": [
    "deteksi_kata(kalimat1)"
   ]
  },
  {
   "attachments": {},
   "cell_type": "markdown",
   "metadata": {},
   "source": [
    "*Args dan **Kwargs  \n",
    "  \n",
    "*Args akan membuat parameter menjadi tuple.  \n",
    "**Kwargs akan membuat parameter menjadi dictionary."
   ]
  },
  {
   "cell_type": "code",
   "execution_count": 202,
   "metadata": {},
   "outputs": [],
   "source": [
    "def nama(*nama):\n",
    "    print('nama-nama yang tersimpan adalah ', nama)"
   ]
  },
  {
   "cell_type": "code",
   "execution_count": 203,
   "metadata": {},
   "outputs": [
    {
     "name": "stdout",
     "output_type": "stream",
     "text": [
      "nama-nama yang tersimpan adalah  ('alim', 'ilman', 'nurhadi', 'joko', 'kadal')\n"
     ]
    }
   ],
   "source": [
    "nama('alim', 'ilman', 'nurhadi', 'joko', 'kadal')"
   ]
  },
  {
   "attachments": {},
   "cell_type": "markdown",
   "metadata": {},
   "source": [
    "hasilnya akan menjadi tuple, sehingga dapat dilakukan iterasi "
   ]
  },
  {
   "cell_type": "code",
   "execution_count": 211,
   "metadata": {},
   "outputs": [],
   "source": [
    "def nama1(*nama):\n",
    "    print('Nama yang tersimpan :')\n",
    "    for item in nama:\n",
    "        print(item)"
   ]
  },
  {
   "cell_type": "code",
   "execution_count": 212,
   "metadata": {},
   "outputs": [
    {
     "name": "stdout",
     "output_type": "stream",
     "text": [
      "Nama yang tersimpan :\n",
      "alim\n",
      "ilman\n",
      "nurhadi\n"
     ]
    }
   ],
   "source": [
    "nama1('alim', 'ilman', 'nurhadi')"
   ]
  },
  {
   "cell_type": "code",
   "execution_count": 220,
   "metadata": {},
   "outputs": [
    {
     "data": {
      "text/plain": [
       "6"
      ]
     },
     "execution_count": 220,
     "metadata": {},
     "output_type": "execute_result"
    }
   ],
   "source": [
    "# Function sum berguna untuk melakukan penambahan kepada data interger \n",
    "# dengan type yang dapat diiterasi seperti tuple dan list\n",
    "sum((1, 2, 3))"
   ]
  },
  {
   "cell_type": "code",
   "execution_count": 218,
   "metadata": {},
   "outputs": [],
   "source": [
    "def penambahan(*angka):\n",
    "    return sum(angka)"
   ]
  },
  {
   "cell_type": "code",
   "execution_count": 221,
   "metadata": {},
   "outputs": [
    {
     "data": {
      "text/plain": [
       "60"
      ]
     },
     "execution_count": 221,
     "metadata": {},
     "output_type": "execute_result"
    }
   ],
   "source": [
    "penambahan(10, 20, 30)"
   ]
  },
  {
   "cell_type": "code",
   "execution_count": 222,
   "metadata": {},
   "outputs": [],
   "source": [
    "def bio(**data):\n",
    "    print(data)"
   ]
  },
  {
   "cell_type": "code",
   "execution_count": 224,
   "metadata": {},
   "outputs": [
    {
     "name": "stdout",
     "output_type": "stream",
     "text": [
      "{'nama': 'alim ilman nurhadi', 'tempat_lahir': 'merauke', 'tanggal_lahir': '010800'}\n"
     ]
    }
   ],
   "source": [
    "bio(nama = 'alim ilman nurhadi', tempat_lahir = 'merauke', tanggal_lahir = '010800')"
   ]
  },
  {
   "attachments": {},
   "cell_type": "markdown",
   "metadata": {},
   "source": [
    "hasilnya akan menjadi dictionary"
   ]
  },
  {
   "cell_type": "code",
   "execution_count": 227,
   "metadata": {},
   "outputs": [],
   "source": [
    "def cek_berat(**kwargs):\n",
    "    if (kwargs['berat'] == 'gemuk'):\n",
    "        print('kamu gemuk')\n",
    "    else:\n",
    "        print('kurus')"
   ]
  },
  {
   "cell_type": "code",
   "execution_count": 231,
   "metadata": {},
   "outputs": [
    {
     "name": "stdout",
     "output_type": "stream",
     "text": [
      "kamu gemuk\n"
     ]
    }
   ],
   "source": [
    "cek_berat(berat='gemuk')"
   ]
  },
  {
   "attachments": {},
   "cell_type": "markdown",
   "metadata": {},
   "source": [
    "Menggabungkan *args dan **kwargs"
   ]
  },
  {
   "cell_type": "code",
   "execution_count": 237,
   "metadata": {},
   "outputs": [],
   "source": [
    "def fungsiku(*args, **kwargs):\n",
    "    print('Saya ingin membeli {} {} secara tunai'.format(args[0], kwargs['makanan']))\n",
    "    print(args, kwargs)"
   ]
  },
  {
   "cell_type": "code",
   "execution_count": 239,
   "metadata": {},
   "outputs": [
    {
     "name": "stdout",
     "output_type": "stream",
     "text": [
      "Saya ingin membeli 24 roti secara tunai\n",
      "(24, 21) {'makanan': 'roti', 'minuman': 'es teh'}\n"
     ]
    }
   ],
   "source": [
    "fungsiku(24, 21, makanan='roti', minuman='es teh')"
   ]
  },
  {
   "attachments": {},
   "cell_type": "markdown",
   "metadata": {},
   "source": [
    "**Memahami Scope dan LEGB**"
   ]
  },
  {
   "attachments": {},
   "cell_type": "markdown",
   "metadata": {},
   "source": [
    "1. Local (or function) scope adalah lingkup di dalam fungsi yang hanya dapat diakses oleh kode di dalam fungsi tersebut.  \n",
    "variabel yang bersifat lokak dan berada di dalam fungsi def/lambda tertentu  \n",
    "2. Enclosing (or nonlocal) scope adalah lingkup di dalam fungsi bersarang yang dapat diakses oleh kode di dalam fungsi bersarang tersebut dan juga oleh fungsi terlampir.  \n",
    "variabel yang berada di dalam fungsi def/lambda mulai dari lingkup terdalam hingga terluar  \n",
    "3. Global (or module) scope adalah lingkup di luar fungsi yang dapat diakses oleh semua kode di dalam program, skrip, atau modul.  \n",
    "variabel yang memiliki defenisi di luar, biasanya di tahap awal.  \n",
    "4. Built-in scope adalah lingkup yang dibuat oleh Python secara otomatis saat program dijalankan yang berisi nama-nama seperti kata kunci, fungsi, pengecualian, dan atribut lain yang dibangun ke dalam Python.  \n",
    "Variabel bawan Python, seperti str, list, upper, dan lain-lain"
   ]
  },
  {
   "attachments": {},
   "cell_type": "markdown",
   "metadata": {},
   "source": [
    "Catatan  \n",
    "Python adalah procedural programming languages yang berarti membaca line demi line "
   ]
  },
  {
   "cell_type": "code",
   "execution_count": 248,
   "metadata": {},
   "outputs": [],
   "source": [
    "kalimat = 'saya adalah GLOBAL'\n",
    "\n",
    "def cetak():\n",
    "    kalimat = 'saya adalah ENCLOSING'\n",
    "    \n",
    "    def eksekusi():\n",
    "        kalimat = 'saya adalah LOCAL'\n",
    "        print('Halo hasilnnya ...', kalimat)\n",
    "    eksekusi()"
   ]
  },
  {
   "cell_type": "code",
   "execution_count": 249,
   "metadata": {},
   "outputs": [
    {
     "name": "stdout",
     "output_type": "stream",
     "text": [
      "Halo hasilnnya ... saya adalah LOCAL\n"
     ]
    }
   ],
   "source": [
    "cetak()"
   ]
  },
  {
   "cell_type": "code",
   "execution_count": 261,
   "metadata": {},
   "outputs": [],
   "source": [
    "angka = 89\n",
    "\n",
    "def tulis(angka):\n",
    "    \n",
    "    # Mendefinisikan ulang sebuah variabel global di fungsi\n",
    "    angka = 'GANTI LO'\n",
    "    print(f'ini adalang isi dari angka = {angka}')"
   ]
  },
  {
   "cell_type": "code",
   "execution_count": 260,
   "metadata": {},
   "outputs": [
    {
     "name": "stdout",
     "output_type": "stream",
     "text": [
      "ini adalang isi dari angka = 89\n"
     ]
    }
   ],
   "source": [
    "tulis(angka) # Ini merupakan variabel angka yang Enclosing"
   ]
  },
  {
   "cell_type": "code",
   "execution_count": 258,
   "metadata": {},
   "outputs": [
    {
     "data": {
      "text/plain": [
       "89"
      ]
     },
     "execution_count": 258,
     "metadata": {},
     "output_type": "execute_result"
    }
   ],
   "source": [
    "angka # Ini merupakan variabel angka yang Global"
   ]
  },
  {
   "attachments": {},
   "cell_type": "markdown",
   "metadata": {},
   "source": [
    "**Map**"
   ]
  },
  {
   "cell_type": "code",
   "execution_count": 262,
   "metadata": {},
   "outputs": [],
   "source": [
    "def kali10(num):\n",
    "    return num*10"
   ]
  },
  {
   "cell_type": "code",
   "execution_count": 264,
   "metadata": {},
   "outputs": [
    {
     "data": {
      "text/plain": [
       "100"
      ]
     },
     "execution_count": 264,
     "metadata": {},
     "output_type": "execute_result"
    }
   ],
   "source": [
    "kali10(10) "
   ]
  },
  {
   "attachments": {},
   "cell_type": "markdown",
   "metadata": {},
   "source": [
    "function diatas hanya bisa dilakukan dengan satu item saja, jika dengan map "
   ]
  },
  {
   "cell_type": "code",
   "execution_count": 265,
   "metadata": {},
   "outputs": [],
   "source": [
    "angka = (1, 2, 3)"
   ]
  },
  {
   "cell_type": "code",
   "execution_count": 272,
   "metadata": {},
   "outputs": [
    {
     "data": {
      "text/plain": [
       "<map at 0x195312c1720>"
      ]
     },
     "execution_count": 272,
     "metadata": {},
     "output_type": "execute_result"
    }
   ],
   "source": [
    "map(kali10, angka) "
   ]
  },
  {
   "attachments": {},
   "cell_type": "markdown",
   "metadata": {},
   "source": [
    "hasil dari fungsi map perlu untuk di definisikan"
   ]
  },
  {
   "cell_type": "code",
   "execution_count": 273,
   "metadata": {},
   "outputs": [
    {
     "data": {
      "text/plain": [
       "[10, 20, 30]"
      ]
     },
     "execution_count": 273,
     "metadata": {},
     "output_type": "execute_result"
    }
   ],
   "source": [
    "list(map(kali10, angka))"
   ]
  },
  {
   "cell_type": "code",
   "execution_count": 276,
   "metadata": {},
   "outputs": [
    {
     "name": "stdout",
     "output_type": "stream",
     "text": [
      "10\n",
      "20\n",
      "30\n"
     ]
    }
   ],
   "source": [
    "for item in map(kali10, angka):\n",
    "    print(item)"
   ]
  },
  {
   "attachments": {},
   "cell_type": "markdown",
   "metadata": {},
   "source": [
    "catatan  \n",
    "map adalah fungsi yang menggunakan type data yang dapat diiterasi dan hasilnya juga harus didefinisikan ke type data yang dapat diiterasi "
   ]
  },
  {
   "cell_type": "code",
   "execution_count": 282,
   "metadata": {},
   "outputs": [],
   "source": [
    "# fungsi genjil genap jumlah huruf \n",
    "def jumlah_huruf(huruf):\n",
    "    jumlah = len(huruf)\n",
    "    if (jumlah % 2 == 0): # len berfungsi menghitung jumlah huruf\n",
    "        return f'Jumlahnya {jumlah} adalah genap'\n",
    "    else:\n",
    "        return f'Jumlahnya {jumlah} adalah ganjil'"
   ]
  },
  {
   "cell_type": "code",
   "execution_count": 283,
   "metadata": {},
   "outputs": [
    {
     "data": {
      "text/plain": [
       "'Jumlahnya 4 adalah genap'"
      ]
     },
     "execution_count": 283,
     "metadata": {},
     "output_type": "execute_result"
    }
   ],
   "source": [
    "jumlah_huruf('Alim')"
   ]
  },
  {
   "cell_type": "code",
   "execution_count": 284,
   "metadata": {},
   "outputs": [],
   "source": [
    "nama = ['alim', 'ilman', 'nurhadi']"
   ]
  },
  {
   "cell_type": "code",
   "execution_count": 285,
   "metadata": {},
   "outputs": [
    {
     "data": {
      "text/plain": [
       "['Jumlahnya 4 adalah genap',\n",
       " 'Jumlahnya 5 adalah ganjil',\n",
       " 'Jumlahnya 7 adalah ganjil']"
      ]
     },
     "execution_count": 285,
     "metadata": {},
     "output_type": "execute_result"
    }
   ],
   "source": [
    "# Menggunakan fungsi Map\n",
    "\n",
    "list(map(jumlah_huruf, nama))"
   ]
  },
  {
   "attachments": {},
   "cell_type": "markdown",
   "metadata": {},
   "source": [
    "**Filter**  \n",
    "Menyaring isi"
   ]
  },
  {
   "cell_type": "code",
   "execution_count": 286,
   "metadata": {},
   "outputs": [],
   "source": [
    "# Membuat fungsi cek genap dengan hasil boolean\n",
    "def cek_genap(num):\n",
    "    return num % 2 == 0"
   ]
  },
  {
   "cell_type": "code",
   "execution_count": 287,
   "metadata": {},
   "outputs": [
    {
     "data": {
      "text/plain": [
       "True"
      ]
     },
     "execution_count": 287,
     "metadata": {},
     "output_type": "execute_result"
    }
   ],
   "source": [
    "cek_genap(2)"
   ]
  },
  {
   "cell_type": "code",
   "execution_count": 292,
   "metadata": {},
   "outputs": [],
   "source": [
    "angka = list(range(1,11))"
   ]
  },
  {
   "cell_type": "code",
   "execution_count": 293,
   "metadata": {},
   "outputs": [
    {
     "data": {
      "text/plain": [
       "[1, 2, 3, 4, 5, 6, 7, 8, 9, 10]"
      ]
     },
     "execution_count": 293,
     "metadata": {},
     "output_type": "execute_result"
    }
   ],
   "source": [
    "angka"
   ]
  },
  {
   "cell_type": "code",
   "execution_count": 299,
   "metadata": {},
   "outputs": [
    {
     "data": {
      "text/plain": [
       "[2, 4, 6, 8, 10]"
      ]
     },
     "execution_count": 299,
     "metadata": {},
     "output_type": "execute_result"
    }
   ],
   "source": [
    "list(filter(cek_genap, angka))"
   ]
  },
  {
   "attachments": {},
   "cell_type": "markdown",
   "metadata": {},
   "source": [
    "fungsi filter akan menyaring isi List yang bernilai True pada fungsi cek_genap"
   ]
  },
  {
   "cell_type": "code",
   "execution_count": 298,
   "metadata": {},
   "outputs": [
    {
     "data": {
      "text/plain": [
       "[False, True, False, True, False, True, False, True, False, True]"
      ]
     },
     "execution_count": 298,
     "metadata": {},
     "output_type": "execute_result"
    }
   ],
   "source": [
    "list(map(cek_genap, angka))"
   ]
  },
  {
   "attachments": {},
   "cell_type": "markdown",
   "metadata": {},
   "source": [
    "sedangkan Map hanya akan menjalankan fungsi cek_genap "
   ]
  },
  {
   "cell_type": "code",
   "execution_count": 302,
   "metadata": {},
   "outputs": [
    {
     "name": "stdout",
     "output_type": "stream",
     "text": [
      "2\n",
      "4\n",
      "6\n",
      "8\n",
      "10\n"
     ]
    }
   ],
   "source": [
    "# Jika hanya ingin melihat hasil dapat menggunakan For Loop\n",
    "for item in filter(cek_genap, angka):\n",
    "    print(item)"
   ]
  },
  {
   "attachments": {},
   "cell_type": "markdown",
   "metadata": {},
   "source": [
    "**Lambda Expression**"
   ]
  },
  {
   "cell_type": "code",
   "execution_count": 313,
   "metadata": {},
   "outputs": [],
   "source": [
    "# Contoh\n",
    "def pangkat(x):\n",
    "    return(x**2)\n"
   ]
  },
  {
   "cell_type": "code",
   "execution_count": 322,
   "metadata": {},
   "outputs": [
    {
     "data": {
      "text/plain": [
       "9"
      ]
     },
     "execution_count": 322,
     "metadata": {},
     "output_type": "execute_result"
    }
   ],
   "source": [
    "pangkat(3)"
   ]
  },
  {
   "cell_type": "code",
   "execution_count": 323,
   "metadata": {},
   "outputs": [],
   "source": [
    "pangkatl = lambda x: x**2"
   ]
  },
  {
   "cell_type": "code",
   "execution_count": 324,
   "metadata": {},
   "outputs": [
    {
     "data": {
      "text/plain": [
       "9"
      ]
     },
     "execution_count": 324,
     "metadata": {},
     "output_type": "execute_result"
    }
   ],
   "source": [
    "pangkatl(3)"
   ]
  },
  {
   "cell_type": "code",
   "execution_count": 337,
   "metadata": {},
   "outputs": [],
   "source": [
    "angka = [3, 4, 5, 6, 7, 8]"
   ]
  },
  {
   "cell_type": "code",
   "execution_count": 338,
   "metadata": {},
   "outputs": [
    {
     "data": {
      "text/plain": [
       "[9, 16, 25, 36, 49, 64]"
      ]
     },
     "execution_count": 338,
     "metadata": {},
     "output_type": "execute_result"
    }
   ],
   "source": [
    "hasil = list(map(lambda x: x**2, angka))\n",
    "hasil"
   ]
  },
  {
   "cell_type": "code",
   "execution_count": 339,
   "metadata": {},
   "outputs": [
    {
     "data": {
      "text/plain": [
       "[9, 16, 25, 36, 49, 64]"
      ]
     },
     "execution_count": 339,
     "metadata": {},
     "output_type": "execute_result"
    }
   ],
   "source": [
    "hasil = list(map(pangkatl, angka))\n",
    "hasil"
   ]
  },
  {
   "cell_type": "code",
   "execution_count": 340,
   "metadata": {},
   "outputs": [
    {
     "data": {
      "text/plain": [
       "[4, 6, 8]"
      ]
     },
     "execution_count": 340,
     "metadata": {},
     "output_type": "execute_result"
    }
   ],
   "source": [
    "genap = list(filter(lambda x: x % 2 == 0, angka))\n",
    "genap"
   ]
  },
  {
   "attachments": {},
   "cell_type": "markdown",
   "metadata": {},
   "source": [
    "Perbedaaan Def dan Lambda  \n",
    "\n",
    "*Def, kita harus membuat sebuah fungsi baru, yang diberikan nama, dan juga harus diberikan return value. def lebih cocok untuk fungsi kompleks dengan percabangan/kondisi yang banyak.*\n",
    "\n",
    "*Lambda, kita bisa meng-assign sebuah fungsi pada suatu variable, dimana ia bisa mengambil beberapa argumen, tetapi hanya bisa mengambil tepat 1 ekspresi. Hasil ekspresi selalu langsung dikembalikan sebagai return value. lambda lebih cocok untuk fungsi sederhana yang bisa diekspresikan dalam 1 baris yang mengembalikan sesuatu, dan dipakai berulang kali dalam program.*"
   ]
  },
  {
   "attachments": {},
   "cell_type": "markdown",
   "metadata": {},
   "source": [
    "**Object Oriented Programming**  \n",
    " logika program dikelompokkan ke dalam bentuk \"objek\" yang mewakili entitas nyata dari dunia nyata. Setiap objek memiliki atribut (variabel) dan perilaku (fungsi).  \n",
    "  \n",
    "Pemrograman berorientasi objek (OOP) di Python didasarkan pada empat prinsip utama:   \n",
    "Abstraksi      : Kemampuan untuk menangani objek dengan mengabaikan detail implementasi yang tidak relevan.  \n",
    "Encapsulation  : Kemampuan untuk menyembunyikan detail implementasi dari objek dan hanya menyediakan interface publik yang digunakan untuk mengaksesnya.  \n",
    "Inheritance    : Kemampuan untuk menurunkan sifat dari satu objek ke objek lain.  \n",
    "Polymorphism   : Kemampuan untuk mengeksekusi perintah yang sama dengan cara yang berbeda untuk objek yang berbeda."
   ]
  },
  {
   "attachments": {},
   "cell_type": "markdown",
   "metadata": {},
   "source": [
    "Contoh  \n",
    "Abstraksi: Sebuah contoh dari abstraksi dapat ditemukan dalam pembuatan kelas 'Mobil'. Anda dapat membuat kelas ini tanpa harus memikirkan bagaimana mesin mobil bekerja, karena itu adalah detail implementasi yang tidak relevan dalam hal ini. Yang penting adalah bahwa mobil dapat dikendalikan (misalnya, dijalankan, dihentikan, dikemudikan) dan memiliki beberapa properti seperti warna, jenis bahan bakar, dll.\n",
    "\n",
    "Encapsulation: Contoh dari encapsulation dapat ditemukan pada kelas 'Mobil' yang dibuat sebelumnya. Anda dapat menyembunyikan detail implementasi mesin mobil dalam kelas itu sendiri dan hanya menyediakan method publik seperti \"start\" dan \"stop\" untuk mengendalikan mesin mobil.\n",
    "\n",
    "Inheritance: Anda dapat mewarisi sifat dari kelas 'Mobil' yang dibuat sebelumnya untuk membuat kelas baru seperti \"MobilListrik\" atau \"MobilSport\" yang mewarisi properti dan method dari kelas \"Mobil\" tapi memiliki perbedaan tersendiri.\n",
    "\n",
    "Polymorphism: Anda dapat mengeksekusi method yang sama (seperti \"drive\") untuk objek yang berbeda dari kelas mobil yang berbeda (misalnya, MobilListrik dan MobilSport), tapi method drive akan bekerja dengan cara yang berbeda pada objek yang berbeda, karena tiap objek memiliki implementasi yang berbeda dari method tersebut."
   ]
  },
  {
   "cell_type": "code",
   "execution_count": 139,
   "metadata": {},
   "outputs": [
    {
     "name": "stdout",
     "output_type": "stream",
     "text": [
      "Baterai mobil listrik kurang dari 20%\n",
      "Mobil sport dijalankan dengan kecepatan tinggi\n"
     ]
    }
   ],
   "source": [
    "#Abstraction\n",
    "class Mobil:\n",
    "    def __init__(self, warna, bahan_bakar):\n",
    "        self.warna = warna\n",
    "        self.bahan_bakar = bahan_bakar\n",
    "    def jalankan(self):\n",
    "        pass\n",
    "    def berhenti(self):\n",
    "        pass\n",
    "\n",
    "#Encapsulation\n",
    "class MobilListrik(Mobil):\n",
    "    def __init__(self, warna, bahan_bakar):\n",
    "        self.warna = warna\n",
    "        self.bahan_bakar = bahan_bakar\n",
    "        self._baterai = 0 #encapsulated variable\n",
    "    def isi_baterai(self, persentase):\n",
    "        self._baterai = persentase\n",
    "    def jalankan(self):\n",
    "        if self._baterai > 20:\n",
    "            print(\"Mobil Listrik dapat dijalankan\")\n",
    "        else:\n",
    "            print(\"Baterai mobil listrik kurang dari 20%\")\n",
    "            \n",
    "#Inheritance\n",
    "class MobilSport(Mobil):\n",
    "    def __init__(self, warna, bahan_bakar):\n",
    "        self.warna = warna\n",
    "        self.bahan_bakar = bahan_bakar\n",
    "    def jalankan(self):\n",
    "        print(\"Mobil sport dijalankan dengan kecepatan tinggi\")\n",
    "\n",
    "#Polymorphism\n",
    "mobil1 = MobilListrik(\"merah\", \"listrik\")\n",
    "mobil2 = MobilSport(\"hitam\", \"solar\")\n",
    "\n",
    "for mobil in [mobil1, mobil2]:\n",
    "    mobil.jalankan()"
   ]
  },
  {
   "attachments": {},
   "cell_type": "markdown",
   "metadata": {},
   "source": [
    "Class"
   ]
  },
  {
   "cell_type": "code",
   "execution_count": 1,
   "metadata": {},
   "outputs": [],
   "source": [
    "class Kulkas:\n",
    "\n",
    "    def __init__(self, merek, harga):\n",
    "        self.merek = merek\n",
    "        self.harga = harga"
   ]
  },
  {
   "cell_type": "code",
   "execution_count": 2,
   "metadata": {},
   "outputs": [],
   "source": [
    "barang = Kulkas('Samsung', '12 jt')"
   ]
  },
  {
   "cell_type": "code",
   "execution_count": 5,
   "metadata": {},
   "outputs": [
    {
     "data": {
      "text/plain": [
       "'Samsung'"
      ]
     },
     "execution_count": 5,
     "metadata": {},
     "output_type": "execute_result"
    }
   ],
   "source": [
    "barang.merek"
   ]
  },
  {
   "cell_type": "code",
   "execution_count": 6,
   "metadata": {},
   "outputs": [
    {
     "data": {
      "text/plain": [
       "'12 jt'"
      ]
     },
     "execution_count": 6,
     "metadata": {},
     "output_type": "execute_result"
    }
   ],
   "source": [
    "barang.harga"
   ]
  },
  {
   "cell_type": "code",
   "execution_count": 42,
   "metadata": {},
   "outputs": [],
   "source": [
    "class KulkasLagi:\n",
    "    \n",
    "    # Class objeck attribute (attribute ini bersifat global untuk class kulkas)\n",
    "    penjual = 'Pak Mamat'\n",
    "\n",
    "    def __init__ (self, merek, harga):\n",
    "        self.merek = merek\n",
    "        self.harga = harga\n",
    "        self.garansi = 3\n",
    "        self.tenaga = 'Listrik'\n",
    "\n",
    "    def keterangan(self, anak = 2): # Anak = 2 berarti anak akan memiliki nilai defaul 2 jika tidak di definisikan nilainya\n",
    "        return f'Kulkas merek {self.merek} harganya sebesar {self.harga}, dan penjulannya {self.penjual} yang memiliki anak {anak}'\n",
    "        # Penggunaan Self karena tidak dalam method yang sama\n"
   ]
  },
  {
   "cell_type": "code",
   "execution_count": 43,
   "metadata": {},
   "outputs": [],
   "source": [
    "# Mengisi merk dan harga\n",
    "barang1 = KulkasLagi('LG', 550)"
   ]
  },
  {
   "cell_type": "code",
   "execution_count": 45,
   "metadata": {},
   "outputs": [
    {
     "data": {
      "text/plain": [
       "'Kulkas merek LG harganya sebesar 550, dan penjulannya Pak Mamat yang memiliki anak 5'"
      ]
     },
     "execution_count": 45,
     "metadata": {},
     "output_type": "execute_result"
    }
   ],
   "source": [
    "barang1.keterangan(5)"
   ]
  },
  {
   "attachments": {},
   "cell_type": "markdown",
   "metadata": {},
   "source": [
    "Catatan  \n",
    "Menjalankan method selain __init__, harus menggunakan kurung ()"
   ]
  },
  {
   "attachments": {},
   "cell_type": "markdown",
   "metadata": {},
   "source": [
    "Contoh lain"
   ]
  },
  {
   "cell_type": "code",
   "execution_count": 135,
   "metadata": {},
   "outputs": [],
   "source": [
    "# Class Student memiliki 4 method \n",
    "class Student:\n",
    "\n",
    "    # Class __init__ memiliki tiga properti\n",
    "    def __init__(self, name, student_id, courses=[]):\n",
    "        self.name = name     # Usahakan namanya sama\n",
    "        self.student_id = student_id\n",
    "        self.courses = courses\n",
    "\n",
    "    # Method enroll digunakan untuk mendaftarkan sebuah course kedalam courses\n",
    "    def enroll(self, course):\n",
    "        self.courses.append(course)\n",
    "\n",
    "    # Method get_courses digunakan untuk mengambil courses yang sudah diambil oleh student,    \n",
    "    def get_courses(self):\n",
    "        return self.courses\n",
    "        \n",
    "    # Method __str__ digunakan untuk mengubah object menjadi string    \n",
    "    def __str__(self):\n",
    "        return f\"Name: {self.name}, ID: {self.student_id}, Courses: {self.courses}\""
   ]
  },
  {
   "cell_type": "code",
   "execution_count": 138,
   "metadata": {},
   "outputs": [],
   "source": [
    "s1 = Student(\"Alice\", \"123456\") # Jika tidak mengisikan courses maka akan default berisi list kosong\n",
    "s2 = Student(\"Bob\", \"654321\", [\"Math\", \"Physics\"])"
   ]
  },
  {
   "attachments": {},
   "cell_type": "markdown",
   "metadata": {},
   "source": [
    "Method selain __init__ digunakan kepada variabel yang berisi class 'Studen' dan propertinya dengan akhiran ()"
   ]
  },
  {
   "cell_type": "code",
   "execution_count": 31,
   "metadata": {},
   "outputs": [],
   "source": [
    "s1.enroll(\"History\")"
   ]
  },
  {
   "cell_type": "code",
   "execution_count": 137,
   "metadata": {},
   "outputs": [
    {
     "name": "stdout",
     "output_type": "stream",
     "text": [
      "[]\n",
      "['Math', 'Physics']\n"
     ]
    }
   ],
   "source": [
    "print(s1.get_courses()) # Output: [\"History\"]\n",
    "print(s2.get_courses()) # Output: [\"Math\", \"Physics\"]"
   ]
  },
  {
   "cell_type": "code",
   "execution_count": 33,
   "metadata": {},
   "outputs": [
    {
     "name": "stdout",
     "output_type": "stream",
     "text": [
      "Name: Alice, ID: 123456, Courses: ['History']\n",
      "Name: Bob, ID: 654321, Courses: ['Math', 'Physics']\n"
     ]
    }
   ],
   "source": [
    "print(s1) # Output: Name: Alice, ID: 123456, Courses: [\"History\"]\n",
    "print(s2) # Output: Name: Bob, ID: 654321, Courses: [\"Math\", \"Physics\"]"
   ]
  },
  {
   "cell_type": "code",
   "execution_count": 81,
   "metadata": {},
   "outputs": [],
   "source": [
    "# Class menghitung luas lingkaran\n",
    "class Lingkaran:\n",
    "    \n",
    "    # Koefesien Phi\n",
    "    phi = 22/7\n",
    "    \n",
    "    def __init__ (self, jarijari):\n",
    "        self.jarijari = jarijari\n",
    "    \n",
    "    def luas(self):\n",
    "        print(f'Luas lingkaran adalah {round(self.phi * self.jarijari ** 2, 2)} cm')\n",
    "    \n",
    "    def keliling(self):\n",
    "        return f'Keliling lingkaran adalah {round(2 * self.phi * self.jarijari, 2)} cm'"
   ]
  },
  {
   "cell_type": "code",
   "execution_count": 82,
   "metadata": {},
   "outputs": [],
   "source": [
    "lingkaran = Lingkaran(5)"
   ]
  },
  {
   "cell_type": "code",
   "execution_count": 83,
   "metadata": {},
   "outputs": [
    {
     "name": "stdout",
     "output_type": "stream",
     "text": [
      "Luas lingkaran adalah 78.57 cm\n"
     ]
    }
   ],
   "source": [
    "lingkaran.luas()"
   ]
  },
  {
   "cell_type": "code",
   "execution_count": 84,
   "metadata": {},
   "outputs": [
    {
     "data": {
      "text/plain": [
       "'Keliling lingkaran adalah 31.43 cm'"
      ]
     },
     "execution_count": 84,
     "metadata": {},
     "output_type": "execute_result"
    }
   ],
   "source": [
    "lingkaran.keliling()"
   ]
  },
  {
   "attachments": {},
   "cell_type": "markdown",
   "metadata": {},
   "source": [
    "Method luas dan keliling juga bisa berada dalam satu method init, sebagai berikut"
   ]
  },
  {
   "cell_type": "code",
   "execution_count": 99,
   "metadata": {},
   "outputs": [],
   "source": [
    "class Lingkaran1:\n",
    "\n",
    "    phi = 3.14\n",
    "\n",
    "    def __init__(self, radius):\n",
    "        self.radius = radius\n",
    "        self.luas = str(self.phi * radius ** 2) + ' cm' # Phi memerlukan self karena tidak berada dalam method yang sama yaitu ___init__\n",
    "        self.keliling = 2 * self.phi * radius"
   ]
  },
  {
   "cell_type": "code",
   "execution_count": 100,
   "metadata": {},
   "outputs": [],
   "source": [
    "l1 = Lingkaran1(10)"
   ]
  },
  {
   "cell_type": "code",
   "execution_count": 101,
   "metadata": {},
   "outputs": [
    {
     "data": {
      "text/plain": [
       "'314.0 cm'"
      ]
     },
     "execution_count": 101,
     "metadata": {},
     "output_type": "execute_result"
    }
   ],
   "source": [
    "l1.luas"
   ]
  },
  {
   "cell_type": "code",
   "execution_count": 102,
   "metadata": {},
   "outputs": [
    {
     "data": {
      "text/plain": [
       "62.800000000000004"
      ]
     },
     "execution_count": 102,
     "metadata": {},
     "output_type": "execute_result"
    }
   ],
   "source": [
    "l1.keliling"
   ]
  },
  {
   "attachments": {},
   "cell_type": "markdown",
   "metadata": {},
   "source": [
    "**Inheritance**"
   ]
  },
  {
   "cell_type": "code",
   "execution_count": 84,
   "metadata": {},
   "outputs": [],
   "source": [
    "class Mahasiswa:\n",
    "    \n",
    "    def __init__ (self, nama, kelas, gender): \n",
    "        self.nama = nama \n",
    "        self.kelas = kelas\n",
    "        self.gender = gender\n",
    "\n",
    "    def data(self):\n",
    "        if ('gender' == 'laki-laki'):\n",
    "            print(f'{self.nama} merupakan seorang mahasiswa di kelas {self.kelas}')\n",
    "        else:\n",
    "            print(f'{self.nama} merupakan seorang mahasiswi di kelas {self.kelas}')"
   ]
  },
  {
   "cell_type": "code",
   "execution_count": 85,
   "metadata": {},
   "outputs": [],
   "source": [
    "zahra = Mahasiswa('zahra', 'HK001', 'wanita')"
   ]
  },
  {
   "cell_type": "code",
   "execution_count": 86,
   "metadata": {},
   "outputs": [
    {
     "name": "stdout",
     "output_type": "stream",
     "text": [
      "zahra merupakan seorang mahasiswi di kelas HK001\n"
     ]
    }
   ],
   "source": [
    "zahra.data()"
   ]
  },
  {
   "cell_type": "code",
   "execution_count": 117,
   "metadata": {},
   "outputs": [],
   "source": [
    "class Nilai(Mahasiswa): # Mahasiswa merupakan Parrent class dan Nilai merupakan Child class\n",
    "    '''\n",
    "Jika menggunakan super() maka pyhton akan mencari parrent class yang memiliki atribut yang sama, \n",
    "bisa juga dengan menyatakan parren class, seperti Mahasiswa.__init___(nama, kelas, gender)\n",
    "'''\n",
    "    def __init__ (self, nama, kelas, gender):\n",
    "        super(). __init__ (nama, kelas, gender) # akan mengambil data dari Class mahasiswa, berupa nama, kelas, dan gender\n",
    "        self.nilai = []\n",
    "\n",
    "    def tambah_nilai (self, tambah_nilai):\n",
    "        return self.nilai.append(tambah_nilai)\n",
    "\n",
    "    def data_lengkap(self):\n",
    "        print(f'dengan perolehan nilai {self.nilai}')"
   ]
  },
  {
   "cell_type": "code",
   "execution_count": 118,
   "metadata": {},
   "outputs": [],
   "source": [
    "kila = Nilai('kila', 'HK002', 'wanita')"
   ]
  },
  {
   "cell_type": "code",
   "execution_count": 119,
   "metadata": {},
   "outputs": [],
   "source": [
    "kila.tambah_nilai([10, 20, 30])"
   ]
  },
  {
   "cell_type": "code",
   "execution_count": 120,
   "metadata": {},
   "outputs": [
    {
     "name": "stdout",
     "output_type": "stream",
     "text": [
      "kila merupakan seorang mahasiswi di kelas HK002\n"
     ]
    }
   ],
   "source": [
    "kila.data() # Fungsi pada class Mahasiswa juga dapat digunakan"
   ]
  },
  {
   "cell_type": "code",
   "execution_count": 121,
   "metadata": {},
   "outputs": [
    {
     "name": "stdout",
     "output_type": "stream",
     "text": [
      "dengan perolehan nilai [[10, 20, 30]]\n"
     ]
    }
   ],
   "source": [
    "kila.data_lengkap()"
   ]
  },
  {
   "attachments": {},
   "cell_type": "markdown",
   "metadata": {},
   "source": [
    "Contoh lain"
   ]
  },
  {
   "cell_type": "code",
   "execution_count": 130,
   "metadata": {},
   "outputs": [],
   "source": [
    "class Animal:\n",
    "  def __init__(self, Animal):\n",
    "    print(Animal, 'is an animal.');\n",
    "\n",
    "class Mammal(Animal):\n",
    "  def __init__(self, mammalName):\n",
    "    print(mammalName, 'is a warm-blooded animal.')\n",
    "    super().__init__(mammalName)\n",
    "    \n",
    "class NonWingedMammal(Mammal):\n",
    "  def __init__(self, NonWingedMammal):\n",
    "    print(NonWingedMammal, \"can't fly.\")\n",
    "    super().__init__(NonWingedMammal)\n",
    "\n",
    "class NonMarineMammal(Mammal):\n",
    "  def __init__(self, NonMarineMammal):\n",
    "    print(NonMarineMammal, \"can't swim.\")\n",
    "    super().__init__(NonMarineMammal)\n",
    "\n",
    "class Dog(NonMarineMammal, NonWingedMammal):\n",
    "  def __init__(self):\n",
    "    print('Dog has 4 legs.');\n",
    "    super().__init__('Dog')"
   ]
  },
  {
   "cell_type": "code",
   "execution_count": 131,
   "metadata": {},
   "outputs": [
    {
     "name": "stdout",
     "output_type": "stream",
     "text": [
      "Dog has 4 legs.\n",
      "Dog can't swim.\n",
      "Dog can't fly.\n",
      "Dog is a warm-blooded animal.\n",
      "Dog is an animal.\n",
      "\n",
      "Bat can't swim.\n",
      "Bat is a warm-blooded animal.\n",
      "Bat is an animal.\n"
     ]
    }
   ],
   "source": [
    "'''\n",
    "Menjalankan Class Dog yang akan memberikan nilai String 'Dog' ke NonMarineMammal dan NonWingedMammal lalu,\n",
    "NonMarineMammal dan NonWingedMammal memberikan nilai String 'Dog' ke Mammal\n",
    "\n",
    "Class Dog memiliki Class induk NonMarineMammal dan NonWingedMammal\n",
    "Class NonMarineMammal dan NonWingedMammal memiliki Class induk Mammal\n",
    "Class Mammal memiliki Class induk Animal\n",
    "'''\n",
    "d = Dog() # Urutan class Dog -> NonMarineMammal -> NonWingedMammal -> Mammal -> Animal\n",
    "print('')\n",
    "bat = NonMarineMammal('Bat') # Urutan Class NonMarineMammal -> Mammal -> Animal"
   ]
  },
  {
   "attachments": {},
   "cell_type": "markdown",
   "metadata": {},
   "source": [
    "**Polymorphism**  \n",
    "Teknik Menunggunakan fitur dari beberapa class ke dalam function atau sebuah class "
   ]
  },
  {
   "cell_type": "code",
   "execution_count": 147,
   "metadata": {},
   "outputs": [],
   "source": [
    "class Kucing:\n",
    "    \n",
    "    def __init__ (self, nama):\n",
    "        self.nama = nama\n",
    "    \n",
    "    def respon(self):\n",
    "        print(self.nama, 'Meow-meow!')"
   ]
  },
  {
   "cell_type": "code",
   "execution_count": 146,
   "metadata": {},
   "outputs": [],
   "source": [
    "class Anjing:\n",
    "    \n",
    "    def __init__ (self, nama):\n",
    "        self.nama = nama\n",
    "    \n",
    "    def respon(self):\n",
    "        print(self.nama, 'Guk-guk!')"
   ]
  },
  {
   "cell_type": "code",
   "execution_count": 148,
   "metadata": {},
   "outputs": [
    {
     "name": "stdout",
     "output_type": "stream",
     "text": [
      "puss Meow-meow!\n"
     ]
    }
   ],
   "source": [
    "puss = Kucing('puss')\n",
    "puss.respon()"
   ]
  },
  {
   "cell_type": "code",
   "execution_count": 156,
   "metadata": {},
   "outputs": [
    {
     "name": "stdout",
     "output_type": "stream",
     "text": [
      "garfil Guk-guk!\n"
     ]
    }
   ],
   "source": [
    "garfil = Anjing('garfil')\n",
    "garfil.respon()"
   ]
  },
  {
   "cell_type": "code",
   "execution_count": 158,
   "metadata": {},
   "outputs": [
    {
     "name": "stdout",
     "output_type": "stream",
     "text": [
      "<class '__main__.Kucing'>\n",
      "puss Meow-meow!\n",
      "<class '__main__.Anjing'>\n",
      "garfil Guk-guk!\n"
     ]
    }
   ],
   "source": [
    "for item in [puss, garfil]: # i ketika menjalankan iterasi maka dapat menggunakan fitur dari class\n",
    "    print(type(item))\n",
    "    item.respon()"
   ]
  },
  {
   "cell_type": "code",
   "execution_count": 162,
   "metadata": {},
   "outputs": [],
   "source": [
    "def ngomong(nama): #function dapat menggunakan fitur dari class\n",
    "    return nama.respon()"
   ]
  },
  {
   "cell_type": "code",
   "execution_count": 163,
   "metadata": {},
   "outputs": [
    {
     "name": "stdout",
     "output_type": "stream",
     "text": [
      "puss Meow-meow!\n"
     ]
    }
   ],
   "source": [
    "ngomong(puss)"
   ]
  },
  {
   "cell_type": "code",
   "execution_count": 164,
   "metadata": {},
   "outputs": [
    {
     "name": "stdout",
     "output_type": "stream",
     "text": [
      "garfil Guk-guk!\n"
     ]
    }
   ],
   "source": [
    "ngomong(garfil)"
   ]
  },
  {
   "attachments": {},
   "cell_type": "markdown",
   "metadata": {},
   "source": [
    "**Dunder / Magic Method**  \n",
    "Doubel Underscore method / Magic method"
   ]
  },
  {
   "cell_type": "code",
   "execution_count": 9,
   "metadata": {},
   "outputs": [],
   "source": [
    "class Coba:\n",
    "\n",
    "    def __init__(self, nama):\n",
    "        self.nama = nama\n",
    "\n",
    "    def cetak(self):\n",
    "        return self.nama"
   ]
  },
  {
   "cell_type": "code",
   "execution_count": 10,
   "metadata": {},
   "outputs": [],
   "source": [
    "coba = Coba('Alim')"
   ]
  },
  {
   "cell_type": "code",
   "execution_count": 11,
   "metadata": {},
   "outputs": [
    {
     "data": {
      "text/plain": [
       "'Alim'"
      ]
     },
     "execution_count": 11,
     "metadata": {},
     "output_type": "execute_result"
    }
   ],
   "source": [
    "coba.cetak()"
   ]
  },
  {
   "cell_type": "code",
   "execution_count": 12,
   "metadata": {},
   "outputs": [
    {
     "name": "stdout",
     "output_type": "stream",
     "text": [
      "['__class__', '__delattr__', '__dict__', '__dir__', '__doc__', '__eq__', '__format__', '__ge__', '__getattribute__', '__gt__', '__hash__', '__init__', '__init_subclass__', '__le__', '__lt__', '__module__', '__ne__', '__new__', '__reduce__', '__reduce_ex__', '__repr__', '__setattr__', '__sizeof__', '__str__', '__subclasshook__', '__weakref__', 'cetak', 'nama']\n"
     ]
    }
   ],
   "source": [
    "print(dir(coba))"
   ]
  },
  {
   "attachments": {},
   "cell_type": "markdown",
   "metadata": {},
   "source": [
    "dunder method dapat di definisikan namun tidak dianjurkan kecuali dalam jangka panjang manfaaatnya lebih besar"
   ]
  },
  {
   "attachments": {},
   "cell_type": "markdown",
   "metadata": {},
   "source": [
    "Tantangan OOP"
   ]
  },
  {
   "cell_type": "code",
   "execution_count": 17,
   "metadata": {},
   "outputs": [],
   "source": [
    "class RekeningBank:\n",
    "    def __init__(self, nama, id, saldo):\n",
    "        self.nama = nama\n",
    "        self.id = id\n",
    "        self.saldo = saldo\n",
    "    \n",
    "    def cetak(self):\n",
    "        print('Nama: {}, ID: {}, Saldo: {}'.format(self.nama,self.id,self.saldo))\n",
    "        \n",
    "    def tabung(self, deposit):\n",
    "        self.saldo += deposit\n",
    "        print('Jumlah deposit: ', deposit, 'Saldo sekarang: ', self.saldo)\n",
    "        \n",
    "    def tarik(self, withdraw):\n",
    "        if self.saldo - withdraw < 0:\n",
    "            print('Maaf saldo tidak mencukupi, sekarang hanya tersisa: ', self.saldo)\n",
    "        else:\n",
    "            self.saldo -= withdraw\n",
    "            print('Anda telah menarik sebesar: {}, sisa saldo sekarang: {}'.format(withdraw,self.saldo))"
   ]
  },
  {
   "cell_type": "code",
   "execution_count": 18,
   "metadata": {},
   "outputs": [],
   "source": [
    "user1 = RekeningBank('Alim', '12232G', 5000000)"
   ]
  },
  {
   "cell_type": "code",
   "execution_count": 19,
   "metadata": {},
   "outputs": [
    {
     "name": "stdout",
     "output_type": "stream",
     "text": [
      "Nama: Alim, ID: 12232G, Saldo: 5000000\n"
     ]
    }
   ],
   "source": [
    "user1.cetak()"
   ]
  },
  {
   "cell_type": "code",
   "execution_count": 20,
   "metadata": {},
   "outputs": [
    {
     "name": "stdout",
     "output_type": "stream",
     "text": [
      "Jumlah deposit:  100000 Saldo sekarang:  5100000\n"
     ]
    }
   ],
   "source": [
    "user1.tabung(100000)"
   ]
  },
  {
   "cell_type": "code",
   "execution_count": 21,
   "metadata": {},
   "outputs": [
    {
     "name": "stdout",
     "output_type": "stream",
     "text": [
      "Maaf saldo tidak mencukupi, sekarang hanya tersisa:  5100000\n"
     ]
    }
   ],
   "source": [
    "user1.tarik(1000000000) "
   ]
  },
  {
   "attachments": {},
   "cell_type": "markdown",
   "metadata": {},
   "source": [
    "Versi Pak Mega"
   ]
  },
  {
   "cell_type": "code",
   "execution_count": 22,
   "metadata": {},
   "outputs": [],
   "source": [
    "class RekeningBank:\n",
    "\n",
    "    def __init__(self, tabungan):\n",
    "        self.tabungan = tabungan\n",
    "    \n",
    "    def cek_saldo(self):\n",
    "        print('Jumlah saldo Anda adalah = Rp {}'.format(self.tabungan))\n",
    "    \n",
    "    def menabung(self):\n",
    "        tambah = int(input('Masukan jumlah yang ingin ditabung = '))\n",
    "        self.tabungan += tambah # self.tabungan = self.tabugan += tambah\n",
    "\n",
    "    def menarik(self):\n",
    "        kurang = int(input(\"Masukkan jumlah yang ingin ditabung = \"))\n",
    "        if self.tabungan < kurang:\n",
    "            print(\"Maaf saldo anda tidak mencukupi \\nSaldo anda saat ini adalah {}\".format(self.tabungan))\n",
    "        else:\n",
    "            self.tabungan -= kurang\n"
   ]
  },
  {
   "cell_type": "code",
   "execution_count": 24,
   "metadata": {},
   "outputs": [],
   "source": [
    "rekening = RekeningBank(50)"
   ]
  },
  {
   "cell_type": "code",
   "execution_count": 25,
   "metadata": {},
   "outputs": [
    {
     "name": "stdout",
     "output_type": "stream",
     "text": [
      "Jumlah saldo Anda adalah = Rp 50\n"
     ]
    }
   ],
   "source": [
    "rekening.cek_saldo()"
   ]
  },
  {
   "cell_type": "code",
   "execution_count": 27,
   "metadata": {},
   "outputs": [],
   "source": [
    "rekening.menabung()"
   ]
  },
  {
   "cell_type": "code",
   "execution_count": 28,
   "metadata": {},
   "outputs": [
    {
     "name": "stdout",
     "output_type": "stream",
     "text": [
      "Jumlah saldo Anda adalah = Rp 60\n"
     ]
    }
   ],
   "source": [
    "rekening.cek_saldo()"
   ]
  },
  {
   "cell_type": "code",
   "execution_count": 29,
   "metadata": {},
   "outputs": [
    {
     "name": "stdout",
     "output_type": "stream",
     "text": [
      "Maaf saldo anda tidak mencukupi \n",
      "Saldo anda saat ini adalah 60\n"
     ]
    }
   ],
   "source": [
    "rekening.menarik()"
   ]
  },
  {
   "attachments": {},
   "cell_type": "markdown",
   "metadata": {},
   "source": [
    "30 Januari 2022  \n",
    "Lanjut lagi, setelah menyelesaikan Python Full Course"
   ]
  }
 ],
 "metadata": {
  "kernelspec": {
   "display_name": "Python 3",
   "language": "python",
   "name": "python3"
  },
  "language_info": {
   "codemirror_mode": {
    "name": "ipython",
    "version": 3
   },
   "file_extension": ".py",
   "mimetype": "text/x-python",
   "name": "python",
   "nbconvert_exporter": "python",
   "pygments_lexer": "ipython3",
   "version": "3.10.4"
  },
  "orig_nbformat": 4,
  "vscode": {
   "interpreter": {
    "hash": "008a80ace1ded65b83d85f3a95ac32499ae373d4e899e29d16f9a20d423fa131"
   }
  }
 },
 "nbformat": 4,
 "nbformat_minor": 2
}
