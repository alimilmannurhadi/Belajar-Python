{
 "cells": [
  {
   "attachments": {},
   "cell_type": "markdown",
   "metadata": {},
   "source": [
    "****#⭐️Time Stamps⭐️****"
   ]
  },
  {
   "attachments": {},
   "cell_type": "markdown",
   "metadata": {},
   "source": [
    "#1 00:00:00​ Python tutorial for beginners 🐍"
   ]
  },
  {
   "cell_type": "code",
   "execution_count": null,
   "metadata": {},
   "outputs": [],
   "source": [
    "print(\"I love Pizza\")\n",
    "print(\"It's Really Good!\")"
   ]
  },
  {
   "attachments": {},
   "cell_type": "markdown",
   "metadata": {},
   "source": [
    "#2 00:05:57​ variables ✘"
   ]
  },
  {
   "cell_type": "code",
   "execution_count": null,
   "metadata": {},
   "outputs": [],
   "source": [
    "# Variabel = a container for a value / Tempat menaruh sebuah nilai\n",
    "\n",
    "# String = a series of characters / serangkaian karakter\n",
    "firs_name = \"Alim\"\n",
    "middle_name = \"Ilman\"\n",
    "last_name = \"Nurhadi\"\n",
    "full_name = firs_name + \" \" + middle_name + \" \" + last_name\n",
    "\n",
    "print(\"Hello \" + full_name)\n",
    "\n",
    "# interger = a whole number\n",
    "age = 22\n",
    "age += 1\n",
    "\n",
    "print(\"Your age is : \" + str(age)) # jika terdapan str pada perintah print, maka variabel selain str perlu di convert ke str\n",
    "\n",
    "# Float = floating point number / a decimal number \n",
    "height = 170.8\n",
    "print(\"Your height is : \" + str(height) + \"cm\")\n",
    "\n",
    "# Boolean = True or False\n",
    "human = True\n",
    "print(\"Are you a human : \" + str(human))\n",
    "\n",
    "print(type(full_name)) # gunakan perintah print jika tidak, consol hanya akan menampilkan type data human\n",
    "print(type(age))\n",
    "print(type(height))\n",
    "print(type(human))"
   ]
  },
  {
   "attachments": {},
   "cell_type": "markdown",
   "metadata": {},
   "source": [
    "#3 00:17:38​ multiple assignment 🔠"
   ]
  },
  {
   "cell_type": "code",
   "execution_count": null,
   "metadata": {},
   "outputs": [],
   "source": [
    "# Multiple assignments = allow us to assign multiple variables at the same time in one line\n",
    "# Penugasan berganda = memungkinkan kita untuk menetapkan beberapa variabel sekaligus dalam satu baris\n",
    "\n",
    "name, age, attractive = \"Alim\", 22, True\n",
    "\n",
    "print(name)\n",
    "print(age)\n",
    "print(attractive)\n",
    "\n",
    "# spongebob = 30\n",
    "# patrick  = 20\n",
    "# sandy = 30\n",
    "\n",
    "# Jika dengan one line code\n",
    "spongebob = patrick = sandy = 30\n",
    "\n",
    "print(spongebob, patrick, sandy)\n"
   ]
  },
  {
   "attachments": {},
   "cell_type": "markdown",
   "metadata": {},
   "source": [
    "#4 00:20:27​ string methods 〰️"
   ]
  },
  {
   "cell_type": "code",
   "execution_count": null,
   "metadata": {},
   "outputs": [],
   "source": [
    "name = \"Alim Ilman Nurhadi\"\n",
    "\n",
    "# print(len(name))\n",
    "# print(name.find(\"h\"))\n",
    "# print(name.capitalize())\n",
    "# print(name.upper())\n",
    "# print(name.lower())\n",
    "# print(name.isdigit())\n",
    "# print(name.isalpha())\n",
    "# print(name.isalnum())\n",
    "# print(name.count(\"a\"))\n",
    "# print(name.replace(\"a\",\"o\"))\n",
    "# print(name * 3)\n",
    "# print(name.split())\n",
    "# print(name.strip(\"A\"))\n",
    "# print(name.join('123'))\n",
    "# print(\"Nama saya {}\".format(name))\n",
    "# print(name.startswith(\"Alim\"))\n",
    "# print(name.endswith(\"roger\"))\n",
    "# print(name.index(\"a\"))\n",
    "# print(name.rindex(\"Ilman\"))"
   ]
  },
  {
   "attachments": {},
   "cell_type": "markdown",
   "metadata": {},
   "source": [
    "#5 00:25:13​ type cast 💱"
   ]
  },
  {
   "cell_type": "code",
   "execution_count": null,
   "metadata": {},
   "outputs": [],
   "source": [
    "# Type casting = convert the data type of a value to another data type\n",
    "# Type casting = mengubah tipe data suatu nilai menjadi tipe data lainnya\n",
    "\n",
    "x = 1 # Integer\n",
    "y = 2.0 # Float\n",
    "z = \"3\" # String\n",
    "\n",
    "# Type cast dengan membuat mendefinisikan variabel ulang\n",
    "y = int(y)\n",
    "\n",
    "# # Type cast saat print\n",
    "print(x, y, float(z))\n",
    "\n",
    "# Print String dengan integer tidak dapat dilakukan, perlu type cast\n",
    "#print(\"X is\" + x)\n",
    "\n",
    "print(\"X is \" + str(x))\n",
    "\n"
   ]
  },
  {
   "attachments": {},
   "cell_type": "markdown",
   "metadata": {},
   "source": [
    "#6 00:30:14​ user input ⌨️"
   ]
  },
  {
   "cell_type": "code",
   "execution_count": null,
   "metadata": {},
   "outputs": [],
   "source": [
    "name = input(\"What is your name?: \")\n",
    "age = int(input(\"How old are you?: \"))\n",
    "height = float(input(\"How tall are you?: \"))\n",
    "\n",
    "print(\"Hello \" + name)\n",
    "print(\"You are \" + str(age) + \" years old\")\n",
    "print(\"You are \" + str(height) + \" cm tall\")"
   ]
  },
  {
   "attachments": {},
   "cell_type": "markdown",
   "metadata": {},
   "source": [
    "#7 00:36:50​ math functions 🧮"
   ]
  },
  {
   "attachments": {},
   "cell_type": "markdown",
   "metadata": {},
   "source": [
    "math.sqrt(x): This function returns the square root of a number.  \n",
    "math.log(x): This function returns the natural logarithm (base e) of a number.  \n",
    "math.log10(x): This function returns the logarithm base 10 of a number.  \n",
    "math.exp(x): This function returns the value of e raised to the power of x.  \n",
    "math.pow(x, y): This function returns x raised to the power of y.  \n",
    "math.sin(x): This function returns the sine of x where x is given in radians.  \n",
    "math.cos(x): This function returns the cosine of x where x is given in radians.  \n",
    "math.tan(x): This function returns the tangent of x where x is given in radians.  \n",
    "math.degrees(x): This function converts an angle from radians to degrees.  \n",
    "math.radians(x): This function converts an angle from degrees to radians.  \n",
    "math.ceil(x): This function rounds a number up to the nearest whole number.  \n",
    "math.floor(x): This function rounds a number down to the nearest whole number.  \n",
    "math.trunc(x): This function removes the decimal part of a number, leaving only the whole number.  \n",
    "divmod(x, y): This function returns a tuple containing the quotient and remainder of dividing x by y.  \n",
    "abs(x): This function returns the absolute value of a number.  \n",
    "round(x, n): This function rounds a number to n decimal places.  \n",
    "isinstance(x, (int, float)) : This function check whether the variable is integer or float or not."
   ]
  },
  {
   "cell_type": "code",
   "execution_count": null,
   "metadata": {},
   "outputs": [],
   "source": [
    "import math\n",
    "\n",
    "x = 100\n",
    "\n",
    "# Math Function\n",
    "print(math.sqrt(x))\n",
    "print(math.log(x))\n",
    "print(math.log10(x))\n",
    "print(math.exp(x))\n",
    "print(math.sin(math.radians(30))) \n",
    "print(math.cos(x))\n",
    "print(math.tan(x))\n",
    "print(math.degrees(x))\n",
    "print(math.radians(57.32))\n",
    "print(math.ceil(3.5))\n",
    "print(math.floor(3.5))\n",
    "print(math.trunc(3.14))\n",
    "\n",
    "# Integer dan Float functions\n",
    "print(divmod(2, 5))\n",
    "print(abs(-50.5454))\n",
    "print(round(50.52452342, 2))\n",
    "print(isinstance(x, (int, float)))"
   ]
  },
  {
   "attachments": {},
   "cell_type": "markdown",
   "metadata": {},
   "source": [
    "#8 00:40:58​ string slicing ✂️"
   ]
  },
  {
   "cell_type": "code",
   "execution_count": null,
   "metadata": {},
   "outputs": [],
   "source": [
    "# Slicing = crate a substring by extracting elements from another string\n",
    "#           indexing[] or slice ()\n",
    "#           [start:stop:step]\n",
    "\n",
    "# name = \"Alim Ilman Nurhadi\"\n",
    "\n",
    "# firs_name = name[0:4]\n",
    "# middle_name = name[5:10]\n",
    "# last_name = name[11:] # Python akan mengartikan blank adalah nol\n",
    "# funky_name = name[::3]\n",
    "# reversed_name = name[::-1]\n",
    "\n",
    "# print(firs_name)\n",
    "# print(middle_name)\n",
    "# print(last_name)\n",
    "# print(funky_name)\n",
    "# print(reversed_name)\n",
    "\n",
    "website1 = \"https://google.com\"\n",
    "website2 = \"https://facebook.com\"\n",
    "\n",
    "slices = slice(8, -4)\n",
    "\n",
    "print(website1[slices])\n",
    "print(website2[slices])\n"
   ]
  },
  {
   "attachments": {},
   "cell_type": "markdown",
   "metadata": {},
   "source": [
    "#9 00:51:52​ if statements 🤔"
   ]
  },
  {
   "cell_type": "code",
   "execution_count": null,
   "metadata": {},
   "outputs": [],
   "source": [
    "# If statement = a block of code that will execute if it's condition is True\n",
    "\n",
    "age = int(input(\"Berapa umur kamu?: \"))\n",
    "\n",
    "if age < 15:\n",
    "    print(\"Kelompok usia anak-anak\")\n",
    "elif age <= 34:\n",
    "    print(\"Kelompok usia muda\")\n",
    "elif age <= 44:\n",
    "    print(\"Kelompok usia paruh baya\")\n",
    "elif age <= 54:\n",
    "    print(\"Kelompok usia pra-pensiun\")\n",
    "elif age <= 64:\n",
    "    print(\"Kelompok usia pensiun\")\n",
    "else:\n",
    "    print(\"Kelompok usia lanjut\")"
   ]
  },
  {
   "attachments": {},
   "cell_type": "markdown",
   "metadata": {},
   "source": [
    "#10 00:58:19​ logical operators 🔣"
   ]
  },
  {
   "cell_type": "code",
   "execution_count": null,
   "metadata": {},
   "outputs": [],
   "source": [
    "# Logicat operator (and, or, not) = used to check if two or more conditional statement\n",
    "\n",
    "temp = float(input(\"Berapa suhu badan kamu?: \"))\n",
    "\n",
    "if temp >= 36.1 and temp <= 37.1:\n",
    "    print(\"Suhu tubuh kamu normal\")\n",
    "elif temp < 35 and temp >= 0:\n",
    "    print(\"Kamu mengalami Hipotermia\")\n",
    "elif not(temp != 46): # not sebelum kondisi akan membalikan hasil kondisi False menjadi True dan sebaliknnya\n",
    "    print(\"Kamu adalah Rosi\")\n",
    "elif temp > 38:\n",
    "    print(\"Segera konsultasi\")\n",
    "else:\n",
    "    print(\"Kamu manusia pilihan\")"
   ]
  },
  {
   "attachments": {},
   "cell_type": "markdown",
   "metadata": {},
   "source": [
    "#11 01:04:03​ while loops 🔄"
   ]
  },
  {
   "cell_type": "code",
   "execution_count": null,
   "metadata": {},
   "outputs": [],
   "source": [
    "# While loop = a statement that will execute it's block of code,\n",
    "#              as long as it's condition remains True\n",
    "\n",
    "# name = \"\"\n",
    "\n",
    "# while len(name) == 0:\n",
    "#     name = input(\"Masukkan nama : \")\n",
    "\n",
    "# print(\"Hello \" + name)\n",
    "\n",
    "name = None # Objek dari tipe data NoneType yang berarti tidak adanya nilai atau null\n",
    "\n",
    "while not name:\n",
    "    name = input(\"Masukkan nama : \")\n",
    "\n",
    "print(\"Hello \" + name)"
   ]
  },
  {
   "attachments": {},
   "cell_type": "markdown",
   "metadata": {},
   "source": [
    "#12 01:07:31​ for loops ➰"
   ]
  },
  {
   "cell_type": "code",
   "execution_count": null,
   "metadata": {},
   "outputs": [],
   "source": [
    "# For loop = a statement that will execute it's block of code\n",
    "#            a limited amount of times\n",
    "# \n",
    "# - While loop = Unlimited\n",
    "# - For loop   = Limited\n",
    "\n",
    "# for i in range(10):\n",
    "#     print(i)\n",
    "\n",
    "# for i in range(50, 70+1, 2): # range (start|stop|step)\n",
    "#     print(i)\n",
    "\n",
    "import time\n",
    "\n",
    "for seconds in range(10, 0, -1):\n",
    "    print(seconds)\n",
    "    time.sleep(1)\n",
    "\n",
    "print(\"Happy New Years!\")"
   ]
  },
  {
   "attachments": {},
   "cell_type": "markdown",
   "metadata": {},
   "source": [
    "Time Module"
   ]
  },
  {
   "cell_type": "code",
   "execution_count": null,
   "metadata": {},
   "outputs": [],
   "source": [
    "import time\n",
    "\n",
    "# print(time.time())\n",
    "# print(\"Mulai\")\n",
    "# time.sleep(5) \n",
    "# print(\"Selesai\")\n",
    "# print(time.gmtime())\n",
    "# print(time.localtime())\n",
    "# print(time.asctime())\n",
    "# print(time.strftime(\"%Y-%m-%d %H:%M:%S %a\", time.localtime()))\n"
   ]
  },
  {
   "attachments": {},
   "cell_type": "markdown",
   "metadata": {},
   "source": [
    "#13 01:13:04​ nested loops ➿"
   ]
  },
  {
   "cell_type": "code",
   "execution_count": null,
   "metadata": {},
   "outputs": [],
   "source": [
    "# Nested loop = The \"inner loop\" will finish all of it's iteration before finishing one iteration of \"outer loop\"\n",
    "\n",
    "rows = int(input(\"How many Rowns?: \"))\n",
    "comlumns = int(input(\"How many Columns?: \"))\n",
    "symbol = input(\"Enter a symbol to use: \")\n",
    "\n",
    "for i in range(rows):\n",
    "    for i in range(comlumns):\n",
    "        print(symbol, end = \"-\") # End berfungi menambahkan String pada akhir dan membuat print selanjutnya dijalankan dalan satu baris\n",
    "    print()"
   ]
  },
  {
   "attachments": {},
   "cell_type": "markdown",
   "metadata": {},
   "source": [
    "#14 01:17:08 break continue pass ⛔"
   ]
  },
  {
   "cell_type": "code",
   "execution_count": null,
   "metadata": {},
   "outputs": [],
   "source": [
    "# Loop control statement = change a loops execution from its normal sequence / mengubah eksekusi loop dari urutan normalnya\n",
    "#       break       = used to terminate the loop entirely / digunakan untuk mengakhiri loop seluruhnya\n",
    "#       continue    = skips to the next iteration of the loop / melompat ke iterasi berikutnya dari loop\n",
    "#       pass        = does nothing, acts as a placeholder / tidak melakukan apa-apa, bertindak sebagai placeholder\n",
    "\n",
    "# while True:\n",
    "#     name = input(\"Enter your name: \")\n",
    "#     if name != \"\":\n",
    "#         break\n",
    "\n",
    "# phone_number = \"5493-3942-0393\"\n",
    "\n",
    "# for i in phone_number:\n",
    "#     if i == \"-\":\n",
    "#         continue\n",
    "#     print(i, end=\"\")\n",
    "\n",
    "for i in range(1, 21):\n",
    "    if i == 13:\n",
    "        pass\n",
    "    else:\n",
    "        print(i, end=\", \")"
   ]
  },
  {
   "attachments": {},
   "cell_type": "markdown",
   "metadata": {},
   "source": [
    "#15 01:21:06​ lists 🧾"
   ]
  },
  {
   "cell_type": "code",
   "execution_count": null,
   "metadata": {},
   "outputs": [],
   "source": [
    "# List = used to store multiple items in a single variabel\n",
    "\n",
    "# food = [\"pizza\", \"hamburger\", \"hotdog\", \"spaghetti\"]\n",
    "\n",
    "# food[0] = \"sushi\" # Akan mengganti pizza menjadi sushi\n",
    "\n",
    "# # print(food)\n",
    "# print(food[0]) # Indexing\n",
    "\n",
    "# for i in food:\n",
    "#     print(i)\n",
    "\n",
    "# food.append(\"donut\")\n",
    "\n",
    "# food1 = \"cake\", \"gorengan\"\n",
    "# food.extend(food1)\n",
    "# food.insert(6, \"coto\")\n",
    "# food.remove(\"hotdog\")\n",
    "# food.pop(3)\n",
    "# print(food.index(\"coto\"))\n",
    "# print(food.count(\"coto\"))\n",
    "# food.sort()\n",
    "# food.reverse()\n",
    "# food.clear()\n",
    "\n",
    "# print(type(food))"
   ]
  },
  {
   "attachments": {},
   "cell_type": "markdown",
   "metadata": {},
   "source": [
    "#16 01:26:58​ 2D lists 📜"
   ]
  },
  {
   "cell_type": "code",
   "execution_count": null,
   "metadata": {},
   "outputs": [],
   "source": [
    "# 2D lists = a list of lists\n",
    "\n",
    "drinks = [\"coffe\", \"soda\", \"tea\"]\n",
    "dinner = [\"pizza\", \"hamburger\", \"hotdog\"]\n",
    "dessert = [\"cake\", \"ice cream\"]\n",
    "\n",
    "food = [drinks, dinner, dessert]\n",
    "\n",
    "print(food[0][2]) # Indexing in 2D list"
   ]
  },
  {
   "attachments": {},
   "cell_type": "markdown",
   "metadata": {},
   "source": [
    "#17 01:30:47​ tuples 📄"
   ]
  },
  {
   "cell_type": "code",
   "execution_count": null,
   "metadata": {},
   "outputs": [],
   "source": [
    "# tuple = collection which is ordered and unchangeable used to group together related data\n",
    "# tuple = koleksi yang diurutkan dan tidak dapat diubah digunakan untuk mengelompokkan data terkait\n",
    "\n",
    "student = (\"Bro\", 21, \"Male\")\n",
    "\n",
    "# print(student.count(\"Bro\"))\n",
    "# print(student.index(\"Male\"))\n",
    "\n",
    "for i in student:\n",
    "    print(i)\n",
    "\n",
    "if \"Bro\" in student:\n",
    "    print(\"Bro is here!\")"
   ]
  },
  {
   "attachments": {},
   "cell_type": "markdown",
   "metadata": {},
   "source": [
    "#18 01:33:47​ sets 🍴"
   ]
  },
  {
   "cell_type": "code",
   "execution_count": null,
   "metadata": {},
   "outputs": [],
   "source": [
    "# Set = collection which is unordered, unindexed.  No duplicate value\n",
    "\n",
    "utensils = {\"fork\", \"spoon\", \"knife\"}\n",
    "dishes = {\"bowl\", \"plate\", \"cup\"}\n",
    "\n",
    "utensils.add(\"glass\")\n",
    "\n",
    "for i in utensils:\n",
    "    print(i)"
   ]
  },
  {
   "attachments": {},
   "cell_type": "markdown",
   "metadata": {},
   "source": [
    "add() - adds an element to the set  \n",
    "clear() - removes all elements from the set  \n",
    "copy() - returns a copy of the set  \n",
    "difference() - returns the difference of two or more sets as a new set  \n",
    "intersection() - returns the intersection of two or more sets as a new set  \n",
    "isdisjoint() - returns True if the set has no elements in common with another set  \n",
    "issubset() - returns True if the set is a subset of another set  \n",
    "issuperset() - returns True if the set is a superset of another set  \n",
    "pop() - removes and returns a random element from the set  \n",
    "remove() - removes an element from the set  "
   ]
  },
  {
   "attachments": {},
   "cell_type": "markdown",
   "metadata": {},
   "source": [
    "#19 01:40:03​ dictionaries 📖"
   ]
  },
  {
   "cell_type": "code",
   "execution_count": null,
   "metadata": {},
   "outputs": [],
   "source": [
    "# Dictionary = a changeable, unordered collection of unique key:value pairs\n",
    "#              fast because they use hashing, allowing us to access a value quickly\n",
    "# Kamus      = kumpulan kunci unik yang dapat diubah dan tidak diurutkan: pasangan nilai\n",
    "#              cepat karena mereka menggunakan hashing, memungkinkan kita mengakses suatu nilai dengan cepat\n",
    "\n",
    "capitals = {'USA':'Washington DC', 'India': 'New Delphi', 'China':'Beijing', 'Russia':'Moscow'}\n",
    "\n",
    "# print(capitals['India'])\n",
    "# print(capitals.get('USA'))\n",
    "# print(capitals.items())\n",
    "# print(capitals.keys())\n",
    "# print(capitals.values())\n",
    "\n",
    "# capitals.pop('Russia')\n",
    "# print(capitals)\n",
    "\n",
    "# print(capitals.popitem())\n",
    "# print(capitals)\n",
    "\n",
    "# capitals.update({'Japan':'Tokyo'}) # Bisa Menambahkan dan mengganti\n",
    "# print(capitals)\n",
    "\n",
    "# capitals1 = capitals.copy()\n",
    "# print(capitals1)\n",
    "\n",
    "# capitals.clear()\n",
    "# print(capitals)"
   ]
  },
  {
   "attachments": {},
   "cell_type": "markdown",
   "metadata": {},
   "source": [
    "clear()\t        Removes all the elements from the dictionary  \n",
    "copy()\t        Returns a copy of the dictionary  \n",
    "fromkeys()\t    Returns a dictionary with the specified keys and value  \n",
    "get()\t        Returns the value of the specified key  \n",
    "items() \t    Returns a list containing a tuple for each key value pair  \n",
    "keys()  \t    Returns a list containing the dictionary's keys  \n",
    "pop()\t        Removes the element with the specified key  \n",
    "popitem()\t    Removes the last inserted key-value pair  \n",
    "setdefault()\tReturns the value of the specified key. If the key does not exist: insert the key, with the specified value  \n",
    "update()\t    Updates the dictionary with the specified key-value pairs  \n",
    "values()\t    Returns a list of all the values in the dictionary  "
   ]
  },
  {
   "cell_type": "code",
   "execution_count": null,
   "metadata": {},
   "outputs": [],
   "source": [
    "capitals.update({'Japan':'Tokyo'})\n",
    "capitals.update({'USA':'Miami Better'})\n",
    "\n",
    "for key, value in capitals.items():\n",
    "    print(key, value)"
   ]
  },
  {
   "attachments": {},
   "cell_type": "markdown",
   "metadata": {},
   "source": [
    "#20 01:47:20​ indexing Operator📑"
   ]
  },
  {
   "cell_type": "code",
   "execution_count": null,
   "metadata": {},
   "outputs": [],
   "source": [
    "# Index operator [] = give access to a sequence's element (str, list, tulple)\n",
    "\n",
    "# name = \"alim Ilman Nurhadi!\"\n",
    "\n",
    "# if (name[0].islower()):\n",
    "#     name = name.title()\n",
    "\n",
    "# firs_name = name[:4].upper()\n",
    "# middle_name = name[5:10].lower()\n",
    "# last_name = name[11:18]\n",
    "# last_character = name[-1]\n",
    "\n",
    "# print(firs_name)\n",
    "# print(middle_name)\n",
    "# print(last_name)\n",
    "# print(last_character)\n",
    "\n",
    "# country = ['japan', 'usa', 'England', 'Germany', 'Indonesia']\n",
    "\n",
    "# country[0], country[1] = country[0].title(), country[1].upper()\n",
    "# print(country)\n",
    "\n",
    "# letter = ('a', 'b', 'c', 'd', 'e', 'g', 'h')\n",
    "\n",
    "# print(letter[-2:])\n",
    "\n"
   ]
  },
  {
   "attachments": {},
   "cell_type": "markdown",
   "metadata": {},
   "source": [
    "#21 01:53:23​ functions 📞"
   ]
  },
  {
   "cell_type": "code",
   "execution_count": null,
   "metadata": {},
   "outputs": [],
   "source": [
    "# Function = a block of code which is executed only when it is called\n",
    "\n",
    "def hello(firs_name, last_name, age):\n",
    "    print(f\"Hello {firs_name} {last_name}\")\n",
    "    print(f\"You are {age} years old\")\n",
    "    print(\"Have a nice day!\")\n",
    "\n",
    "hello(\"Andry\", \"Nurhadi\", 22)"
   ]
  },
  {
   "attachments": {},
   "cell_type": "markdown",
   "metadata": {},
   "source": [
    "#22 02:02:03​ return statement 🔙"
   ]
  },
  {
   "cell_type": "code",
   "execution_count": null,
   "metadata": {},
   "outputs": [],
   "source": [
    "# Return statement = functions send Python values/objects back to the caller.\n",
    "#                    these values/objects are known as the function's return value\n",
    "# Return statement = fungsi mengirim nilai/objek Python kembali ke pemanggil.\n",
    "#                    nilai/objek ini dikenal sebagai nilai kembalian fungsi\n",
    "\n",
    "# def multiply(num1, num2):\n",
    "#     print(num1 * num2)\n",
    "\n",
    "# m = multiply(2, 10)\n",
    "\n",
    "# print(m) # akan memiliki output None karena perintah print tidak memberikan nilai ke multiply(2,10)\n",
    "\n",
    "def multiply(num1, num2):\n",
    "    return num1 * num2\n",
    "\n",
    "m = multiply(2, 10)\n",
    "\n",
    "print(m) # akan memiliki output 20 karena multiply(2, 10) bernilai 20, dan teleh di asign ke variabel m"
   ]
  },
  {
   "attachments": {},
   "cell_type": "markdown",
   "metadata": {},
   "source": [
    "#23 02:04:51 keyword arguments 🔑"
   ]
  },
  {
   "cell_type": "code",
   "execution_count": null,
   "metadata": {},
   "outputs": [],
   "source": [
    "# Keyword argument = arguments preceded by an identifier when we pass them to a function\n",
    "#                    the order of the arguments doesn't matter, unlike positional arguments\n",
    "#                    python is known names of the argument that our function receives\n",
    "# Argumen kata kunci = argumen yang didahului oleh pengidentifikasi saat meneruskannya ke suatu fungsi\n",
    "# urutan argumen tidak penting, tidak seperti argumen posisional\n",
    "# python mengenal sebagai nama argumen yang diterima fungsi kita\n",
    "\n",
    "def hello(first, middle, last):\n",
    "    print(f\"Hello {first} {middle} {last}\")\n",
    "\n",
    "hello(middle=\"Ilman\", last=\"Nurhadi\", first=\"Alim\")"
   ]
  },
  {
   "attachments": {},
   "cell_type": "markdown",
   "metadata": {},
   "source": [
    "#24 02:07:09​ nested function calls 🖇️"
   ]
  },
  {
   "cell_type": "code",
   "execution_count": null,
   "metadata": {},
   "outputs": [],
   "source": [
    "# Nested function calls = function calls inside other function calls\n",
    "#                          innermost function calls are resolved first\n",
    "#                          returned value is used as an argument for the next outer function\n",
    "# Panggilan fungsi bersarang = panggilan fungsi di dalam panggilan fungsi lainnya\n",
    "#                              panggilan fungsi terdalam diselesaikan terlebih dahulu\n",
    "#                              nilai yang dikembalikan akan digunakan sebagai argumen untuk fungsi luar berikutnya\n",
    "\n",
    "num = input(\"Enter a whole number: \")\n",
    "num = float(num)\n",
    "num = abs(num)\n",
    "num = round(num)\n",
    "\n",
    "print(num)\n",
    "\n",
    "print(round(abs(float(input(\"Enter a whole number: \"))))) # Menjalankan function terdalam terlebih dahulu kemudian semakin keluar\n"
   ]
  },
  {
   "attachments": {},
   "cell_type": "markdown",
   "metadata": {},
   "source": [
    "#25 02:09:40​ variable scope 🔬"
   ]
  },
  {
   "cell_type": "code",
   "execution_count": null,
   "metadata": {},
   "outputs": [],
   "source": [
    "# Scope = the region where a variable is recognized\n",
    "#         a variable is only available from inside the region it is created\n",
    "#         a global and locally scoped version of a variable can be created\n",
    "# Cakupan = wilayah tempat variabel dikenali\n",
    "#           variabel hanya tersedia dari dalam wilayah yang dibuatnya\n",
    "#           versi variabel global dan cakupan lokal dapat dibuat\n",
    "\n",
    "name = \"Andry Global\" # global scope (available inside & outside function)\n",
    "\n",
    "def display_name():\n",
    "    name = \"Andry Local\" # local scope (available only inside this function)\n",
    "    print(name)\n",
    "\n",
    "display_name()\n",
    "print(name) "
   ]
  },
  {
   "attachments": {},
   "cell_type": "markdown",
   "metadata": {},
   "source": [
    "#26 02:13:23​ *args 📦"
   ]
  },
  {
   "cell_type": "code",
   "execution_count": null,
   "metadata": {},
   "outputs": [],
   "source": [
    "# *args = parameter that will pack all arguments into a tuple\n",
    "#         useful so that a function can accept a varying amount of arguments\n",
    "# *args = parameter yang akan mengemas semua argumen ke dalam tuple\n",
    "#         berguna agar suatu fungsi dapat menerima jumlah argumen yang bervariasi\n",
    "\n",
    "# def sum(*num):\n",
    "#     for i in num:\n",
    "#         print(i)\n",
    "\n",
    "# sum(1, 2, 3, 4, 5)\n",
    "\n",
    "\n",
    "def add(*stuff):\n",
    "    sum = 0\n",
    "    print(stuff)\n",
    "    for i in stuff:\n",
    "        sum += i\n",
    "    return sum\n",
    "\n",
    "print(add(1,2,3))"
   ]
  },
  {
   "attachments": {},
   "cell_type": "markdown",
   "metadata": {},
   "source": [
    "#27 02:16:58​ **kwargs 🎁"
   ]
  },
  {
   "cell_type": "code",
   "execution_count": null,
   "metadata": {},
   "outputs": [],
   "source": [
    "# **kwargs = parameter that will pack all arguments into a dictionary\n",
    "#            useful so that a function can accept a varying amount of keyword arguments\n",
    "# **kwargs = parameter yang akan mengemas semua argumen ke dalam dictionary\n",
    "#            berguna agar suatu fungsi dapat menerima jumlah argumen kata kunci yang bervariasi\n",
    "\n",
    "def name(**name):\n",
    "    print(\"Hello\", end=\" \")\n",
    "    for key, value in name.items():\n",
    "        print(value, end=\" \")\n",
    "\n",
    "name(firs=\"Alim\", middle=\"Ilman\", last=\"Nurhadi\")"
   ]
  },
  {
   "attachments": {},
   "cell_type": "markdown",
   "metadata": {},
   "source": [
    "#28 02:21:17​ string format 💬"
   ]
  },
  {
   "cell_type": "code",
   "execution_count": null,
   "metadata": {},
   "outputs": [],
   "source": [
    "# str.format = optional method that gives users\n",
    "#              more control when displaying output\n",
    "\n",
    "# nama = \"Alim\"\n",
    "# umur = 23\n",
    "\n",
    "# print(\"saya \" + nama + \" umur \" + str(umur))\n",
    "\n",
    "# # With str.format()\n",
    "# print(\"Saya {} umur {}\".format(nama, umur))\n",
    "# print(\"Saya {1} umur {0}\".format(umur, nama)) # Positional argument\n",
    "# print(\"Saya {umur} umur {umur}\".format(nama = \"Alim\", umur = \"23\")) # Keyword argument\n",
    "\n",
    "text = \"Saya {} umur {}\"\n",
    "print(text.format(\"Alim\", 23))\n",
    "\n",
    "# or\n",
    "print(f\"Saya {nama} umur {umur}\")"
   ]
  },
  {
   "cell_type": "code",
   "execution_count": null,
   "metadata": {},
   "outputs": [],
   "source": [
    "name = \"Alim\"\n",
    "\n",
    "print(\"Hello, my name is {}\".format(name))\n",
    "print(\"Hello, my name is {:10}. Nice to meet you\".format(name)) # objek akan berada di kiri\n",
    "print(\"Hello, my name is {:<10}. Nice to meet you\".format(name)) # objek akan berada di kiri\n",
    "print(\"Hello, my name is {:>10}. Nice to meet you\".format(name)) # objek akan berada di kanan\n",
    "print(\"Hello, my name is {:^10}. Nice to meet you\".format(name)) # objek akan berada di tengah"
   ]
  },
  {
   "cell_type": "code",
   "execution_count": null,
   "metadata": {},
   "outputs": [],
   "source": [
    "number = 1000\n",
    "\n",
    "print(\"The number pi is {:.2f}\".format(22/7))\n",
    "print(\"The number is {:,}\".format(number)) # Memberikan koma setiap 3 angka\n",
    "print(\"The number is {:_}\".format(number)) # Memberikan underscore setiap 3 angka \n",
    "print(\"The number is {:b}\".format(number)) # Memberikan nilai biner dari angka\n",
    "print(\"The number is {:o}\".format(number)) # Memberikan oktal number dari angka\n",
    "print(\"The number is {:x}\".format(number)) # Memberikan hex number dari angka\n",
    "print(\"The number is {:e}\".format(number)) # Memberikan notasi ilmian"
   ]
  },
  {
   "attachments": {},
   "cell_type": "markdown",
   "metadata": {},
   "source": [
    "#29 02:33:22​ random numbers 🎲"
   ]
  },
  {
   "cell_type": "code",
   "execution_count": null,
   "metadata": {},
   "outputs": [],
   "source": [
    "import random\n",
    "\n",
    "# number = random.randint(1,6) # Randong angka dari 1 sampai 6\n",
    "# randoms = random.random() # Memberikan angka float random\n",
    "\n",
    "# print(number)\n",
    "# print(\"{:.2f}\".format(randoms))\n",
    "\n",
    "# suit = ['Gunting', 'Batu', 'Kertas']\n",
    "# suit1 = random.choice(suit) # Memilih salah satu isi dari list suit\n",
    "\n",
    "# print(suit1)\n",
    "\n",
    "cards = [1, 2, 3, 4, 5, 6, 7, 8, 9, 'J', 'Q', 'K', 'A', 'Joker']\n",
    "\n",
    "random.shuffle(cards) # Mengacak isi dari list card\n",
    "\n",
    "print(cards)"
   ]
  },
  {
   "attachments": {},
   "cell_type": "markdown",
   "metadata": {},
   "source": [
    "#30 02:36:43​ exception handling ⚠️"
   ]
  },
  {
   "cell_type": "code",
   "execution_count": null,
   "metadata": {},
   "outputs": [],
   "source": [
    "# exception = events detected during execution that interrupt the flow of a program\n",
    "\n",
    "try:\n",
    "    numerator = int(input(\"Enter a number to divide: \"))\n",
    "    denominator = int(input(\"Enter a number to divide by: \"))\n",
    "    result = numerator / denominator\n",
    "except ZeroDivisionError as e: # Error akan dimasukkan ke dalam variabel e\n",
    "    print(e) # Mencetak error\n",
    "    print(\"You can't divide by zero! idiot!\")\n",
    "except ValueError as e:\n",
    "    # print(e)\n",
    "    print(\"Enter only number plz\")\n",
    "except Exception as e:\n",
    "    print(e)\n",
    "    print(\"Something went wrong :\")\n",
    "else:\n",
    "    print(result) # Error lain tetap muncul\n",
    "finally: # perintah ini akan selalu dicetak\n",
    "    print(\"This will always execute\")"
   ]
  },
  {
   "cell_type": "code",
   "execution_count": null,
   "metadata": {},
   "outputs": [],
   "source": [
    "# Latihan\n",
    "\n",
    "try:\n",
    "    x = input(\"Masukkan angka :\")\n",
    "    y = x * 0.99\n",
    "\n",
    "except ValueError:\n",
    "    print(\"Integer plz\")\n",
    "except TypeError as e:\n",
    "    print(e) # Memberikan Error\n",
    "    print(\"salah isi pak\")\n",
    "else:\n",
    "    print (\"Error lain\")\n",
    "finally:\n",
    "    print(\"Terdapat error\")"
   ]
  },
  {
   "attachments": {},
   "cell_type": "markdown",
   "metadata": {},
   "source": [
    "#31 02:43:40 file detection 📁"
   ]
  },
  {
   "cell_type": "code",
   "execution_count": null,
   "metadata": {},
   "outputs": [],
   "source": [
    "# Modul ini menyediakan akses ke fitur-fitur OS seperti path, file, \n",
    "# dan direktori melalui fungsi-fungsi yang disediakan oleh modul.\n",
    "# Ini memungkinkan program Python untuk melakukan tugas-tugas yang \n",
    "# berhubungan dengan sistem operasi seperti membuat direktori, mengubah nama file, dll.\n",
    "\n",
    "import os\n",
    "\n",
    "path = '/home/alim/Documents/Belajar-Python/Python Full Course' # variabel string dengan isi lokasi sebuah file\n",
    "\n",
    "if os.path.exists(path): # Mengecek keberadaan path\n",
    "    print(\"That location exists\")\n",
    "    if os.path.isfile(path): # Mengecek keberadaan file\n",
    "        print(\"That is a file\")\n",
    "    elif os.path.isdir(path): \n",
    "        print(\"That is a directory\")\n",
    "else:\n",
    "    print(\"That location doesn't exist:\")"
   ]
  },
  {
   "attachments": {},
   "cell_type": "markdown",
   "metadata": {},
   "source": [
    "Mendapatkan nama direktori aktual: \"os.getcwd()\" digunakan untuk mendapatkan nama direktori aktual di mana script Python sedang dijalankan.  \n",
    "Mengubah direktori kerja: \"os.chdir(path)\" digunakan untuk mengubah direktori kerja saat ini ke direktori yang ditentukan oleh path.  \n",
    "Membuat direktori baru: \"os.mkdir(path)\" digunakan untuk membuat direktori baru dengan nama yang ditentukan oleh path.\n",
    "Menghapus direktori: \"os.rmdir(path)\" digunakan untuk menghapus direktori yang ditentukan oleh path.  \n",
    "Menghapus file: \"os.remove(path)\" digunakan untuk menghapus file yang ditentukan oleh path.  \n",
    "Rename file: \"os.rename(src, dst)\" digunakan untuk mengubah nama file dari src menjadi dst  \n",
    "Mendapatkan list file di dalam folder : \"os.listdir(path)\" digunakan untuk mendapatkan daftar file dan folder dalam direktori yang ditentukan oleh path.  \n",
    "Mendapatkan informasi file : \"os.stat(path)\" digunakan untuk mendapatkan informasi statistik tentang file yang ditentukan oleh path.  "
   ]
  },
  {
   "attachments": {},
   "cell_type": "markdown",
   "metadata": {},
   "source": [
    "#32 02:47:28​ read a file 🔍"
   ]
  },
  {
   "cell_type": "code",
   "execution_count": null,
   "metadata": {},
   "outputs": [],
   "source": [
    "try:\n",
    "    with open('test1.txt') as file: # open() berguna hanya untuk membuka file\n",
    "        print(file.read()) # read() berguna membaca file\n",
    "except FileNotFoundError:\n",
    "    print(\"That file was not found \")"
   ]
  },
  {
   "cell_type": "code",
   "execution_count": null,
   "metadata": {},
   "outputs": [],
   "source": [
    "print(open('test.txt').read())"
   ]
  },
  {
   "attachments": {},
   "cell_type": "markdown",
   "metadata": {},
   "source": [
    "#33 02:51:00​ write a file 📝"
   ]
  },
  {
   "cell_type": "code",
   "execution_count": null,
   "metadata": {},
   "outputs": [],
   "source": [
    "text = \"Have a nice day\\nSee ya!\"\n",
    "\n",
    "with open('test1.txt','w') as file:\n",
    "    file.write(text)"
   ]
  },
  {
   "attachments": {},
   "cell_type": "markdown",
   "metadata": {},
   "source": [
    "\n",
    "Character\tMeaning\n",
    "'r'\topen for reading (default)\n",
    "'w'\topen for writing, truncating the file first\n",
    "'x'\tcreate a new file and open it for writing\n",
    "'a'\topen for writing, appending to the end of the file if it exists\n",
    "'b'\tbinary mode\n",
    "'t'\ttext mode (default)\n",
    "'+'\topen a disk file for updating (reading and writing)\n",
    "'U'\tuniversal newline mode (deprecated)"
   ]
  },
  {
   "attachments": {},
   "cell_type": "markdown",
   "metadata": {},
   "source": [
    "jika Anda hanya ingin melakukan operasi file sistem dasar seperti membuat direktori, mengubah nama file, dll, maka Anda dapat menggunakan modul os. Namun, jika Anda ingin melakukan operasi file sistem yang lebih complex seperti pemindahan, penghapusan, dan penyalinan file, maka Anda dapat menggunakan modul shutil."
   ]
  },
  {
   "attachments": {},
   "cell_type": "markdown",
   "metadata": {},
   "source": [
    "#34 02:53:45​ copy a file 🖨️"
   ]
  },
  {
   "cell_type": "code",
   "execution_count": null,
   "metadata": {},
   "outputs": [],
   "source": [
    "# copyfile() = copies contents of a file\n",
    "# copy()     = copyfiles() + permission mode + dedstination can be a directory\n",
    "# copy2()    = copy() + copies metadata (file's creation and modification times)\n",
    "\n",
    "import shutil\n",
    "\n",
    "shutil.copyfile('test.txt', 'test_copy,txt') # scr, dst # dapat diisi dengan atau tannpa path file "
   ]
  },
  {
   "attachments": {},
   "cell_type": "markdown",
   "metadata": {},
   "source": [
    "shutil.copy(src, dst): digunakan untuk menyalin file dari lokasi sumber (src) ke lokasi tujuan (dst).  \n",
    "shutil.copy2(src, dst): sama seperti shutil.copy(), tetapi juga menyalin metadata dari file sumber ke file tujuan.  \n",
    "shutil.copytree(src, dst): digunakan untuk menyalin seluruh direktori dari lokasi sumber (src) ke lokasi tujuan (dst). \n",
    "shutil.move(src, dst): digunakan untuk memindahkan file dari lokasi sumber (src) ke lokasi tujuan (dst).  \n",
    "shutil.rmtree(path): digunakan untuk menghapus seluruh direktori beserta isinya dari lokasi yang ditentukan.  \n",
    "shutil.make_archive(base_name, format, root_dir) : digunakan untuk membuat arsip dari sebuah folder dan memilih format arsip yang diinginkan (zip, tar, dll)  \n",
    "shutil.unpack_archive(filename, extract_dir, format) : digunakan untuk mengekstrak arsip yang dibuat dengan shutil.make_archive()  \n",
    "shutil.which(cmd) : digunakan untuk mencari lokasi file eksekutable dari perintah yang ditentukan."
   ]
  },
  {
   "attachments": {},
   "cell_type": "markdown",
   "metadata": {},
   "source": [
    "#35 02:57:05​ move a file 🗃️"
   ]
  },
  {
   "cell_type": "code",
   "execution_count": null,
   "metadata": {},
   "outputs": [],
   "source": [
    "# With OS module\n",
    "\n",
    "import os\n",
    "# os.mkdir('/home/alim/Documents/Belajar-Python/Python Full Course/folder') # Membuat folder baru\n",
    "# os.replace('test.txt', '/home/alim/Documents/Belajar-Python/Python Full Course/folder/test.txt') # Memindahkan file, nama file dapat diubah\n",
    "\n",
    "# With Shutil module\n",
    "import shutil\n",
    "\n",
    "# dst = '/home/alim/Documents/Belajar-Python/Python Full Course/folder'\n",
    "# src = '/home/alim/Documents/Belajar-Python/Python Full Course/test.txt'\n",
    "# shutil.move(src, dst)"
   ]
  },
  {
   "attachments": {},
   "cell_type": "markdown",
   "metadata": {},
   "source": [
    "#36 03:01:20​ delete a file 🗑️"
   ]
  },
  {
   "cell_type": "code",
   "execution_count": null,
   "metadata": {},
   "outputs": [],
   "source": [
    "import os\n",
    "\n",
    "# os.remove('/home/alim/Documents/Belajar-Python/Python Full Course/folder/test.txt') # Hapus file\n",
    "# os.rmdir('/home/alim/Documents/Belajar-Python/Python Full Course/folder') # Hapus folder\n",
    "\n",
    "import shutil\n",
    "\n",
    "# shutil.rmtree('/home/alim/Documents/Belajar-Python/Python Full Course/folder') # Hapus folder"
   ]
  },
  {
   "attachments": {},
   "cell_type": "markdown",
   "metadata": {},
   "source": [
    "os.remove() removes a file.  \n",
    "os.rmdir() removes an empty directory.  \n",
    "shutil.rmtree() deletes a directory and all its contents."
   ]
  },
  {
   "attachments": {},
   "cell_type": "markdown",
   "metadata": {},
   "source": [
    "#37 03:06:15​ modules 💌 - https://docs.python.org/3.10/py-modindex.html"
   ]
  },
  {
   "cell_type": "code",
   "execution_count": null,
   "metadata": {},
   "outputs": [],
   "source": [
    "# module = a file containing python code, may contain function, classes, etc.\n",
    "# used with modular programming, which is to separate a program into parts\n",
    "# modul  = file yang berisi kode python, dapat berisi fungsi, kelas, dll.\n",
    "# digunakan dengan pemrograman modular, yaitu memisahkan suatu program menjadi beberapa bagian\n",
    "\n",
    "# import messages as msg # as untuk mempersingkat modul\n",
    "\n",
    "# msg.hello()\n",
    "# msg.bye()\n",
    "\n",
    "# from messages import hello, bye # 'hello' dan 'bye' akan seperti modul sendiri, namun tidak disarankan untuk module yang besar\n",
    "\n",
    "# hello()\n",
    "# bye()\n",
    "\n",
    "# help(\"modules\") # Melihat module yang tersedia\n",
    "# help(\"math\") # Melihat isi dari sebuah module"
   ]
  },
  {
   "attachments": {},
   "cell_type": "markdown",
   "metadata": {},
   "source": [
    "#38 03:10:26 rock, paper, scissors game 🗿"
   ]
  },
  {
   "cell_type": "code",
   "execution_count": null,
   "metadata": {},
   "outputs": [],
   "source": [
    "# Membuat game suit jepang\n",
    "\n",
    "import random\n",
    "\n",
    "while True:\n",
    "\n",
    "    choice = ['rock', 'paper', 'scissors']\n",
    "    computer = random.choice(choice)\n",
    "\n",
    "    # pilihan = int(input(\"Pilih:\\n1. Rock\\n2. Paper\\n3. Scissors\"))\n",
    "    # terpilih = choice[pilihan-1]\n",
    "\n",
    "    terpilih = input(\"Pilih rock, paper, atau scissors?\")\n",
    "\n",
    "    if (terpilih not in choice):\n",
    "        continue\n",
    "\n",
    "    print(f\"Pilihan kamu : {terpilih}\\nPilihan computer : {computer}\")\n",
    "\n",
    "    if (terpilih == computer):\n",
    "        print(\"Seri\")\n",
    "    elif (terpilih == 'rock' and computer == 'scissors'):\n",
    "        print(\"Kamu menang\")\n",
    "    elif (terpilih == 'paper' and computer == 'rock'):\n",
    "        print(\"Kamu menang\")\n",
    "    elif (terpilih == 'scissors' and computer == 'paper'):\n",
    "        print(\"Kamu menang\")\n",
    "    else:\n",
    "        print(\"Kamu kalah\")\n",
    "    \n",
    "    print(\"_________________________\")\n",
    "\n",
    "    lagi = input(\"Apakah kamu ingin bermain lagi? (yes/no)\").lower()\n",
    "    \n",
    "    if lagi != \"yes\":\n",
    "        break"
   ]
  },
  {
   "attachments": {},
   "cell_type": "markdown",
   "metadata": {},
   "source": [
    "#39 03:18:32​ quiz game 💯"
   ]
  },
  {
   "cell_type": "code",
   "execution_count": null,
   "metadata": {},
   "outputs": [],
   "source": [
    "# Dict dari key:pertanyaan dan velue:jawaban yang tepat\n",
    "questions = {\n",
    "    \"Who creates Python?: \": \"A\",\n",
    "    \"What year was Pyhton created?: \": \"B\",\n",
    "    \"Pyhton is tributes to whict comedy group?: \": \"C\",\n",
    "    \"Is the Earth round?: \": \"A\"\n",
    "}\n",
    "# Nested list berisi pilihan jawaban\n",
    "options = [[\"A. Guido Van Rossum\", \"B. Elon\", \"C. Bill\", \"D. Mark\"],\n",
    "          [\"A. 1989\", \"B. 1991\", \"C. 2000\", \"D. 2016\"],\n",
    "          [\"A. Lonely\", \"B. Smosh\", \"C. Monty\", \"D. SNL\"],\n",
    "          [\"A. True\", \"B. False\", \"C.Sometimes\", \"D. What's Earth?\"]]\n",
    "\n",
    "\n",
    "# ------------------------------\n",
    "def new_game():\n",
    "\n",
    "    question_num = 0 # Membuat variabel int\n",
    "    guesses = [] # Membuat variable list\n",
    "    correct_guesses = 0 # Membuat variabel int\n",
    "\n",
    "    # Perulangan pertanyaan dengan memanggil key dari dict questions\n",
    "    for key, value in questions.items(): \n",
    "        print(\"------------------------------------------\")\n",
    "        print(key)\n",
    "        \n",
    "        # Perulangan nested loop dari list options\n",
    "        for i in options[question_num]:\n",
    "            print(i)\n",
    "\n",
    "        # input jawaban\n",
    "        guess = input(\"Enter (A, B, C, D): \").upper()\n",
    "        guesses.append(guess) # Memasukkan jawaban ke dalam list guesses\n",
    "\n",
    "        #get(key) akan memberikan nilai value dan value akan dicocokan dengan jawaban\n",
    "        correct_guesses += check_answer(questions.get(key), guess) \n",
    "\n",
    "        question_num += 1\n",
    "\n",
    "    display_score(correct_guesses, guesses)\n",
    "\n",
    "# ------------------------------\n",
    "def check_answer(answer, guess):\n",
    "    \n",
    "    if answer == guess:\n",
    "        print(\"CORRECT!\")\n",
    "        return 1\n",
    "    else:\n",
    "        print(\"WRONG!\")\n",
    "        return 0\n",
    "\n",
    "# ------------------------------\n",
    "def display_score(correct_guesses, guesses):\n",
    "    print(\"------------------------------------------\")\n",
    "    print(\"RESULTS\")\n",
    "    print(\"------------------------------------------\")\n",
    "    \n",
    "    print(\"Answer : \", end=\"\")\n",
    "    for i in questions:\n",
    "        print(questions.get(i), end=\" \")\n",
    "    print()\n",
    "\n",
    "    print(\"Guesses: \", end=\"\")\n",
    "    for i in guesses:\n",
    "        print(i , end=\" \")\n",
    "    print()\n",
    "\n",
    "    score = int((correct_guesses/len(questions))*100)\n",
    "    print(\"Your score is: \"+ str(score))\n",
    "    \n",
    "# ------------------------------\n",
    "def play_again():\n",
    "    \n",
    "    response = input(\"Do you want play againt?: (yes or no)\").upper()\n",
    "    \n",
    "    if response == \"YES\":\n",
    "        return True\n",
    "    else: \n",
    "        return False\n",
    "\n",
    "new_game()\n",
    "\n",
    "while play_again():\n",
    "    new_game()\n",
    "\n",
    "print(\"Byeeeee!\")"
   ]
  },
  {
   "attachments": {},
   "cell_type": "markdown",
   "metadata": {},
   "source": [
    "#40 03:35:45​ Object Oriented Programming (OOP) 🐍"
   ]
  },
  {
   "cell_type": "code",
   "execution_count": null,
   "metadata": {},
   "outputs": [],
   "source": [
    "class Car:\n",
    "\n",
    "    def __init__(self, make, model, year, color):\n",
    "        self.make = make\n",
    "        self.model = model\n",
    "        self.year = year\n",
    "        self.color = color\n",
    "\n",
    "    def drive(self):\n",
    "        print(\"This \"+self.model+\" is driving\")\n",
    "\n",
    "    def stop(self):\n",
    "        print(\"This \"+self.model+\" is stopped\")        "
   ]
  },
  {
   "cell_type": "code",
   "execution_count": null,
   "metadata": {},
   "outputs": [],
   "source": [
    "car1 = Car(\"BMW\", \"Kodok\", 1975, \"Putih\")\n",
    "car2 = Car(\"Ford\", \"Mustang\", 2022,\"Red\")\n",
    "\n",
    "print(car2.make)\n",
    "print(car2.model)\n",
    "print(car2.year)\n",
    "print(car2.color)\n",
    "\n",
    "car2.drive()\n",
    "car1.stop()"
   ]
  },
  {
   "attachments": {},
   "cell_type": "markdown",
   "metadata": {},
   "source": [
    "#41 03:45:06​ class variables 🚗"
   ]
  },
  {
   "cell_type": "code",
   "execution_count": null,
   "metadata": {},
   "outputs": [],
   "source": [
    "class Car:\n",
    "\n",
    "    wheels = 4 # Class variable\n",
    "\n",
    "    def __init__(self, make, model, year, color):\n",
    "        self.make = make # Instance variable\n",
    "        self.model = model # Instance variable\n",
    "        self.year = year # Instance variable\n",
    "        self.color = color # Instance variable"
   ]
  },
  {
   "cell_type": "code",
   "execution_count": null,
   "metadata": {},
   "outputs": [],
   "source": [
    "print(str(Car.wheels)+\" adalah nilai default\") # dapat langsung diberi nilai\n",
    "\n",
    "car1 = Car(\"BMW\", \"Kodok\", 1975, \"Putih\")\n",
    "car2 = Car(\"Ford\", \"Mustang\", 2022,\"Red\")\n",
    "\n",
    "# Car.wheels = 2 # Nilainya dapat diubah\n",
    "car1.wheels = 2\n",
    "\n",
    "print(car1.wheels)\n",
    "print(car1.wheels)"
   ]
  },
  {
   "attachments": {},
   "cell_type": "markdown",
   "metadata": {},
   "source": [
    "#42 03:48:54​ inheritance 👪  \n",
    "sebuah class dapat \"menurunkan\" properti dan metode dari class lain"
   ]
  },
  {
   "attachments": {},
   "cell_type": "markdown",
   "metadata": {},
   "source": [
    "digunakan ketika banyak class ingin diberikan function yang sama, dan masing-masing class memiliki function unik masing-masing"
   ]
  },
  {
   "cell_type": "code",
   "execution_count": null,
   "metadata": {},
   "outputs": [],
   "source": [
    "class Animal:\n",
    "    \n",
    "    alive = True\n",
    "\n",
    "    def eat(self):\n",
    "        print(\"This animal is eating\")\n",
    "    def sleep(self):\n",
    "        print(\"This animal is sleeping\")\n",
    "\n",
    "class Rabbit(Animal):\n",
    "\n",
    "    def run(self):\n",
    "        print(\"This Rabbit is running\")\n",
    "\n",
    "class Fish(Animal):\n",
    "    \n",
    "    def swim(self):\n",
    "        print(\"This Fish is swimming\")\n",
    "\n",
    "class Hawk(Animal):\n",
    "    \n",
    "    def fly(self):\n",
    "        print(\"This Haws is flying\")\n",
    "\n",
    "\n",
    "Rabbit().sleep()\n",
    "print(Fish().alive)\n",
    "Hawk().eat()\n",
    "\n",
    "Rabbit().run()\n",
    "Hawk().fly()"
   ]
  },
  {
   "attachments": {},
   "cell_type": "markdown",
   "metadata": {},
   "source": [
    "#43 03:55:30​ multilevel inheritance 👴"
   ]
  },
  {
   "cell_type": "code",
   "execution_count": null,
   "metadata": {},
   "outputs": [],
   "source": [
    "# Multi-level inheritance = when a derived (child) class inherits another derived (child) class\n",
    "# Multi-level inheritance = ketika kelas turunan (anak) mewarisi kelas turunan (anak) lainnya\n",
    "\n",
    "class Organism():\n",
    "\n",
    "    alive = True\n",
    "\n",
    "class Animal(Organism):\n",
    "\n",
    "    def eat(self):\n",
    "        print(\"This Animal is eating\")\n",
    "\n",
    "class Dog(Animal):\n",
    "\n",
    "    def bark(self):\n",
    "        print(\"This Dog is barking\")\n",
    "\n",
    "print(Dog().alive) #class dog dapat mengakses class Organism\n",
    "Animal().eat()"
   ]
  },
  {
   "attachments": {},
   "cell_type": "markdown",
   "metadata": {},
   "source": [
    "#44 03:58:32 multiple inheritance 👨‍👩‍👧‍👦"
   ]
  },
  {
   "cell_type": "code",
   "execution_count": null,
   "metadata": {},
   "outputs": [],
   "source": [
    "# Multiple inheritanse = when a child class is derived from more than one parent class\n",
    "\n",
    "class Prey:\n",
    "\n",
    "    def flee(self):\n",
    "        print(\"This animal fless\")\n",
    "\n",
    "class Predator:\n",
    "\n",
    "    def hunt(self):\n",
    "        print(\"This animal is hunting\")\n",
    "\n",
    "class fish(Predator, Prey): # Class dapat memiliki lebih dari satu parrent class\n",
    "    pass\n",
    "\n",
    "fish().flee()\n",
    "fish().hunt()"
   ]
  },
  {
   "attachments": {},
   "cell_type": "markdown",
   "metadata": {},
   "source": [
    "#45 04:01:49 method overriding 🙅"
   ]
  },
  {
   "cell_type": "code",
   "execution_count": null,
   "metadata": {},
   "outputs": [],
   "source": [
    "class Predator:\n",
    "\n",
    "    def hunt(self):\n",
    "        print(\"This animal is hunting\")\n",
    "\n",
    "class fish(Predator, Prey): # Class dapat memiliki lebih dari satu parrent class\n",
    "    \n",
    "    def hunt(self):\n",
    "        print(\"This fish is running from a cat\")\n",
    "\n",
    "fish = fish()\n",
    "fish.hunt()"
   ]
  },
  {
   "attachments": {},
   "cell_type": "markdown",
   "metadata": {},
   "source": [
    "#46 04:04:14​ method chaining ⛓️"
   ]
  },
  {
   "cell_type": "code",
   "execution_count": null,
   "metadata": {},
   "outputs": [],
   "source": [
    "# Method chaining = calling multiple method sequencetially\n",
    "#                   each call performs an action on the same objeck and return self\n",
    "\n",
    "class Car:\n",
    "\n",
    "    def turn_on(self):\n",
    "        print(\"You start the engine\")\n",
    "        return self # Tambahkan return self agar fuction berisi self\n",
    "\n",
    "    def drive(self):\n",
    "        print(\"You drive the car\")\n",
    "        return self\n",
    "\n",
    "    def brake(self):\n",
    "        print(\"You step on the brakes\")\n",
    "        return self\n",
    "\n",
    "    def turn_off(self):\n",
    "        print(\"You turn off the engine\")\n",
    "        return self\n",
    "\n",
    "car = Car()\n",
    "\n",
    "car.turn_on()\\\n",
    "    .drive()\\\n",
    "    .brake()"
   ]
  },
  {
   "attachments": {},
   "cell_type": "markdown",
   "metadata": {},
   "source": [
    "#47 04:08:08 super function 🦸"
   ]
  },
  {
   "cell_type": "code",
   "execution_count": null,
   "metadata": {},
   "outputs": [],
   "source": [
    "# super() = function used to give access to the methods of a parent class.\n",
    "#           return a temporary object of a parent class when used\n",
    "# super() = fungsi yang digunakan untuk memberikan akses ke metode kelas induk.\n",
    "# mengembalikan objek sementara dari kelas induk saat digunakan\n",
    "\n",
    "class Rectangle:\n",
    "    \n",
    "    def __init__(self, length, width):\n",
    "        self.length = length\n",
    "        self.width = width\n",
    "\n",
    "class Square(Rectangle):\n",
    "\n",
    "    def __init__(self, length, width):\n",
    "        super().__init__(length, width)\n",
    "\n",
    "    def area(self):\n",
    "        return self.length*self.width\n",
    "\n",
    "class Cube(Rectangle):\n",
    "\n",
    "    def __init__(self, length, width, heigth):\n",
    "        super().__init__(length, width)\n",
    "        self.heigth = heigth\n",
    "\n",
    "    def volume(self):\n",
    "        return self.length*self.width*self.heigth\n",
    "\n",
    "square = Square(3, 3)\n",
    "cube = Cube(3, 3, 3)\n",
    "\n",
    "print(square.area())\n",
    "print(cube.volume())\n"
   ]
  },
  {
   "cell_type": "code",
   "execution_count": null,
   "metadata": {},
   "outputs": [],
   "source": [
    "class Orang:\n",
    "    def __init__(self,nama,umur):\n",
    "        self.nama=nama\n",
    "        self.umur=umur\n",
    "    def get_info(self):\n",
    "        print(f\"Nama: {self.nama}\")\n",
    "        print(f\"Umur: {self.umur}\")\n",
    "\n",
    "class Mahasiswa(Orang):\n",
    "    def __init__(self,nama,umur,nim):\n",
    "        super().__init__(nama,umur)\n",
    "        self.nim=nim\n",
    "    def get_info(self):\n",
    "        super().get_info()\n",
    "        print(f\"NIM : {self.nim}\")\n",
    "\n",
    "mhs=Mahasiswa(\"John\",22,\"12345\")\n",
    "mhs.get_info()"
   ]
  },
  {
   "attachments": {},
   "cell_type": "markdown",
   "metadata": {},
   "source": [
    "#48 04:12:09​ abstract classes 👻"
   ]
  },
  {
   "cell_type": "code",
   "execution_count": null,
   "metadata": {},
   "outputs": [],
   "source": [
    "# Prevent a user from creating an object of that class\n",
    "# + compels a user to override an abstract method in a child class\n",
    "\n",
    "# abstract class = a class that contains one or more abstract methods\n",
    "# Abstract method = a method that has a declaration but does not have an implementation\n",
    "\n",
    "# Cegah pengguna membuat objek dari kelas itu\n",
    "# + memaksa pengguna untuk mengganti metode abstrak di kelas anak\n",
    "\n",
    "# kelas abstrak = kelas yang berisi satu atau lebih metode abstrak\n",
    "# Metode abstrak = metode yang memiliki deklarasi tetapi tidak memiliki implementasi\n",
    "\n",
    "import abc\n",
    "\n",
    "class Vehicle(abc.ABC):\n",
    "\n",
    "    @abc.abstractmethod\n",
    "    def go(self):\n",
    "        pass\n",
    "\n",
    "class Car(Vehicle):\n",
    "    # pass\n",
    "    def go(self):\n",
    "        print(\"You drive the car\")\n",
    "\n",
    "class Motorcycle(Vehicle):\n",
    "\n",
    "    def go(self):\n",
    "        print(\"You drive the motorcyle\")\n",
    "\n",
    "# vehicle = Vehicle()\n",
    "# vehicle.go()\n",
    "\n",
    "# car = Car()\n",
    "# car.go()\n",
    "\n",
    "motorcycle = Motorcycle()\n",
    "motorcycle.go()"
   ]
  },
  {
   "attachments": {},
   "cell_type": "markdown",
   "metadata": {},
   "source": [
    "abstak metode adalah metode yang tidak memiliki implementasi di dalam kelas induk(tidak dapat digunakan), tetapi harus didefinisikan di dalam kelas turunannya."
   ]
  },
  {
   "attachments": {},
   "cell_type": "markdown",
   "metadata": {},
   "source": [
    "#49 04:19:12 objects as arguments 🏍️"
   ]
  },
  {
   "cell_type": "code",
   "execution_count": null,
   "metadata": {},
   "outputs": [],
   "source": [
    "class Car:\n",
    "\n",
    "    color = 4\n",
    "\n",
    "class Motorcycle:\n",
    "\n",
    "    color = None\n",
    "\n",
    "def change_color(vehicle, color):\n",
    "\n",
    "    vehicle.color = color\n",
    "\n",
    "car_1 = Car() # membuat variabel berisikan class\n",
    "car_2 = Car()\n",
    "motorcycle_1 = Motorcycle()\n",
    "motorcycle_2 = Motorcycle()\n",
    "\n",
    "change_color(car_1,\"Red\")\n",
    "change_color(car_2,\"Blue\")\n",
    "change_color(motorcycle_1,\"white\")\n",
    "change_color(motorcycle_2,\"Black\")\n",
    "\n",
    "print(car_1.color)\n",
    "print(car_2.color)\n",
    "print(motorcycle_1.color)\n",
    "print(motorcycle_2.color)\n",
    "\n",
    "# Sama saja dengan ini, namun cara diatas dibuat sebuat method, jika ingit digunakan berkali-kali lebih baik dibuat method atau function \n",
    "# test = Car()\n",
    "# test.color = \"Yellow\" "
   ]
  },
  {
   "attachments": {},
   "cell_type": "markdown",
   "metadata": {},
   "source": [
    "#50 04:23:20​ duck typing 🦆"
   ]
  },
  {
   "cell_type": "code",
   "execution_count": null,
   "metadata": {},
   "outputs": [],
   "source": [
    "# Duck typing = concept where the class of an object is less important than the method/attributes\n",
    "#               class type is not checked if minimum methods/attributes are present\n",
    "#               \"If it walks like a duck, and it quacks like a duck, then it must be a duck\"\n",
    "\n",
    "# Pengetikan bebek = konsep di mana kelas suatu objek kurang penting daripada metode/atribut\n",
    "# tipe kelas tidak dicentang jika ada metode/atribut minimum\n",
    "# \"Jika berjalan seperti bebek, dan bersuara seperti bebek, maka itu pasti bebek\"\n",
    "\n",
    "try: \n",
    "    class Duck:\n",
    "        \n",
    "        def walk(self):\n",
    "            print(\"This duck is walking\")\n",
    "\n",
    "        def talk(self):\n",
    "            print(\"This duck is qwuaking\")\n",
    "\n",
    "    class Chiken:\n",
    "\n",
    "        def talk(self):\n",
    "            print(\"This chiken is clucking\")\n",
    "\n",
    "    class Person:\n",
    "\n",
    "        def catch(self, animal):\n",
    "            animal.walk()\n",
    "            animal.talk()\n",
    "            print(\"You caught the critter!\")\n",
    "\n",
    "    duck = Duck()\n",
    "    chiken = Chiken()\n",
    "    person = Person()\n",
    "\n",
    "    person.catch(chiken)\n",
    "\n",
    "except AttributeError as e:\n",
    "    print(e)\n",
    "    print(\"not duck\")\n",
    "\n"
   ]
  },
  {
   "attachments": {},
   "cell_type": "markdown",
   "metadata": {},
   "source": [
    "#51 04:27:38 walrus operator 🦦"
   ]
  },
  {
   "cell_type": "code",
   "execution_count": null,
   "metadata": {},
   "outputs": [],
   "source": [
    "# Walrus operator   :=\n",
    "#                    new to pyhton 3.8\n",
    "#                    assignment expression aka walrus operator\n",
    "# assign value to variables as part of a larger expression\n",
    "\n",
    "# happy = True\n",
    "# print(happy)\n",
    "\n",
    "# print(happy := True)\n",
    "\n",
    "# foods = []\n",
    "\n",
    "# while True:\n",
    "#     food = input(\"What food do you like?:\").title()\n",
    "#     if food == \"Quit\":\n",
    "#         break\n",
    "#     foods.append(food)\n",
    "\n",
    "# print(foods)\n",
    "\n",
    "# foods = []\n",
    "\n",
    "# while (food := input(\"Whar food do you like?:\").title()) != \"Quit\": \n",
    "#     foods.append(food)\n",
    "\n",
    "# print(foods)\n",
    "\n",
    "# my_list = [1,2,3,4,5,6,7,7,1,2,3,4]\n",
    "\n",
    "# if (n := len(my_list)) > 10: # Membuat variable n sekaligus memberikan hasil len\n",
    "#     print(f\"List is too long ({n} elements, expected <= 10)\")\n"
   ]
  },
  {
   "attachments": {},
   "cell_type": "markdown",
   "metadata": {},
   "source": [
    "#52 04:31:45​ functions to variables 📛"
   ]
  },
  {
   "cell_type": "code",
   "execution_count": null,
   "metadata": {},
   "outputs": [],
   "source": [
    "def hello():\n",
    "    print(\"Hello\")\n",
    "\n",
    "print(hello)\n",
    "\n",
    "hi = hello\n",
    "print(hi)\n",
    "# masing-masing memiliki isi hello, dan memory addres-nya sama. yang berarti keduanya sama"
   ]
  },
  {
   "cell_type": "code",
   "execution_count": null,
   "metadata": {},
   "outputs": [],
   "source": [
    "say = print\n",
    "\n",
    "say(\"Whoa! I cant believe this works! :0\")"
   ]
  },
  {
   "attachments": {},
   "cell_type": "markdown",
   "metadata": {},
   "source": [
    "#53 04:35:21​ higher order functions 👑"
   ]
  },
  {
   "cell_type": "code",
   "execution_count": null,
   "metadata": {},
   "outputs": [],
   "source": [
    "# Higher Order function = a function that either: \n",
    "#                         1. accepts a function as an argument\n",
    "#                             or\n",
    "#                         2. return a function\n",
    "#                            (in Pyhton, functions are also treated as objects)\n",
    "\n",
    "# Fungsi Urutan Tinggi = fungsi yang:\n",
    "# 1. menerima fungsi sebagai argumen\n",
    "#                             atau\n",
    "# 2. mengembalikan fungsi\n",
    "# (dalam Pyhton, fungsi juga diperlakukan sebagai objek)\n",
    "\n",
    "def loud(text):\n",
    "    return text.upper()\n",
    "\n",
    "def quiet(text):\n",
    "    return text.lower()\n",
    "\n",
    "def hello(func):\n",
    "    print(func(\"Hello\"))\n",
    "\n",
    "hello(loud)\n",
    "hello(quiet) #function akan menjadi object\n",
    "\n",
    " "
   ]
  },
  {
   "cell_type": "code",
   "execution_count": null,
   "metadata": {},
   "outputs": [],
   "source": [
    "def divisor(x):\n",
    "    def dividend(y):\n",
    "        return y / x\n",
    "    return dividend\n",
    "\n",
    "# divide = divisor(2) # fungsi ini akan di jadikan argumen / variabel\n",
    "\n",
    "# print(divide(10))\n",
    "\n",
    "# divisor(2)(10)"
   ]
  },
  {
   "attachments": {},
   "cell_type": "markdown",
   "metadata": {},
   "source": [
    "Higher-order function adalah sebuah fungsi di Python yang mengambil atau mengembalikan sebuah fungsi sebagai argumen atau hasil dari eksekusi. Fungsi yang diterima atau dikembalikan sebagai argumen atau hasil dari eksekusi disebut dengan fungsi yang diterima atau dikembalikan sebagai argumen atau hasil dari eksekusi"
   ]
  },
  {
   "attachments": {},
   "cell_type": "markdown",
   "metadata": {},
   "source": [
    "#54 04:41:06​ lambda λ"
   ]
  },
  {
   "cell_type": "code",
   "execution_count": null,
   "metadata": {},
   "outputs": [],
   "source": [
    "# lambda function = function written in 1 line using lambda keyword\n",
    "#                   accepts any number of arguments, but only has one expression\n",
    "#                   (think of it as a shortcut)\n",
    "#                   (useful if needed for a short period of time, throw-away)\n",
    "\n",
    "# lambda paramereters : expression\n",
    "\n",
    "# fungsi lambda = fungsi yang ditulis dalam 1 baris menggunakan kata kunci lambda\n",
    "#                 menerima sejumlah argumen, tetapi hanya memiliki satu ekspresi\n",
    "#                 (anggap saja sebagai jalan pintas)\n",
    "#                 (berguna jika diperlukan untuk waktu yang singkat, dibuang)\n",
    "\n",
    "# parameter lambda : ekspresi\n",
    "\n",
    "# Lambda adalah sebuah fungsi anonim di Python. Fungsi anonim adalah sebuah fungsi tanpa nama yang didefinisikan menggunakan kata kunci lambda. Fungsi lambda digunakan untuk membuat fungsi sederhana yang hanya memiliki satu ekspresi (pernyataan) dan tidak memiliki nama. Fungsi lambda sering digunakan sebagai argumen dalam fungsi built-in Python seperti map(), filter(), dan reduce().\n",
    "\n",
    "# def double(x):\n",
    "#     return x * 2\n",
    "\n",
    "# print(double(5))\n",
    "\n",
    "# Jika menggunakan lambda\n",
    "# double = lambda x:x * 2\n",
    "# multiply = lambda x, y: x * y\n",
    "# add = lambda x, y, z:x + y + z\n",
    "\n",
    "# print(double(5))\n",
    "# print(multiply(10,2))\n",
    "# print(add(10, 10, 10))\n",
    "\n",
    "# full_name = lambda first_name, middle_name,last_name: first_name + \" \" + middle_name + \" \" + last_name\n",
    "\n",
    "# print(full_name(\"Alim\", \"Ilman\", \"Nurhadi\")) \n",
    "\n",
    "# age_check = lambda age:True if age >= 18 else False\n",
    "\n",
    "# print(age_check(18))\n",
    "\n",
    "# cara if-elif-else menggunakan lambda\n",
    "# age_check = lambda age:\"bocah\" if age < 18 else \"remaja dan bapak-bapak\" if age < 35 else \"Tua\" if age >= 35 and age < 65 else \"Tua Banget\"\n",
    "# print(age_check(64))"
   ]
  },
  {
   "attachments": {},
   "cell_type": "markdown",
   "metadata": {},
   "source": [
    "#55 04:45:44​ sort 🗄️"
   ]
  },
  {
   "cell_type": "code",
   "execution_count": null,
   "metadata": {},
   "outputs": [],
   "source": [
    "# sort() method = used with list\n",
    "# sort() function = used with iterables\n",
    "\n",
    "# student = [\"Squidward\", \"Sandy\", \"Patrick\", \"Spongebob\", \"Mr. Krabs\"]\n",
    "\n",
    "# akan mengurutkan nama dalam list\n",
    "# student.sort(reverse=True) # Sebagai method\n",
    "\n",
    "# print(student)\n",
    "\n",
    "# for i in student:\n",
    "#     print(i)\n",
    "\n",
    "# dengan Tuple\n",
    "student = (\"Squidward\", \"Sandy\", \"Patrick\", \"Spongebob\", \"Mr. Krabs\")\n",
    "\n",
    "# mengurutkan namun tidak memperbaharui tuple\n",
    "sorted(student) # Sebagai function\n",
    "\n",
    "# harus membuat variabel dengan isi tuple yang telah diurutkan\n",
    "sorted_studen = sorted(student) # Sebagai function \n",
    "\n",
    "print(student) #masih seperti list aslinya\n",
    "print(sorted_studen)"
   ]
  },
  {
   "cell_type": "code",
   "execution_count": null,
   "metadata": {},
   "outputs": [],
   "source": [
    "# with list of tuple\n",
    "\n",
    "students = [(\"Squidwar\", \"F\", 60),\n",
    "(\"Sandy\", \"A\", 33),\n",
    "(\"Patrick\", \"D\", 36),\n",
    "(\"Spongebob\", \"B\", 20),\n",
    "(\"Mr. Krabs\", \"C\", 78)]\n",
    "\n",
    "# akan mengurutkan dengan objek ke 1 tuple yaitu Squidwar dll\n",
    "# students.sort()\n",
    "\n",
    "#mengurutkan list of tuple berdasarkan elemen kedua\n",
    "# grade = lambda grades:grades[1]\n",
    "# students.sort(key=grade)\n",
    "\n",
    "# atau begini\n",
    "students.sort(key=lambda x:x[1])\n",
    "\n",
    "for i in students:\n",
    "    print(i)"
   ]
  },
  {
   "cell_type": "code",
   "execution_count": null,
   "metadata": {},
   "outputs": [],
   "source": [
    "# Jika tuple of tuple\n",
    "students = ((\"Squidwar\", \"F\", 60),\n",
    "(\"Sandy\", \"A\", 33),\n",
    "(\"Patrick\", \"D\", 36),\n",
    "(\"Spongebob\", \"B\", 20),\n",
    "(\"Mr. Krabs\", \"C\", 78))\n",
    "\n",
    "#perlu membuat variabel\n",
    "sorted_students = sorted(students, key=lambda x:x[1] )\n",
    "\n",
    "for i in sorted_students:\n",
    "    print(i)"
   ]
  },
  {
   "cell_type": "code",
   "execution_count": null,
   "metadata": {},
   "outputs": [],
   "source": [
    "# Menyortir list berdasarkan panjang string\n",
    "words = [\"cat\", \"dog\", \"bird\", \"fish\"]\n",
    "words.sort(key=len)\n",
    "print(words)\n",
    "# Output: [\"cat\", \"dog\", \"bird\", \"fish\"]\n",
    "\n",
    "# Menyortir list berdasarkan huruf terakhir\n",
    "words = [\"cat\", \"dog\", \"bird\", \"fish\"]\n",
    "words.sort(key=lambda x: x[-1])\n",
    "print(words)\n",
    "# Output: [\"cat\", \"fish\", \"dog\", \"bird\"]\n",
    "\n",
    "# Menyortir list of tuple berdasarkan elemen kedua\n",
    "data = [(1, 2), (3, 1), (2, 3)]\n",
    "data.sort(key=lambda x: x[1])\n",
    "print(data)\n",
    "# Output: [(3, 1), (1, 2), (2, 3)]\n"
   ]
  },
  {
   "attachments": {},
   "cell_type": "markdown",
   "metadata": {},
   "source": [
    "#56 04:53:22​ map 🗺️"
   ]
  },
  {
   "cell_type": "code",
   "execution_count": null,
   "metadata": {},
   "outputs": [],
   "source": [
    "# Map = applies a function to each item in an iterable (lstring, list, tuple, set, dan dictionary.)\n",
    "# map(function. iterable)\n",
    "\n",
    "store = [(\"baju\",45000),(\"celana\", 200000), (\"kolor\", 11000), (\"jaket\", 265000)]\n",
    "\n",
    "to_dollar = lambda x: (x[0],round(x[1]/15026))\n",
    "\n",
    "store_dollar = list((map(to_dollar, store)))\n",
    "\n",
    "# print(store_dollar)\n",
    "\n",
    "for i in store_dollar:\n",
    "    print(i)"
   ]
  },
  {
   "cell_type": "code",
   "execution_count": null,
   "metadata": {},
   "outputs": [],
   "source": [
    "suhu_fahrenheit = [12, 32, 45, 67, 123]\n",
    "\n",
    "hasil = map(lambda x: (x - 32) * 5/9, suhu_fahrenheit)\n",
    "\n",
    "print(list(hasil))"
   ]
  },
  {
   "attachments": {},
   "cell_type": "markdown",
   "metadata": {},
   "source": [
    "#57 04:57:17​ filter 🍺"
   ]
  },
  {
   "cell_type": "code",
   "execution_count": null,
   "metadata": {},
   "outputs": [],
   "source": [
    "# filter() = creates a collection of elements from an iterable for which a function returns \n",
    "\n",
    "# filter() = membuat kumpulan elemen dari iterable yang mengembalikan fungsi\n",
    "\n",
    "# filter(function, iterable)\n",
    "\n",
    "friends = [(\"Rachel\", 19), (\"Monica\", 18), (\"Phoebe\", 17), (\"Joey\", 16), (\"Chandler\", 21), (\"Ross\", 20)]\n",
    "\n",
    "age = lambda data:data[1] >= 18 # index [1] karena umur akan menjadi data[1] karena masing-masing tuple akan dikumpulkan oleh filter()\n",
    "\n",
    "ganjil = lambda x:x[1] % 2 == 0 # Hasil True yang akan diambil filter\n",
    "\n",
    "print(list(filter(ganjil, friends)))\n",
    "\n",
    "# old = list(filter(age, friends))\n",
    "\n",
    "# for i in old:\n",
    "#     print(i)"
   ]
  },
  {
   "attachments": {},
   "cell_type": "markdown",
   "metadata": {},
   "source": [
    "Map() dan filter() adalah dua fungsi yang berbeda di Python. Fungsi map() digunakan untuk mengubah setiap elemen dalam iterasi dan mengembalikan nilai baru. Filter() digunakan untuk menyaring item dari iterasi dan mengembalikan nilai yang bernilai True. Perbedaannya terletak pada operasi yang diterapkan pada setiap elemen dari iterasi. Fungsi map() memungkinkan Anda mengubah setiap elemen dari iterasi sementara fungsi filter() hanya memungkinkan Anda memfilter item yang memenuhi kondisi tertentu."
   ]
  },
  {
   "attachments": {},
   "cell_type": "markdown",
   "metadata": {},
   "source": [
    "#58 05:00:10​ reduce ♻️"
   ]
  },
  {
   "cell_type": "code",
   "execution_count": null,
   "metadata": {},
   "outputs": [],
   "source": [
    "# reduce() = apply a function to an iterable and reduce it to a single cumulative value.\n",
    "#            perform a function on the first two elements and repeats the process until the value remains\n",
    "\n",
    "# reduce() = terapkan fungsi ke iterable dan kurangi menjadi satu nilai kumulatif.\n",
    "# jalankan fungsi pada dua elemen pertama dan ulangi proses hingga nilainya tetap\n",
    "#\n",
    "# reduce(function, iterable)\n",
    "\n",
    "import functools\n",
    "\n",
    "# # Initialize the list\n",
    "# lst = [1, 2, 3, 4]\n",
    "\n",
    "# # Use reduce to get the sum of lst \n",
    "# sum_lst = functools.reduce(lambda a, b: a + b, lst)\n",
    "\n",
    "# # Print the sum\n",
    "# print(sum_lst)\n",
    "\n",
    "letters = [\"H\", \"E\", \"L\", \"L\", \"O\"]\n",
    "word = functools.reduce(lambda x, y:x + y, letters)\n",
    "print(word)\n"
   ]
  },
  {
   "attachments": {},
   "cell_type": "markdown",
   "metadata": {},
   "source": [
    "#59 05:04:54​ list comprehensions 📰"
   ]
  },
  {
   "cell_type": "code",
   "execution_count": null,
   "metadata": {},
   "outputs": [],
   "source": [
    "# List comprehension = a way to create a new list with less syntax\n",
    "#                      can mimic certain lambda functions, easier to read\n",
    "# list = [expressin for an item in iterable]\n",
    "\n",
    "# Pemahaman daftar = cara membuat daftar baru dengan lebih sedikit sintaks\n",
    "#                    dapat meniru fungsi lambda tertentu, lebih mudah dibaca\n",
    "# list = [ekspresikan untuk item dalam iterable]\n",
    "\n",
    "# squares = []\n",
    "# for i in range(1,11):\n",
    "#     squares.append(i * i)\n",
    "\n",
    "# print(squares)\n",
    "\n",
    "# cara diatas memerlukan beberapa baris code sedangkan list comprehension hanya satu baris saja, seperti berikut\n",
    "\n",
    "# squares = [i * i for i in range(1,11)]\n",
    "\n",
    "# print(squares) \n",
    "\n",
    "students = [100,90,70,60,50,40,30,0]\n",
    "# passed_students = list(filter(lambda x:x >= 60, students))\n",
    "\n",
    "# print(passed_students)\n",
    "\n",
    "# list = [expressin for an item in iterable if conditional]\n",
    "# passed_students = [i for i in students if i >= 60]\n",
    "# print(passed_students)\n",
    "\n",
    "# list = [expressin (if/else) for an item in iterable]\n",
    "passed_students = [i if i >= 60 else \"FAILED\" for i in students ]\n",
    "\n",
    "print(passed_students)"
   ]
  },
  {
   "cell_type": "code",
   "execution_count": null,
   "metadata": {},
   "outputs": [],
   "source": [
    "# List comprehension digunakan untuk membuat list baru dengan cepat dan efisien dari list lain\n",
    "\n",
    "# contoh untuk mengambil kuadrat dari setiap elemen dalam list\n",
    "numbers = [1, 2, 3, 4, 5]\n",
    "squared_numbers = [x**2 for x in numbers]\n",
    "print(squared_numbers)\n",
    "# output: [1, 4, 9, 16, 25]\n",
    "\n",
    "# contoh untuk mengambil hanya bilangan genap dari list\n",
    "numbers = [1, 2, 3, 4, 5, 6, 7, 8, 9, 10]\n",
    "even_numbers = [x for x in numbers if x % 2 == 0]\n",
    "print(even_numbers)\n",
    "# output: [2, 4, 6, 8, 10]\n"
   ]
  },
  {
   "attachments": {},
   "cell_type": "markdown",
   "metadata": {},
   "source": [
    "#60 05:10:54 dictionary comprehensions 🕮"
   ]
  },
  {
   "cell_type": "code",
   "execution_count": null,
   "metadata": {},
   "outputs": [],
   "source": [
    "# dictionary comprehension = create dictionaries using an expression\n",
    "#                           can replace for loops and certains lambda functions\n",
    "# dictionary = {key: expression for (key, value) in iterable}\n",
    "# dictionary = {key: expression for (key, value) in iterable if conditional}\n",
    "# dictionary = {key: (if/else) for (key, value) in iterable}\n",
    "# dictionary = {key: function(value) for (key,value) in iterable}\n",
    "\n",
    "# suhu_f = {'New York': 32, 'Boston': 75, 'Los Angela': 100}\n",
    "# suhu_c = {key: round((value-32)*(5/9)) for key, value in suhu_f.items()}\n",
    "\n",
    "# print(suhu_c)\n",
    "\n",
    "# weather = {'New York': 'snowing', 'Boston': 'sunny', 'Los Angeles':'cloudy'}\n",
    "\n",
    "# weather_sunny = {key: value for key, value in weather.items() if 'sunny' in value}\n",
    "\n",
    "# print(weather_sunny)\n",
    "\n",
    "# weather = {'New York': 27, 'Boston': 29, 'Los Angeles':30}\n",
    "\n",
    "# keaadaan = {key: \"dingin\" if value <= 28 else \"panas\" for key, value in weather.items()}\n",
    "\n",
    "# print(keaadaan)\n",
    "\n",
    "def check(value):\n",
    "    if value <= 28:\n",
    "        return \"dingin\" \n",
    "    else:\n",
    "        return \"panas\"\n",
    "\n",
    "weather = {'New York': 27, 'Boston': 29, 'Los Angeles':30}\n",
    "\n",
    "keaadaan = {key: check(value) for key,value in weather.items()}\n"
   ]
  },
  {
   "attachments": {},
   "cell_type": "markdown",
   "metadata": {},
   "source": [
    "#61 05:18:59​ zip function 🤐"
   ]
  },
  {
   "cell_type": "code",
   "execution_count": null,
   "metadata": {},
   "outputs": [],
   "source": [
    "# Zip = aggregate element from two or more iterable (list, tuple, sets, etc.)\n",
    "#       creates a zip object with paired elements stored in tuples for each element\n",
    "\n",
    "# Zip = elemen agregat dari dua atau lebih iterable (daftar, tupel, set, dll.)\n",
    "# membuat objek zip dengan elemen berpasangan yang disimpan dalam tupel untuk setiap elemen\n",
    "\n",
    "# zip(iterables,iterable,,,,)\n",
    "\n",
    "username = [\"Dude\", \"Bro\", \"Mister\"]\n",
    "password = (\"Passw0rd\", \"abc123\", \"guest999\")\n",
    "login_date = [\"1/1/2023\", \"12/1/2023\", \"25/1/2023\"]\n",
    "\n",
    "# users = zip(username, password, login_date)\n",
    "\n",
    "users = list(zip(username, password, login_date))\n",
    "\n",
    "print(users) # zip object\n",
    "\n",
    "for i in users:\n",
    "    print(i)"
   ]
  },
  {
   "attachments": {},
   "cell_type": "markdown",
   "metadata": {},
   "source": [
    "#62 05:23:41​ if name == '__main__' ❓"
   ]
  },
  {
   "cell_type": "code",
   "execution_count": null,
   "metadata": {},
   "outputs": [],
   "source": [
    "# if __name__ == '__main__'\n",
    "\n",
    "# y tho?\n",
    "# 1. Module can be run as a standalone program\n",
    "# 2. Module can be imported and used by other modules\n",
    "\n",
    "# Python interpreter sets \"Special Variables\", one of with is __name__\n",
    "# then python will execute the code found within __main__\n",
    "\n",
    "# __main__ digunakan di Python untuk menentukan bagian dari kode yang harus dijalankan saat sebuah script dijalankan secara langsung, dan tidak saat script tersebut diimport sebagai module oleh skrip lain. Hal ini berguna ketika kita memiliki sebuah script yang berisi beberapa fungsi atau kelas yang bisa digunakan oleh skrip lain, tetapi kita juga ingin menyertakan kode yang hanya harus dijalankan saat script tersebut dijalankan secara langsung.\n",
    "\n",
    "# print(__name__)\n",
    "\n",
    "# import modul\n",
    "# print(modul.__name__)\n",
    "\n",
    "# def hello():\n",
    "#     print(\"hello!!!\")\n",
    "\n",
    "# if __name__ == \"__main__\":\n",
    "#     hello() # function yang berada disini tidak dapat di akses oleh skrip lain"
   ]
  },
  {
   "attachments": {},
   "cell_type": "markdown",
   "metadata": {},
   "source": [
    "#63 05:29:21​ time module ⌚"
   ]
  },
  {
   "cell_type": "code",
   "execution_count": null,
   "metadata": {},
   "outputs": [],
   "source": [
    "import time\n",
    "\n",
    "# print(time.ctime(0)) # convert a time expressed in second since epoch to a readable string\n",
    "# # epoch = when your computer thinks time began (reference point)\n",
    "\n",
    "# print(time.time()) # return current second since epoch\n",
    "\n",
    "# print(time.ctime(time.time()))\n",
    "#  print(time.gmtime()) # GMT time now\n",
    "\n",
    "# time_object = time.localtime()\n",
    "# print(time_object)\n",
    "\n",
    "# conver time object ke string time\n",
    "# local_time = time.strftime(\"%B %d %Y %H: %M:%S\", time_object) # format dapat dilihat di https://docs.python.org/3.10/library/time.html\n",
    "# print(local_time)\n",
    "\n",
    "#convert string time ke time object\n",
    "# time_string = \"20 April, 2020\"\n",
    "# time_object = time.strptime(time_string, \"%d %B, %Y\")\n",
    "# print(time_object)\n",
    "\n",
    "# time tuple berisi (tm_year, tm_mon, tm_mday, tm_hour, tm_min, tm_sec, tm_wday, tm_yday, tm_isds)\n",
    "\n",
    "time_tuple = (2023, 1, 28, 4, 20, 0, 0, 0, 0)\n",
    "time_string = time.asctime(time_tuple)\n",
    "print(time_string)"
   ]
  },
  {
   "attachments": {},
   "cell_type": "markdown",
   "metadata": {},
   "source": [
    "time.time(), yang digunakan untuk mengembalikan waktu UNIX sebagai float, yang menunjukkan jumlah detik yang berlalu sejak tanggal 1 Januari 1970 (epoch).  \n",
    "time.sleep(seconds) yang digunakan untuk menunda eksekusi program selama jumlah detik yang ditentukan.  \n",
    "time.gmtime(seconds): Mengonversi waktu UNIX (dalam detik) ke struct_time yang dapat diparsing yang diubah menjadi waktu UTC (Coordinated Universal Time).  \n",
    "time.localtime(seconds): Mengonversi waktu UNIX (dalam detik) ke struct_time yang dapat diparsing yang diubah menjadi waktu lokal.  \n",
    "time.strftime(format, time_tuple): Mengonversi struct_time atau waktu UNIX (dalam detik) ke string menurut format yang ditentukan.  \n",
    "time.strptime(string, format): Mengonversi string ke struct_time menurut format yang ditentukan.  \n",
    "time.mktime(time_tuple): Mengonversi struct_time ke waktu UNIX (dalam detik).  \n",
    "time.asctime(time_tuple): Mengembalikan string waktu yang diformat dengan cara yang sama dengan asctime () dari modul waktu standar.  \n",
    "time.ctime(seconds): Mengembalikan string waktu yang diformat dari waktu UNIX (dalam detik) dengan cara yang sama dengan ctime () dari modul waktu standar."
   ]
  },
  {
   "attachments": {},
   "cell_type": "markdown",
   "metadata": {},
   "source": [
    "#64 05:39:58​ threading 🧵"
   ]
  },
  {
   "cell_type": "code",
   "execution_count": null,
   "metadata": {},
   "outputs": [],
   "source": [
    "# thread = a flow of executing. like a separate order of instructions\n",
    "#           however each thread takes a turn running to achieve concurrency\n",
    "#           GIL = (global interpreter lock)\n",
    "#           allows only one thread to hold the control of the python interpreter at any one time\n",
    "# \n",
    "#  cpu bound = program/task spends most of it's time waiting for internal events (CPU intensive)\n",
    "#               use multiprocessing\n",
    "# \n",
    "# io bound = program/task spends most of it's time waiting for external events (user input, web scraping) \n",
    "#           use multithreading\n",
    "\n",
    "import threading\n",
    "import time\n",
    "\n",
    "start = time.perf_counter()\n",
    "\n",
    "def eat_breakfast():\n",
    "    time.sleep(2)\n",
    "    print(\"You eat breakfast\")\n",
    "\n",
    "def drink_coffee():\n",
    "    time.sleep(3)\n",
    "    print(\"You drink coffee\")\n",
    "\n",
    "def study():\n",
    "    time.sleep(4)\n",
    "    print(\"You finish studing\")\n",
    "\n",
    "x = threading.Thread(target=eat_breakfast)\n",
    "x.start()\n",
    "\n",
    "y = threading.Thread(target=drink_coffee)\n",
    "y.start()\n",
    "\n",
    "z = threading.Thread(target=study)\n",
    "z.start()\n",
    "\n",
    "x.join()\n",
    "y.join()\n",
    "z.join()\n",
    "\n",
    "# eat_breakfast()\n",
    "# drink_coffee()\n",
    "# study()\n",
    "\n",
    "finish = time.perf_counter()\n",
    "\n",
    "print(threading.active_count())\n",
    "print(threading.enumerate())\n",
    "print(str(finish-start))\n",
    "\n",
    "# semua perintah di jalankan bersamaan secara pararel sehingga waktu yg diperlukan hanya 4 detik saja"
   ]
  },
  {
   "attachments": {},
   "cell_type": "markdown",
   "metadata": {},
   "source": [
    "threading.Thread() : digunakan untuk membuat thread baru.  \n",
    "threading.activeCount() : digunakan untuk mengetahui jumlah thread yang sedang aktif.  \n",
    "threading.currentThread() : digunakan untuk mengetahui thread yang sedang berjalan saat ini.  \n",
    "threading.enumerate() : digunakan untuk mengetahui daftar thread yang sedang aktif.  \n",
    "threading.Lock() : digunakan untuk mengunci thread agar tidak diganggu oleh thread lain.  \n",
    "threading.RLock() : digunakan untuk mengunci thread reentrant.  \n",
    "threading.Semaphore() : digunakan untuk mengatur akses terhadap sumber daya yang terbatas.  \n",
    "threading.Event() : digunakan untuk mengatur komunikasi antar thread.  "
   ]
  },
  {
   "attachments": {},
   "cell_type": "markdown",
   "metadata": {},
   "source": [
    "#65 05:53:31​ daemon threads 😈"
   ]
  },
  {
   "cell_type": "code",
   "execution_count": null,
   "metadata": {},
   "outputs": [],
   "source": [
    "# daemon threads = a thread that runs in the background, not importand for program to run \n",
    "#                   your program will not wait for daemon threads to complete before exiting\n",
    "#                   non-daemon threads cannot normally be killed, stay alive until task is complete\n",
    "\n",
    "#                   ex. background tasks, garbage collection, waiting for input, long running processes\n",
    "\n",
    "# import threading, time\n",
    "\n",
    "# def timer():\n",
    "#     count = 0\n",
    "#     while True:\n",
    "#         time.sleep(1)\n",
    "#         count += 1\n",
    "#         print(\"logged in for: \", count, \"second\")\n",
    "\n",
    "# x = threading.Thread(target=timer)\n",
    "# x.setDaemon()"
   ]
  },
  {
   "attachments": {},
   "cell_type": "markdown",
   "metadata": {},
   "source": [
    "#66 05:58:19​ multiprocessing ⚡"
   ]
  },
  {
   "cell_type": "code",
   "execution_count": null,
   "metadata": {},
   "outputs": [],
   "source": [
    "# multiprocessing = running tasks in parellel on different cpu cores, bypasses GIL used for threading\n",
    "#                   multiprocessing = better for cpu bound task (heavy cpu usage)\n",
    "#                   multithreading = better for io bound taks (waiting around)\n",
    "# multiprocessing = menjalankan tugas secara paralel pada core cpu yang berbeda, melewati GIL yang digunakan untuk threading\n",
    "# multiprocessing = lebih baik untuk tugas terikat cpu (penggunaan cpu berat)\n",
    "# multithreading = lebih baik untuk io terikat taks (menunggu)\n",
    "\n",
    "import multiprocessing, time\n",
    "\n",
    "start = time.perf_counter()\n",
    "\n",
    "def counter(num):\n",
    "    count = 0\n",
    "    while count < num:\n",
    "        count +=1 \n",
    "\n",
    "def main():\n",
    "\n",
    "    a = multiprocessing.Process(target=counter, args=(250000000,)) #arg harus di isi tuple bisa dengan (nilai,)\n",
    "    b = multiprocessing.Process(target=counter, args=(250000000,)) #arg harus di isi tuple bisa dengan (nilai,)\n",
    "    c = multiprocessing.Process(target=counter, args=(250000000,))\n",
    "    d = multiprocessing.Process(target=counter, args=(250000000,))\n",
    "    e = multiprocessing.Process(target=counter, args=(250000000,))\n",
    "    f = multiprocessing.Process(target=counter, args=(250000000,))\n",
    "    g = multiprocessing.Process(target=counter, args=(250000000,))\n",
    "    h = multiprocessing.Process(target=counter, args=(250000000,))\n",
    "    \n",
    "    a.start()\n",
    "    b.start()\n",
    "    c.start()\n",
    "    d.start()\n",
    "    e.start()\n",
    "    f.start()\n",
    "    g.start()\n",
    "    h.start()\n",
    "\n",
    "    a.join()\n",
    "    b.join()\n",
    "    c.join()\n",
    "    d.join()\n",
    "    e.join()\n",
    "    f.join()\n",
    "    g.join()\n",
    "    h.join()\n",
    "\n",
    "    finish = time.perf_counter()\n",
    "\n",
    "    print(\"finishes in:\", finish-start, \"seconds\")\n",
    "    # print(\"finishes in:\", time.perf_counter(), \"seconds\")\n",
    "\n",
    "if __name__ == '__main__':\n",
    "    main()"
   ]
  },
  {
   "cell_type": "code",
   "execution_count": null,
   "metadata": {},
   "outputs": [],
   "source": [
    "import multiprocessing\n",
    "\n",
    "print(multiprocessing.cpu_count())"
   ]
  },
  {
   "cell_type": "code",
   "execution_count": null,
   "metadata": {},
   "outputs": [],
   "source": [
    "import multiprocessing\n",
    "import time\n",
    "\n",
    "# fungsi yang akan dijalankan pada setiap proses\n",
    "def process_data(data):\n",
    "    print(\"Process\", multiprocessing.current_process().name, \"is processing data:\", data)\n",
    "    time.sleep(1)  # simulasi pengolahan data yang memakan waktu\n",
    "\n",
    "if __name__ == \"__main__\":\n",
    "    # data yang akan di proses\n",
    "    data = [1, 2, 3, 4, 5, 6, 7, 8, 9, 10]\n",
    "\n",
    "    # membagi data menjadi 4 bagian\n",
    "    data_parts = [data[i:i+len(data)//4] for i in range(0, len(data), len(data)//4)]\n",
    "    print(\"Data parts:\", data_parts)\n",
    "\n",
    "    # membuat proses untuk setiap bagian data\n",
    "    processes = []\n",
    "    for i, part in enumerate(data_parts):\n",
    "        p = multiprocessing.Process(target=process_data, args=(part,))\n",
    "        processes.append(p)\n",
    "        p.start()\n",
    "        \n",
    "    # menunggu proses selesai\n",
    "    for p in processes:\n",
    "        p.join()"
   ]
  },
  {
   "cell_type": "code",
   "execution_count": null,
   "metadata": {},
   "outputs": [],
   "source": [
    "import multiprocessing, sys\n",
    "\n",
    "def process1():\n",
    "    print(\"Process 1 is running\", flush=True)\n",
    "\n",
    "def process2():\n",
    "    print(\"Process 2 is running\", flush=True)\n",
    "\n",
    "if __name__ == \"__main__\":\n",
    "    p1 = multiprocessing.Process(target=process1)\n",
    "    p2 = multiprocessing.Process(target=process2)\n",
    "\n",
    "    p1.start()\n",
    "    p2.start()\n",
    "\n",
    "    p1.join()\n",
    "    p2.join()"
   ]
  },
  {
   "attachments": {},
   "cell_type": "markdown",
   "metadata": {},
   "source": [
    "Beberapa contoh aplikasi yang dapat menggunakan multiprocessing:\n",
    "\n",
    "1. Aplikasi pemrosesan data besar: Seperti aplikasi yang digunakan untuk menganalisis data dari sensor atau pemrosesan data dari eksperimen besar, dapat menggunakan multiprocessing untuk memproses data secara paralel dan meningkatkan performa aplikasi.\n",
    "\n",
    "2. Aplikasi komputasi berat: Seperti aplikasi yang digunakan untuk simulasi fisika atau komputasi ilmiah, dapat menggunakan multiprocessing untuk meningkatkan performa aplikasi dengan membagi tugas komputasi ke dalam beberapa proses yang dijalankan secara paralel.\n",
    "\n",
    "3. Aplikasi web scraping: Aplikasi yang digunakan untuk mengambil data dari website yang berbeda, dapat menggunakan multiprocessing untuk mengambil data dari website yang berbeda secara paralel dan meningkatkan performa aplikasi.\n",
    "\n",
    "Beberapa contoh aplikasi yang dapat menggunakan multithreading:\n",
    "\n",
    "1. Aplikasi GUI: Seperti aplikasi yang digunakan untuk menampilkan interface grafis, dapat menggunakan multithreading untuk menjalankan tugas seperti responsif pada input pengguna, pembaruan tampilan, dan pemrosesan data secara paralel.\n",
    "\n",
    "2. Aplikasi jaringan: Seperti aplikasi yang digunakan untuk mengirim dan menerima data dari jaringan, dapat menggunakan multithreading untuk menjalankan tugas seperti pengiriman data, penerimaan data, dan pemrosesan data secara paralel.\n",
    "\n",
    "3. Aplikasi pemrosesan gambar: Seperti aplikasi yang digunakan untuk mengolah gambar, dapat menggunakan multithreading untuk menjalankan tugas seperti pemrosesan gambar, pembaruan tampilan, dan pemrosesan data secara paralel."
   ]
  },
  {
   "attachments": {},
   "cell_type": "markdown",
   "metadata": {},
   "source": [
    "#67 06:07:15​ GUI windows 🖼️"
   ]
  },
  {
   "cell_type": "code",
   "execution_count": null,
   "metadata": {},
   "outputs": [],
   "source": [
    "# widgets = GUI element: button, textboxes, labels, images\n",
    "# windows = server as a container to hold or contain these widgeds\n",
    "\n",
    "import tkinter as tk\n",
    "\n",
    "window = tk.Tk() #instantiace an instance of a window\n",
    "window.geometry(\"500x500\")\n",
    "window.title(\"Alim Firts GUI Program\")\n",
    "\n",
    "img = tk.PhotoImage(file='logo.png')\n",
    "window.iconphoto(False, img)\n",
    "window.config(background=\"#abdbe3\") # bisa text kyk \"black\" dan pakai hex value\n",
    "\n",
    "window.mainloop() # place windows on computer screen, listen for events"
   ]
  },
  {
   "attachments": {},
   "cell_type": "markdown",
   "metadata": {},
   "source": [
    "#68 06:14:41​ labels 🛎️"
   ]
  },
  {
   "cell_type": "code",
   "execution_count": null,
   "metadata": {},
   "outputs": [],
   "source": [
    "# label = an area widget that hold text an/or a image within windows\n",
    "\n",
    "import tkinter as tk\n",
    "\n",
    "window = tk.Tk()\n",
    "\n",
    "photo = tk.PhotoImage(file='D:\\Visual Studio Code\\Jupyter Notebook\\Belajar-Python\\Data\\logo.png')\n",
    "\n",
    "label = tk.Label(window,\n",
    "                 text=\"Hello World\",\n",
    "                 font=('Arial',40,'italic'),\n",
    "                 relief='sunken',\n",
    "                 fg='blue',\n",
    "                 bg='black',\n",
    "                 padx=15,\n",
    "                 pady=15,\n",
    "                 image=photo,\n",
    "                 compound='bottom')\n",
    "label.pack()\n",
    "# label.place(x=100,y=100)\n",
    "\n",
    "window.mainloop()"
   ]
  },
  {
   "attachments": {},
   "cell_type": "markdown",
   "metadata": {},
   "source": [
    "#69 06:24:24​ buttons 🛎️"
   ]
  },
  {
   "cell_type": "code",
   "execution_count": null,
   "metadata": {},
   "outputs": [],
   "source": [
    "# button = you click it, then it does stuff\n",
    "\n",
    "import tkinter as tk\n",
    "\n",
    "count = 0\n",
    "def click():\n",
    "    global count \n",
    "    count += 1\n",
    "    print(\"You cliked the button {} times\".format(count))\n",
    "\n",
    "window = tk.Tk()\n",
    "\n",
    "photo = tk.PhotoImage(file='D:\\Visual Studio Code\\Jupyter Notebook\\Belajar-Python\\Data\\logo.png')\n",
    "\n",
    "button = tk.Button(window,\n",
    "                   text='click me',\n",
    "                   command=click,\n",
    "                   font=('Comic Sans',30,'bold'),\n",
    "                   fg='#ccccb3',\n",
    "                   bg='#333300',\n",
    "                   activebackground='#ccccb3',\n",
    "                   activeforeground='#333300',\n",
    "                   state='normal',\n",
    "                   image=photo,\n",
    "                   compound='top')\n",
    "button.pack()\n",
    "\n",
    "window.mainloop()"
   ]
  },
  {
   "attachments": {},
   "cell_type": "markdown",
   "metadata": {},
   "source": [
    "#70 06:30:44​ entrybox ⌨️"
   ]
  },
  {
   "cell_type": "code",
   "execution_count": null,
   "metadata": {},
   "outputs": [],
   "source": [
    "# entry wigdet = textbox that accepts a single line of user input\n",
    "\n",
    "import tkinter as tk\n",
    "\n",
    "def submit():\n",
    "    username = entry.get()\n",
    "    print(f\"hello {username}\")\n",
    "    entry.config(state='disable') # saat submit aktif entry akan disable\n",
    "\n",
    "def delete():\n",
    "    entry.delete(0,'end') # untuk delete semua isi entry\n",
    "\n",
    "def backspace():\n",
    "    entry.delete(len(entry.get())-1,'end') # len akan menghitung dari 1, method delete menggunakan indexing yang berawal dari 0\n",
    "\n",
    "window = tk.Tk()\n",
    "\n",
    "entry = tk.Entry(window,\n",
    "                 font=(\"Arial\",12), \n",
    "                 fg='blue') \n",
    "# entry.insert(0,'isi disini') # memberikan isi pada entry pada saat pertama kali dibuka\n",
    "entry.config(show='*')  # akan menampil * dalam entry berguna ketika entry berguna untuk input password\n",
    "entry.pack(side='left')\n",
    "\n",
    "submit_button = tk.Button(window,\n",
    "                          text='Submit',command=submit)\n",
    "submit_button.pack(side='right')\n",
    "\n",
    "delete_button = tk.Button(window,\n",
    "                          text='Delete',command=delete)\n",
    "delete_button.pack(side='right')\n",
    "\n",
    "backspace_button = tk.Button(window,\n",
    "                          text='Backspace',command=backspace)\n",
    "backspace_button.pack(side='right')\n",
    "\n",
    "window.mainloop()"
   ]
  },
  {
   "attachments": {},
   "cell_type": "markdown",
   "metadata": {},
   "source": [
    "#71 06:40:15​ checkbox ✔️"
   ]
  },
  {
   "cell_type": "code",
   "execution_count": null,
   "metadata": {},
   "outputs": [],
   "source": [
    "import tkinter as tk\n",
    "\n",
    "\n",
    "def display():\n",
    "    if (x.get() == 1): # .get() untuk mengambil objek dalam variable\n",
    "        print(\"You agree\")\n",
    "    else:\n",
    "        print(\"You don't agree\")\n",
    "\n",
    "window = tk.Tk()\n",
    "\n",
    "x = tk.IntVar() # membuat varible x berisi integer\n",
    "\n",
    "img = tk.PhotoImage(file='D:\\Visual Studio Code\\Jupyter Notebook\\Belajar-Python\\Data\\logo.png')\n",
    "\n",
    "cheack_button = tk.Checkbutton(window,\n",
    "                               text='I agree to something',\n",
    "                               variable=x,\n",
    "                               onvalue=1,\n",
    "                               offvalue=0,\n",
    "                               command=display,\n",
    "                               font=('Arial',20,'bold'),\n",
    "                               padx=25,\n",
    "                               pady=15,\n",
    "                               image=img,\n",
    "                               compound='left')\n",
    "\n",
    "cheack_button.pack()\n",
    "\n",
    "window.mainloop()"
   ]
  },
  {
   "attachments": {},
   "cell_type": "markdown",
   "metadata": {},
   "source": [
    "StringVar: untuk membuat objek string yang dapat dipantau dan diubah  \n",
    "DoubleVar: untuk membuat objek floating point yang dapat dipantau dan diubah  \n",
    "BooleanVar: untuk membuat objek boolean yang dapat dipantau dan diubah  \n",
    "IntVar: digunakan untuk membuat objek integer yang dapat dipantau dan diubah dalam aplikasi GUI\n",
    "  \n",
    ".get() adalah digunakan untuk mengambil nilai dari variabel tersebut"
   ]
  },
  {
   "attachments": {},
   "cell_type": "markdown",
   "metadata": {},
   "source": [
    "#72 06:49:08​ radio buttons 🔘"
   ]
  },
  {
   "cell_type": "code",
   "execution_count": null,
   "metadata": {},
   "outputs": [],
   "source": [
    "# radio button = similiar to checkbox, but you can only select one from a group\n",
    "\n",
    "import tkinter as tk\n",
    "\n",
    "food = ['Pizza','Hamburger','Rendang']\n",
    "\n",
    "def choice():\n",
    "    if (x.get() == 0):\n",
    "        print(\"You eating Pizza\")\n",
    "    elif (x.get() == 1):\n",
    "        print(\"You eating Hamburger\")\n",
    "    else:\n",
    "        print(\"You eating Rendang\")\n",
    "\n",
    "window = tk.Tk()\n",
    "\n",
    "pizza_photo = tk.PhotoImage(file='D:\\\\Visual Studio Code\\\\Jupyter Notebook\\\\Belajar-Python\\\\Data\\\\pizza.png')\n",
    "hamburger_photo = tk.PhotoImage(file='D:\\\\Visual Studio Code\\\\Jupyter Notebook\\\\Belajar-Python\\\\Data\\\\hamburger.png')\n",
    "rendang_photo = tk.PhotoImage(file='D:\\\\Visual Studio Code\\\\Jupyter Notebook\\\\Belajar-Python\\\\Data\\\\rendang.png')\n",
    "\n",
    "photo = [pizza_photo,hamburger_photo,rendang_photo]\n",
    "\n",
    "x = tk.IntVar()\n",
    "\n",
    "for index in range(len(food)):\n",
    "    radio_button = tk.Radiobutton(window, \n",
    "                                  text=food[index], # memberikan text dari variable list food\n",
    "                                  variable=x, # semua radio button akan mengisi variable yang sama\n",
    "                                  value=index, # memberikan setiap radio button value berdasarkan index\n",
    "                                  padx=25,\n",
    "                                  command=choice,\n",
    "                                  font=('Impact',20),\n",
    "                                  image=photo[index],\n",
    "                                  compound='left', # membuat gambar dan tect (left-side)\n",
    "                                  indicatoron=0, # menghapus indicator bulan\n",
    "                                  width=400) # set width of radio buttons\n",
    "\n",
    "    radio_button.pack(anchor='w') # menentukan arah dari widget dalam frame, biasanya dari N, S, E, W, NE, NW, SE, atau SW.\n",
    "\n",
    "window.mainloop()"
   ]
  },
  {
   "attachments": {},
   "cell_type": "markdown",
   "metadata": {},
   "source": [
    "#73 07:00:47​ scale 🌡️"
   ]
  },
  {
   "cell_type": "code",
   "execution_count": 7,
   "metadata": {},
   "outputs": [],
   "source": [
    "import tkinter as tk \n",
    "\n",
    "def submit():\n",
    "    print(\"The temperature is: \"+ str(scale.get()) +\" degree C\")\n",
    "\n",
    "window = tk.Tk()\n",
    "\n",
    "hot_image = tk.PhotoImage(file='D:\\\\Visual Studio Code\\\\Jupyter Notebook\\\\Belajar-Python\\\\Data\\\\rendang.png')\n",
    "\n",
    "hot_label = tk.Label(image=hot_image)\n",
    "hot_label.pack()\n",
    "\n",
    "scale = tk.Scale(window,\n",
    "                 from_=100, # angka terendah\n",
    "                 to=0, # angka tertinggi\n",
    "                 length=250, # panjang scale dalam px\n",
    "                 font=('Arial', 15,'bold'),\n",
    "                 orient='vertical', # orientation dari scale (horizontal or vertical)\n",
    "                 tickinterval=50, # menambahkan indikator value setiap 50\n",
    "                 showvalue=1,\n",
    "                 troughcolor='#e82e2e', # warna bar scale\n",
    "                 bg='Grey')\n",
    "\n",
    "scale.set((scale['from'] + scale['to']) / 2) # mengatur letak awal scale\n",
    "scale.pack()\n",
    "\n",
    "cold_image = tk.PhotoImage(file='D:\\\\Visual Studio Code\\\\Jupyter Notebook\\\\Belajar-Python\\\\Data\\\\hamburger.png')\n",
    "\n",
    "cold_label = tk.Label(image=cold_image)\n",
    "cold_label.pack()\n",
    "\n",
    "button = tk.Button(window,\n",
    "                   text='submit',\n",
    "                   command=submit,\n",
    "                   font=('Arial', 15,'bold'))\n",
    "button.pack()\n",
    "\n",
    "window.mainloop()"
   ]
  },
  {
   "attachments": {},
   "cell_type": "markdown",
   "metadata": {},
   "source": [
    "#74 07:10:24​ listbox 📋\n",
    "#75 07:24:41​ messagebox 💭\n",
    "#76 07:37:17​ colorchooser 🎨\n",
    "#77 07:43:10​ text area 📒\n",
    "#78 07:48:38​ open a file (file dialog) 📁\n",
    "#79 07:55:33​ save a file (file dialog) 💾\n",
    "#80 08:05:17​ menubar 🧾\n",
    "#81 08:15:23​ frames ⚰️\n",
    "#82 08:21:30​ new windows 🗔\n",
    "#83 08:25:32​ window tabs 📑\n",
    "#84 08:30:52​ grid 🏢\n",
    "#85 08:39:52​ progress bar 📊\n",
    "#86 08:49:48​ canvas 🖍️\n",
    "#87 09:01:18​ keyboard events ⌨️\n",
    "#88 09:05:54​ mouse events 🖱️\n",
    "#89 09:11:00​ drag & drop 👈\n",
    "#90 09:18:18​ move images w/ keys 🏎️\n",
    "#91 09:29:13​ animations 🛸\n",
    "#92 09:41:31​ multiple animations 🎞️\n",
    "#93 09:53:04​ clock program 🕒\n",
    "#94 10:01:03​ send an email 📧\n",
    "#95 10:07:37​ run with command prompt 👨‍💻\n",
    "#96 10:09:53 pip 🏗️\n",
    "#97 10:13:30​ py to exe 🏃\n",
    "#98 10:17:13​ calculator program 🖩\n",
    "#99 10:31:38​ text editor program ✏️\n",
    "#100 11:05:51 tic tac toe game ⭕\n",
    "#101 11:26:25​ snake game 🐍\n",
    "\n",
    "#🎮 GAMES & PROJECTS 🎮\n",
    "#03:10:26 rock, paper, scissors game 🗿\n",
    "#03:18:32​ quiz game 💯\n",
    "#09:53:04​ clock program 🕒\n",
    "#10:17:13​ calculator program 🖩\n",
    "#10:31:38​ text editor program ✏️\n",
    "#11:05:51 tic tac toe game ⭕\n",
    "#11:26:25​ snake game 🐍"
   ]
  },
  {
   "attachments": {},
   "cell_type": "markdown",
   "metadata": {},
   "source": [
    "Tidak melanjutkan mengikuti Tutorial ini karena penulis akan fokus ke library-library yang digunakan oleh data analyst"
   ]
  }
 ],
 "metadata": {
  "kernelspec": {
   "display_name": "Python 3",
   "language": "python",
   "name": "python3"
  },
  "language_info": {
   "codemirror_mode": {
    "name": "ipython",
    "version": 3
   },
   "file_extension": ".py",
   "mimetype": "text/x-python",
   "name": "python",
   "nbconvert_exporter": "python",
   "pygments_lexer": "ipython3",
   "version": "3.10.6 (main, Nov 14 2022, 16:10:14) [GCC 11.3.0]"
  },
  "orig_nbformat": 4,
  "vscode": {
   "interpreter": {
    "hash": "916dbcbb3f70747c44a77c7bcd40155683ae19c65e1c03b4aa3499c5328201f1"
   }
  }
 },
 "nbformat": 4,
 "nbformat_minor": 2
}
