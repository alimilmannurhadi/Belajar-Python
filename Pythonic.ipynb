{
 "cells": [
  {
   "attachments": {},
   "cell_type": "markdown",
   "metadata": {},
   "source": [
    "Pythonic 01 | Menukar Nilai Antar Variabel | Swapping Values"
   ]
  },
  {
   "cell_type": "code",
   "execution_count": 5,
   "metadata": {},
   "outputs": [
    {
     "name": "stdout",
     "output_type": "stream",
     "text": [
      "Sebelum pertukaran\n",
      "a : 10, b : 20, dan c : Tiga Puluh\n",
      "Setelah pertukaran\n",
      "a : 20, b : Tiga Puluh, dan c : 10\n"
     ]
    }
   ],
   "source": [
    "a, b, c = 10, 20, 'Tiga Puluh' # Membuat Beberapa variable dapat dilakukan dengan koma\n",
    "\n",
    "print(\"Sebelum pertukaran\")\n",
    "print(f\"a : {a}, b : {b}, dan c : {c}\")\n",
    "\n",
    "a, b, c = b, c, a\n",
    "print(f\"Setelah pertukaran\\na : {a}, b : {b}, dan c : {c}\")\n",
    "\n",
    "# Pyhton memliki fasilitas auto packing dan auto unpacking "
   ]
  },
  {
   "attachments": {},
   "cell_type": "markdown",
   "metadata": {},
   "source": [
    "Pythonic 02 | Pembandingan Berantai | Chained Comparison"
   ]
  },
  {
   "cell_type": "code",
   "execution_count": 10,
   "metadata": {},
   "outputs": [
    {
     "name": "stdout",
     "output_type": "stream",
     "text": [
      "True\n",
      "True\n"
     ]
    }
   ],
   "source": [
    "# Non Pythonic / umum\n",
    "\n",
    "a = 25\n",
    "print((a >= 20) and (a <= 30))\n",
    "\n",
    "# Pythonic dengan Chained Comparison\n",
    "print(20 <= a <= 30)\n",
    "\n"
   ]
  },
  {
   "attachments": {},
   "cell_type": "markdown",
   "metadata": {},
   "source": [
    "Pythonic 03 | Melakukan Packing Sekumpulan Nilai dalam List"
   ]
  },
  {
   "attachments": {},
   "cell_type": "markdown",
   "metadata": {},
   "source": [
    "Packing adalah proses memasukkan beberapa item atau elemen ke dalam satu objek seperti tuple, list atau dictionary. Unpacking adalah proses memisahkan item atau elemen dari suatu objek seperti tuple, list atau dictionary dan menugaskan ke variabel individu."
   ]
  },
  {
   "cell_type": "code",
   "execution_count": 12,
   "metadata": {},
   "outputs": [
    {
     "name": "stdout",
     "output_type": "stream",
     "text": [
      "a : 10, b : 20, c : 30\n",
      "d : [10, 20, 30]\n"
     ]
    }
   ],
   "source": [
    "# Non Pythonic / umum dalam bahasa pemrograman lain\n",
    "\n",
    "a = 10\n",
    "b = 20\n",
    "c = 30\n",
    "\n",
    "d = [None]*3\n",
    "d[0] = a\n",
    "d[1] = b\n",
    "d[2] = c\n",
    "\n",
    "print(f\"a : {a}, b : {b}, c : {c}\\nd : {d}\") "
   ]
  },
  {
   "cell_type": "code",
   "execution_count": 14,
   "metadata": {},
   "outputs": [
    {
     "name": "stdout",
     "output_type": "stream",
     "text": [
      "a : 10, b : 20, c : 30\n",
      "d_tuple : (10, 20, 30), d_list : [10, 20, 30]\n"
     ]
    }
   ],
   "source": [
    "# Pythonic\n",
    "\n",
    "a, b, c = 10, 20 ,30\n",
    "d_tuple = a, b, c # jika tanpa kurung, python akan otomatis packing menjadi tuple\n",
    "d_list = [a, b, c]\n",
    "\n",
    "print(f\"a : {a}, b : {b}, c : {c}\\nd_tuple : {d_tuple}, d_list : {d_list}\")"
   ]
  },
  {
   "attachments": {},
   "cell_type": "markdown",
   "metadata": {},
   "source": [
    "Pythonic 04 | Melakukan Unpacking Sekumpulan Nilai"
   ]
  },
  {
   "cell_type": "code",
   "execution_count": 17,
   "metadata": {},
   "outputs": [
    {
     "name": "stdout",
     "output_type": "stream",
     "text": [
      "list_saya : [10, 20, 30]\n",
      "a : 10, b : 20, c : 30\n"
     ]
    }
   ],
   "source": [
    "# Non Pythonic, dengan menggunakan inde dari list\n",
    "\n",
    "list_saya = [10, 20, 30]\n",
    "a = list_saya[0]\n",
    "b = list_saya[1]\n",
    "c = list_saya[2]\n",
    "\n",
    "print(f\"list_saya : {list_saya}\\na : {a}, b : {b}, c : {c}\")\n"
   ]
  },
  {
   "cell_type": "code",
   "execution_count": 22,
   "metadata": {},
   "outputs": [
    {
     "name": "stdout",
     "output_type": "stream",
     "text": [
      "list_saya : (10, 20, 30)\n",
      "a : 10, b : 20, c : 30\n"
     ]
    }
   ],
   "source": [
    "# Pythonic\n",
    "\n",
    "list_saya = [10, 20, 30]\n",
    "a, b, c = list_saya # jumlah variable haruslah sama dengan jumlah objek dalam list\n",
    "\n",
    "print(f\"list_saya : {list_saya}\\na : {a}, b : {b}, c : {c}\")"
   ]
  },
  {
   "attachments": {},
   "cell_type": "markdown",
   "metadata": {},
   "source": [
    "Pythonic 05 | Tips Perulangan For Loop pada Pemrograman Python"
   ]
  },
  {
   "cell_type": "code",
   "execution_count": 24,
   "metadata": {},
   "outputs": [
    {
     "name": "stdout",
     "output_type": "stream",
     "text": [
      "10\n",
      "20\n",
      "30\n"
     ]
    }
   ],
   "source": [
    "# Non Pythonic\n",
    "\n",
    "list = 10, 20, 30\n",
    "\n",
    "for i in range(len(list)):\n",
    "    print(list[i])"
   ]
  },
  {
   "cell_type": "code",
   "execution_count": 25,
   "metadata": {},
   "outputs": [
    {
     "name": "stdout",
     "output_type": "stream",
     "text": [
      "10\n",
      "20\n",
      "30\n"
     ]
    }
   ],
   "source": [
    "# Pythonic\n",
    "\n",
    "list = 10, 20, 30\n",
    "\n",
    "for i in list:\n",
    "    print(i)"
   ]
  },
  {
   "attachments": {},
   "cell_type": "markdown",
   "metadata": {},
   "source": [
    "Pythonic 06 | Fungsi Enumerate pada Perulangan For Loop"
   ]
  },
  {
   "attachments": {},
   "cell_type": "markdown",
   "metadata": {},
   "source": [
    "Enumerate adalah built-in function di Python yang digunakan untuk  menghasilkan indeks dan item bersamaan saat looping"
   ]
  },
  {
   "cell_type": "code",
   "execution_count": 27,
   "metadata": {},
   "outputs": [
    {
     "name": "stdout",
     "output_type": "stream",
     "text": [
      "Nama : Budi, NIM : 001\n",
      "Nama : Karno, NIM : 002\n",
      "Nama : Hitler, NIM : 003\n"
     ]
    }
   ],
   "source": [
    "# Non Pythonic\n",
    "\n",
    "nama = ['Budi', 'Karno', 'Hitler']\n",
    "nim = ['001', '002', '003']\n",
    "\n",
    "for i in range(len(nama)):\n",
    "    print(f\"Nama : {nama[i]}, NIM : {nim[i]}\")"
   ]
  },
  {
   "cell_type": "code",
   "execution_count": 32,
   "metadata": {},
   "outputs": [
    {
     "name": "stdout",
     "output_type": "stream",
     "text": [
      "Nama : Budi, NIM : 001\n",
      "Nama : Karno, NIM : 002\n",
      "Nama : Hitler, NIM : 003\n"
     ]
    }
   ],
   "source": [
    "# Pythonic\n",
    "\n",
    "nama = ['Budi', 'Karno', 'Hitler']\n",
    "nim = ['001', '002', '003']\n",
    "\n",
    "for index, data_nim in enumerate(nim):\n",
    "    print(f\"Nama : {nama[index]}, NIM : {data_nim}\")"
   ]
  },
  {
   "attachments": {},
   "cell_type": "markdown",
   "metadata": {},
   "source": [
    "Pythonic 07 | Fungsi Zip pada Perulangan For Loop"
   ]
  },
  {
   "attachments": {},
   "cell_type": "markdown",
   "metadata": {},
   "source": [
    "Zip adalah built-in function di Python yang digunakan untuk menggabungkan item-item dari beberapa objek iterables (seperti list, tuple, atau string) ke dalam satu objek baru seperti list atau tuple. Item pertama dari masing-masing objek akan digabungkan, kemudian item kedua, dst. Looping berhenti saat objek iterable paling pendek habis. "
   ]
  },
  {
   "cell_type": "code",
   "execution_count": 35,
   "metadata": {},
   "outputs": [
    {
     "name": "stdout",
     "output_type": "stream",
     "text": [
      "Nama : Budi NIM : 001 Hobi : Bermain\n",
      "Nama : Karno NIM : 002 Hobi : Membaca\n",
      "Nama : Hitler NIM : 003 Hobi : Investasi\n"
     ]
    }
   ],
   "source": [
    "# lebih Pythonic dari Enumerate\n",
    "\n",
    "nama = ['Budi', 'Karno', 'Hitler']\n",
    "nim = ['001', '002', '003']\n",
    "hobi = ['Bermain', 'Membaca', 'Investasi']\n",
    "\n",
    "for data_nim, data_nama, data_hobi in zip(nim, nama, hobi):\n",
    "    print(\"Nama :\", data_nama, \"NIM :\", data_nim, \"Hobi :\", data_hobi)"
   ]
  },
  {
   "attachments": {},
   "cell_type": "markdown",
   "metadata": {},
   "source": [
    "Pythonic 08 | Fungsi Map"
   ]
  },
  {
   "cell_type": "code",
   "execution_count": 45,
   "metadata": {},
   "outputs": [
    {
     "name": "stdout",
     "output_type": "stream",
     "text": [
      "Angka : [2, 5, 11]\n",
      "Angka pangkat dua [4, 25, 121]\n"
     ]
    }
   ],
   "source": [
    "# Non Pythonic\n",
    "\n",
    "def pangkat_dua(angka):\n",
    "    return angka ** 2\n",
    "\n",
    "# print(pangkat_dua(10))\n",
    "\n",
    "angka = [2, 5, 11]\n",
    "angka_pangkat_dua = []\n",
    "\n",
    "for i in angka:\n",
    "    angka_pangkat_dua.append(pangkat_dua(i))\n",
    "\n",
    "print(\"Angka :\", angka)\n",
    "print(\"Angka pangkat dua\",angka_pangkat_dua)"
   ]
  },
  {
   "cell_type": "code",
   "execution_count": 6,
   "metadata": {},
   "outputs": [
    {
     "name": "stdout",
     "output_type": "stream",
     "text": [
      "Angka : [3, 5, 12]\n",
      "Angka pangkat dua [9, 25, 144]\n"
     ]
    }
   ],
   "source": [
    "def pangkat_dua(angka):\n",
    "    return angka ** 2\n",
    "\n",
    "angka = [3, 5, 12]\n",
    "\n",
    "angka_pangkat_dua = list(map(pangkat_dua, angka))\n",
    "\n",
    "print(\"Angka :\", angka)\n",
    "print(\"Angka pangkat dua\",angka_pangkat_dua)"
   ]
  },
  {
   "attachments": {},
   "cell_type": "markdown",
   "metadata": {},
   "source": [
    "Pythonic 09 | Ekspresi Lambda | Lambda Expression"
   ]
  },
  {
   "attachments": {},
   "cell_type": "markdown",
   "metadata": {},
   "source": [
    "Lambda adalah sebuah konsep dalam pemrograman yang merujuk pada anonymous function atau fungsi tanpa nama. Ini adalah sebuah fungsi yang tidak memiliki nama dan hanya bisa digunakan sekali, biasanya digunakan sebagai argumen untuk fungsi lain atau sebagai callback"
   ]
  },
  {
   "cell_type": "code",
   "execution_count": 3,
   "metadata": {},
   "outputs": [
    {
     "name": "stdout",
     "output_type": "stream",
     "text": [
      "list saya : [10, 20, 30] \n",
      "hasil : [20, 40, 60]\n"
     ]
    }
   ],
   "source": [
    "# Non Pythonic, Membuat \n",
    "\n",
    "def lipat_ganda(x):\n",
    "    return x * 2\n",
    "\n",
    "list_saya = [10, 20 ,30]\n",
    "\n",
    "hasil = list(map(lipat_ganda, list_saya))\n",
    "\n",
    "print(\"list saya :\" ,list_saya,\"\\nhasil :\",hasil)"
   ]
  },
  {
   "cell_type": "code",
   "execution_count": 8,
   "metadata": {},
   "outputs": [
    {
     "name": "stdout",
     "output_type": "stream",
     "text": [
      "list saya : [10, 20, 30] \n",
      "hasil     : [20, 40, 60]\n"
     ]
    }
   ],
   "source": [
    "# Pythonic \n",
    "\n",
    "list_saya = [10, 20 ,30]\n",
    "\n",
    "hasil = list(map(lambda x:x*2, list_saya)) # x pertama : argument/parameter input, x kedua : nilai kembalian/return value\n",
    "\n",
    "print(\"list saya :\" ,list_saya,\"\\nhasil     :\",hasil)\n",
    "\n",
    " "
   ]
  },
  {
   "attachments": {},
   "cell_type": "markdown",
   "metadata": {},
   "source": [
    "Pythonic 10 | List Comprehension"
   ]
  },
  {
   "cell_type": "code",
   "execution_count": 12,
   "metadata": {},
   "outputs": [
    {
     "name": "stdout",
     "output_type": "stream",
     "text": [
      "list saya : [1, 2, 3, 4, 5, 6, 7, 8, 9, 10, 11, 12, 13, 14, 15, 16, 17, 18, 19, 20, 21, 22, 23, 24, 25, 26, 27, 28, 29, 30, 31, 32, 33, 34, 35, 36, 37, 38, 39, 40, 41, 42, 43, 44, 45, 46, 47, 48, 49, 50]\n"
     ]
    }
   ],
   "source": [
    "# Non Pythonic\n",
    "\n",
    "list_saya = []\n",
    "\n",
    "for i in range(50):\n",
    "    list_saya.append(i+1)\n",
    "\n",
    "print('list saya :',list_saya)"
   ]
  },
  {
   "cell_type": "code",
   "execution_count": 14,
   "metadata": {},
   "outputs": [
    {
     "name": "stdout",
     "output_type": "stream",
     "text": [
      "list saya : [1, 2, 3, 4, 5, 6, 7, 8, 9, 10, 11, 12, 13, 14, 15, 16, 17, 18, 19, 20, 21, 22, 23, 24, 25, 26, 27, 28, 29, 30, 31, 32, 33, 34, 35, 36, 37, 38, 39, 40, 41, 42, 43, 44, 45, 46, 47, 48, 49, 50]\n"
     ]
    }
   ],
   "source": [
    "# Pythonic\n",
    "\n",
    "list_saya = [i for i in range(1, 51)]\n",
    "\n",
    "print('list saya :',list_saya)"
   ]
  },
  {
   "attachments": {},
   "cell_type": "markdown",
   "metadata": {},
   "source": [
    "[Pythonic 11] Memadukan List Comprehension dan Conditional IF"
   ]
  },
  {
   "cell_type": "code",
   "execution_count": 38,
   "metadata": {},
   "outputs": [
    {
     "name": "stdout",
     "output_type": "stream",
     "text": [
      "Angka ganjil : [1, 3, 5, 7, 9, 11, 13, 15, 17, 19, 21, 23, 25, 27, 29, 31, 33, 35, 37, 39, 41, 43, 45, 47, 49]\n",
      "Angka ganjil yang lebih besar dari 25 : [27, 29, 31, 33, 35, 37, 39, 41, 43, 45, 47, 49]\n"
     ]
    }
   ],
   "source": [
    "# Pythonic\n",
    "\n",
    "ganjil = [i for i in range(1,51) if i % 2 == 1]\n",
    "besar = [i for i in ganjil if i > 25]\n",
    "\n",
    "print('Angka ganjil :',ganjil)\n",
    "print('Angka ganjil yang lebih besar dari 25 :', besar)"
   ]
  },
  {
   "attachments": {},
   "cell_type": "markdown",
   "metadata": {},
   "source": [
    "[Pythonic 12] Memadukan List Comprehension dan Fungsi Zip"
   ]
  },
  {
   "cell_type": "code",
   "execution_count": 39,
   "metadata": {},
   "outputs": [
    {
     "name": "stdout",
     "output_type": "stream",
     "text": [
      "list : [['Budi', 23], ['Karno', 31], ['Hitler', 10]]\n"
     ]
    }
   ],
   "source": [
    "# Non Pythonic\n",
    "nama = ['Budi', 'Karno', 'Hitler']\n",
    "usia = [23, 31, 10]\n",
    "list = []\n",
    "\n",
    "for i in range(len(nama)):\n",
    "    list.append([nama[i],usia[i]])\n",
    "\n",
    "print(\"list :\", list)"
   ]
  },
  {
   "cell_type": "code",
   "execution_count": 42,
   "metadata": {},
   "outputs": [
    {
     "ename": "SyntaxError",
     "evalue": "invalid syntax (556435386.py, line 3)",
     "output_type": "error",
     "traceback": [
      "\u001b[0;36m  Cell \u001b[0;32mIn[42], line 3\u001b[0;36m\u001b[0m\n\u001b[0;31m    list = [for i_nama, i_usia in zip(nama, usia)]\u001b[0m\n\u001b[0m            ^\u001b[0m\n\u001b[0;31mSyntaxError\u001b[0m\u001b[0;31m:\u001b[0m invalid syntax\n"
     ]
    }
   ],
   "source": [
    "# Pythonic\n",
    "\n",
    "list = [i_nama, i_usia for i_nama, i_usia in zip(nama, usia)]\n",
    "\n",
    "print('list', list)"
   ]
  }
 ],
 "metadata": {
  "kernelspec": {
   "display_name": "Python 3",
   "language": "python",
   "name": "python3"
  },
  "language_info": {
   "codemirror_mode": {
    "name": "ipython",
    "version": 3
   },
   "file_extension": ".py",
   "mimetype": "text/x-python",
   "name": "python",
   "nbconvert_exporter": "python",
   "pygments_lexer": "ipython3",
   "version": "3.10.6 (main, Nov 14 2022, 16:10:14) [GCC 11.3.0]"
  },
  "orig_nbformat": 4,
  "vscode": {
   "interpreter": {
    "hash": "916dbcbb3f70747c44a77c7bcd40155683ae19c65e1c03b4aa3499c5328201f1"
   }
  }
 },
 "nbformat": 4,
 "nbformat_minor": 2
}
