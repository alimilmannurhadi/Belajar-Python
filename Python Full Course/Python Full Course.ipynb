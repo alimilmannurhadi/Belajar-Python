{
 "cells": [
  {
   "attachments": {},
   "cell_type": "markdown",
   "metadata": {},
   "source": [
    "****#⭐️Time Stamps⭐️****"
   ]
  },
  {
   "attachments": {},
   "cell_type": "markdown",
   "metadata": {},
   "source": [
    "#1 00:00:00​ Python tutorial for beginners 🐍"
   ]
  },
  {
   "cell_type": "code",
   "execution_count": null,
   "metadata": {},
   "outputs": [],
   "source": [
    "print(\"I love Pizza\")\n",
    "print(\"It's Really Good!\")"
   ]
  },
  {
   "attachments": {},
   "cell_type": "markdown",
   "metadata": {},
   "source": [
    "#2 00:05:57​ variables ✘"
   ]
  },
  {
   "cell_type": "code",
   "execution_count": 13,
   "metadata": {},
   "outputs": [
    {
     "name": "stdout",
     "output_type": "stream",
     "text": [
      "Hello Alim Ilman Nurhadi\n",
      "Your age is : 23\n",
      "Your height is : 170.8cm\n",
      "Are you a human : True\n",
      "<class 'str'>\n",
      "<class 'int'>\n",
      "<class 'float'>\n",
      "<class 'bool'>\n"
     ]
    }
   ],
   "source": [
    "# Variabel = a container for a value / Tempat menaruh sebuah nilai\n",
    "\n",
    "# String = a series of characters / serangkaian karakter\n",
    "firs_name = \"Alim\"\n",
    "middle_name = \"Ilman\"\n",
    "last_name = \"Nurhadi\"\n",
    "full_name = firs_name + \" \" + middle_name + \" \" + last_name\n",
    "\n",
    "print(\"Hello \" + full_name)\n",
    "\n",
    "# interger = a whole number\n",
    "age = 22\n",
    "age += 1\n",
    "\n",
    "print(\"Your age is : \" + str(age)) # jika terdapan str pada perintah print, maka variabel selain str perlu di convert ke str\n",
    "\n",
    "# Float = floating point number / a decimal number \n",
    "height = 170.8\n",
    "print(\"Your height is : \" + str(height) + \"cm\")\n",
    "\n",
    "# Boolean = True or False\n",
    "human = True\n",
    "print(\"Are you a human : \" + str(human))\n",
    "\n",
    "print(type(full_name)) # gunakan perintah print jika tidak, consol hanya akan menampilkan type data human\n",
    "print(type(age))\n",
    "print(type(height))\n",
    "print(type(human))"
   ]
  },
  {
   "attachments": {},
   "cell_type": "markdown",
   "metadata": {},
   "source": [
    "#3 00:17:38​ multiple assignment 🔠"
   ]
  },
  {
   "cell_type": "code",
   "execution_count": 22,
   "metadata": {},
   "outputs": [
    {
     "name": "stdout",
     "output_type": "stream",
     "text": [
      "Alim\n",
      "22\n",
      "True\n",
      "30 30 30\n"
     ]
    }
   ],
   "source": [
    "# Multiple assignments = allow us to assign multiple variables at the same time in one line\n",
    "# Penugasan berganda = memungkinkan kita untuk menetapkan beberapa variabel sekaligus dalam satu baris\n",
    "\n",
    "name, age, attractive = \"Alim\", 22, True\n",
    "\n",
    "print(name)\n",
    "print(age)\n",
    "print(attractive)\n",
    "\n",
    "# spongebob = 30\n",
    "# patrick  = 20\n",
    "# sandy = 30\n",
    "\n",
    "# Jika dengan one line code\n",
    "spongebob = patrick = sandy = 30\n",
    "\n",
    "print(spongebob, patrick, sandy)\n"
   ]
  },
  {
   "attachments": {},
   "cell_type": "markdown",
   "metadata": {},
   "source": [
    "#4 00:20:27​ string methods 〰️"
   ]
  },
  {
   "cell_type": "code",
   "execution_count": 56,
   "metadata": {},
   "outputs": [],
   "source": [
    "name = \"Alim Ilman Nurhadi\"\n",
    "\n",
    "# print(len(name))\n",
    "# print(name.find(\"h\"))\n",
    "# print(name.capitalize())\n",
    "# print(name.upper())\n",
    "# print(name.lower())\n",
    "# print(name.isdigit())\n",
    "# print(name.isalpha())\n",
    "# print(name.isalnum())\n",
    "# print(name.count(\"a\"))\n",
    "# print(name.replace(\"a\",\"o\"))\n",
    "# print(name * 3)\n",
    "# print(name.split())\n",
    "# print(name.strip(\"A\"))\n",
    "# print(name.join('123'))\n",
    "# print(\"Nama saya {}\".format(name))\n",
    "# print(name.startswith(\"Alim\"))\n",
    "# print(name.endswith(\"roger\"))\n",
    "# print(name.index(\"a\"))\n",
    "# print(name.rindex(\"Ilman\"))"
   ]
  },
  {
   "attachments": {},
   "cell_type": "markdown",
   "metadata": {},
   "source": [
    "#5 00:25:13​ type cast 💱"
   ]
  },
  {
   "cell_type": "code",
   "execution_count": 7,
   "metadata": {},
   "outputs": [
    {
     "name": "stdout",
     "output_type": "stream",
     "text": [
      "1 2 3.0\n",
      "X is 1\n"
     ]
    }
   ],
   "source": [
    "# Type casting = convert the data type of a value to another data type\n",
    "# Type casting = mengubah tipe data suatu nilai menjadi tipe data lainnya\n",
    "\n",
    "x = 1 # Integer\n",
    "y = 2.0 # Float\n",
    "z = \"3\" # String\n",
    "\n",
    "# Type cast dengan membuat mendefinisikan variabel ulang\n",
    "y = int(y)\n",
    "\n",
    "# # Type cast saat print\n",
    "print(x, y, float(z))\n",
    "\n",
    "# Print String dengan integer tidak dapat dilakukan, perlu type cast\n",
    "#print(\"X is\" + x)\n",
    "\n",
    "print(\"X is \" + str(x))\n",
    "\n"
   ]
  },
  {
   "attachments": {},
   "cell_type": "markdown",
   "metadata": {},
   "source": [
    "#6 00:30:14​ user input ⌨️"
   ]
  },
  {
   "cell_type": "code",
   "execution_count": 16,
   "metadata": {},
   "outputs": [
    {
     "name": "stdout",
     "output_type": "stream",
     "text": [
      "Hello Alim\n",
      "You are 22 years old\n",
      "You are 169.9 cm tall\n"
     ]
    }
   ],
   "source": [
    "name = input(\"What is your name?: \")\n",
    "age = int(input(\"How old are you?: \"))\n",
    "height = float(input(\"How tall are you?: \"))\n",
    "\n",
    "print(\"Hello \" + name)\n",
    "print(\"You are \" + str(age) + \" years old\")\n",
    "print(\"You are \" + str(height) + \" cm tall\")"
   ]
  },
  {
   "attachments": {},
   "cell_type": "markdown",
   "metadata": {},
   "source": [
    "#7 00:36:50​ math functions 🧮"
   ]
  },
  {
   "attachments": {},
   "cell_type": "markdown",
   "metadata": {},
   "source": [
    "math.sqrt(x): This function returns the square root of a number.  \n",
    "math.log(x): This function returns the natural logarithm (base e) of a number.  \n",
    "math.log10(x): This function returns the logarithm base 10 of a number.  \n",
    "math.exp(x): This function returns the value of e raised to the power of x.  \n",
    "math.pow(x, y): This function returns x raised to the power of y.  \n",
    "math.sin(x): This function returns the sine of x where x is given in radians.  \n",
    "math.cos(x): This function returns the cosine of x where x is given in radians.  \n",
    "math.tan(x): This function returns the tangent of x where x is given in radians.  \n",
    "math.degrees(x): This function converts an angle from radians to degrees.  \n",
    "math.radians(x): This function converts an angle from degrees to radians.  \n",
    "math.ceil(x): This function rounds a number up to the nearest whole number.  \n",
    "math.floor(x): This function rounds a number down to the nearest whole number.  \n",
    "math.trunc(x): This function removes the decimal part of a number, leaving only the whole number.  \n",
    "divmod(x, y): This function returns a tuple containing the quotient and remainder of dividing x by y.  \n",
    "abs(x): This function returns the absolute value of a number.  \n",
    "round(x, n): This function rounds a number to n decimal places.  \n",
    "isinstance(x, (int, float)) : This function check whether the variable is integer or float or not."
   ]
  },
  {
   "cell_type": "code",
   "execution_count": 72,
   "metadata": {},
   "outputs": [
    {
     "name": "stdout",
     "output_type": "stream",
     "text": [
      "10.0\n",
      "4.605170185988092\n",
      "2.0\n",
      "2.6881171418161356e+43\n",
      "0.49999999999999994\n",
      "0.8623188722876839\n",
      "-0.5872139151569291\n",
      "5729.5779513082325\n",
      "1.0004227272431496\n",
      "(0, 2)\n",
      "50.5454\n",
      "50.52\n",
      "4\n",
      "3\n",
      "3\n",
      "True\n"
     ]
    }
   ],
   "source": [
    "import math\n",
    "\n",
    "x = 100\n",
    "\n",
    "# Math Function\n",
    "print(math.sqrt(x))\n",
    "print(math.log(x))\n",
    "print(math.log10(x))\n",
    "print(math.exp(x))\n",
    "print(math.sin(math.radians(30))) \n",
    "print(math.cos(x))\n",
    "print(math.tan(x))\n",
    "print(math.degrees(x))\n",
    "print(math.radians(57.32))\n",
    "print(math.ceil(3.5))\n",
    "print(math.floor(3.5))\n",
    "print(math.trunc(3.14))\n",
    "\n",
    "# Integer dan Float functions\n",
    "print(divmod(2, 5))\n",
    "print(abs(-50.5454))\n",
    "print(round(50.52452342, 2))\n",
    "print(isinstance(x, (int, float)))"
   ]
  },
  {
   "attachments": {},
   "cell_type": "markdown",
   "metadata": {},
   "source": [
    "#8 00:40:58​ string slicing ✂️"
   ]
  },
  {
   "cell_type": "code",
   "execution_count": 103,
   "metadata": {},
   "outputs": [
    {
     "name": "stdout",
     "output_type": "stream",
     "text": [
      "google\n",
      "facebook\n"
     ]
    }
   ],
   "source": [
    "# Slicing = crate a substring by extracting elements from another string\n",
    "#           indexing[] or slice ()\n",
    "#           [start:stop:step]\n",
    "\n",
    "# name = \"Alim Ilman Nurhadi\"\n",
    "\n",
    "# firs_name = name[0:4]\n",
    "# middle_name = name[5:10]\n",
    "# last_name = name[11:] # Python akan mengartikan blank adalah nol\n",
    "# funky_name = name[::3]\n",
    "# reversed_name = name[::-1]\n",
    "\n",
    "# print(firs_name)\n",
    "# print(middle_name)\n",
    "# print(last_name)\n",
    "# print(funky_name)\n",
    "# print(reversed_name)\n",
    "\n",
    "website1 = \"https://google.com\"\n",
    "website2 = \"https://facebook.com\"\n",
    "\n",
    "slices = slice(8, -4)\n",
    "\n",
    "print(website1[slices])\n",
    "print(website2[slices])\n"
   ]
  },
  {
   "attachments": {},
   "cell_type": "markdown",
   "metadata": {},
   "source": [
    "#9 00:51:52​ if statements 🤔"
   ]
  },
  {
   "cell_type": "code",
   "execution_count": 108,
   "metadata": {},
   "outputs": [
    {
     "name": "stdout",
     "output_type": "stream",
     "text": [
      "Kelompok usia muda\n"
     ]
    }
   ],
   "source": [
    "# If statement = a block of code that will execute if it's condition is True\n",
    "\n",
    "age = int(input(\"Berapa umur kamu?: \"))\n",
    "\n",
    "if age < 15:\n",
    "    print(\"Kelompok usia anak-anak\")\n",
    "elif age <= 34:\n",
    "    print(\"Kelompok usia muda\")\n",
    "elif age <= 44:\n",
    "    print(\"Kelompok usia paruh baya\")\n",
    "elif age <= 54:\n",
    "    print(\"Kelompok usia pra-pensiun\")\n",
    "elif age <= 64:\n",
    "    print(\"Kelompok usia pensiun\")\n",
    "else:\n",
    "    print(\"Kelompok usia lanjut\")"
   ]
  },
  {
   "attachments": {},
   "cell_type": "markdown",
   "metadata": {},
   "source": [
    "#10 00:58:19​ logical operators 🔣"
   ]
  },
  {
   "attachments": {},
   "cell_type": "markdown",
   "metadata": {},
   "source": [
    "Berapa suhu tubuh normal manusia? Suhu tubuh normal pertama kali ditetapkan pada standar 37 derajat Celcius oleh seorang dokter Jerman pada abad ke-19. Namun, suhu tubuh normal sesuai riset pengobatan yang terus berlanjut berada di angka 36,7-36,8 derajat Celcius.\n",
    "\n",
    "Definisi suhu tubuh “normal” bisa berbeda dari setiap orang. Untuk orang dewasa, suhu tubuh normal berkisar antara 36,1-37,2 derajat Celcius. Sedangkan untuk bayi dan anak kecil, suhu tubuh normal bisa lebih tinggi, yaitu antara 36,6-38 derajat Celcius.\n",
    "\n",
    "Suhu tubuh tinggi yang dikategorikan demam berada di atas 38 derajat Celcius dan tidak mutlak berbahaya. Namun, jika suhu tubuh mencapai 39,4 derajat Celcius tanpa tanda-tanda menurun dalam tiga hari, Anda dianjurkan segera menghubungi dokter. Untuk bayi di bawah usia 3 bulan, segera berkonsultasi jika suhu diatas 38 derajat Celcius dan 38,8 derajat Celcius untuk balita.\n",
    "\n",
    "Suhu tubuh rendah juga bisa berakibat fatal, yaitu hipotermia saat suhu tubuh berada di bawah 35 derajat Celcius. Hipotermia bisa terjadi karena faktor eksternal misalnya cuaca dingin, dan eksternal, seperti penggunaan obat-obatan, stroke, infeksi, dan kekurangan gizi. Hipotermia terutama rentan pada bayi dan lansia sehingga harus mendapatkan perhatian ekstra."
   ]
  },
  {
   "cell_type": "code",
   "execution_count": 114,
   "metadata": {},
   "outputs": [
    {
     "name": "stdout",
     "output_type": "stream",
     "text": [
      "Kamu adalah Rosi\n"
     ]
    }
   ],
   "source": [
    "# Logicat operator (and, or, not) = used to check if two or more conditional statement\n",
    "\n",
    "temp = float(input(\"Berapa suhu badan kamu?: \"))\n",
    "\n",
    "if temp >= 36.1 and temp <= 37.1:\n",
    "    print(\"Suhu tubuh kamu normal\")\n",
    "elif temp < 35 and temp >= 0:\n",
    "    print(\"Kamu mengalami Hipotermia\")\n",
    "elif not(temp != 46): # not sebelum kondisi akan membalikan hasil kondisi False menjadi True dan sebaliknnya\n",
    "    print(\"Kamu adalah Rosi\")\n",
    "elif temp > 38:\n",
    "    print(\"Segera konsultasi\")\n",
    "else:\n",
    "    print(\"Kamu manusia pilihan\")"
   ]
  },
  {
   "attachments": {},
   "cell_type": "markdown",
   "metadata": {},
   "source": [
    "#11 01:04:03​ while loops 🔄"
   ]
  },
  {
   "cell_type": "code",
   "execution_count": 122,
   "metadata": {},
   "outputs": [
    {
     "name": "stdout",
     "output_type": "stream",
     "text": [
      "Hello 13\n"
     ]
    }
   ],
   "source": [
    "# While loop = a statement that will execute it's block of code,\n",
    "#              as long as it's condition remains True\n",
    "\n",
    "# name = \"\"\n",
    "\n",
    "# while len(name) == 0:\n",
    "#     name = input(\"Masukkan nama : \")\n",
    "\n",
    "# print(\"Hello \" + name)\n",
    "\n",
    "name = None # Objek dari tipe data NoneType yang berarti tidak adanya nilai atau null\n",
    "\n",
    "while not name:\n",
    "    name = input(\"Masukkan nama : \")\n",
    "\n",
    "print(\"Hello \" + name)"
   ]
  },
  {
   "attachments": {},
   "cell_type": "markdown",
   "metadata": {},
   "source": [
    "#12 01:07:31​ for loops ➰"
   ]
  },
  {
   "cell_type": "code",
   "execution_count": 127,
   "metadata": {},
   "outputs": [
    {
     "name": "stdout",
     "output_type": "stream",
     "text": [
      "10\n",
      "9\n",
      "8\n",
      "7\n",
      "6\n",
      "5\n",
      "4\n",
      "3\n",
      "2\n",
      "1\n",
      "Happy New Years!\n"
     ]
    }
   ],
   "source": [
    "# For loop = a statement that will execute it's block of code\n",
    "#            a limited amount of times\n",
    "# \n",
    "# - While loop = Unlimited\n",
    "# - For loop   = Limited\n",
    "\n",
    "# for i in range(10):\n",
    "#     print(i)\n",
    "\n",
    "# for i in range(50, 70+1, 2): # range (start|stop|step)\n",
    "#     print(i)\n",
    "\n",
    "import time\n",
    "\n",
    "for seconds in range(10, 0, -1):\n",
    "    print(seconds)\n",
    "    time.sleep(1)\n",
    "\n",
    "print(\"Happy New Years!\")"
   ]
  },
  {
   "attachments": {},
   "cell_type": "markdown",
   "metadata": {},
   "source": [
    "Time Module"
   ]
  },
  {
   "cell_type": "code",
   "execution_count": 140,
   "metadata": {},
   "outputs": [
    {
     "name": "stdout",
     "output_type": "stream",
     "text": [
      "time.struct_time(tm_year=2023, tm_mon=1, tm_mday=17, tm_hour=7, tm_min=5, tm_sec=16, tm_wday=1, tm_yday=17, tm_isdst=0)\n",
      "time.struct_time(tm_year=2023, tm_mon=1, tm_mday=17, tm_hour=15, tm_min=5, tm_sec=16, tm_wday=1, tm_yday=17, tm_isdst=0)\n",
      "Tue Jan 17 15:05:16 2023\n",
      "2023-01-17 15:05:16 Tue\n"
     ]
    }
   ],
   "source": [
    "import time\n",
    "\n",
    "# print(time.time())\n",
    "# print(\"Mulai\")\n",
    "# time.sleep(5) \n",
    "# print(\"Selesai\")\n",
    "# print(time.gmtime())\n",
    "# print(time.localtime())\n",
    "# print(time.asctime())\n",
    "# print(time.strftime(\"%Y-%m-%d %H:%M:%S %a\", time.localtime()))\n"
   ]
  },
  {
   "attachments": {},
   "cell_type": "markdown",
   "metadata": {},
   "source": [
    "#13 01:13:04​ nested loops ➿"
   ]
  },
  {
   "cell_type": "code",
   "execution_count": 149,
   "metadata": {},
   "outputs": [
    {
     "name": "stdout",
     "output_type": "stream",
     "text": [
      "*-*-*-\n",
      "*-*-*-\n",
      "*-*-*-\n"
     ]
    }
   ],
   "source": [
    "# Nested loop = The \"inner loop\" will finish all of it's iteration before finishing one iteration of \"outer loop\"\n",
    "\n",
    "rows = int(input(\"How many Rowns?: \"))\n",
    "comlumns = int(input(\"How many Columns?: \"))\n",
    "symbol = input(\"Enter a symbol to use: \")\n",
    "\n",
    "for i in range(rows):\n",
    "    for i in range(comlumns):\n",
    "        print(symbol, end = \"-\") # End berfungi menambahkan String pada akhir dan membuat print selanjutnya dijalankan dalan satu baris\n",
    "    print()"
   ]
  },
  {
   "attachments": {},
   "cell_type": "markdown",
   "metadata": {},
   "source": [
    "#14 01:17:08 break continue pass ⛔"
   ]
  },
  {
   "cell_type": "code",
   "execution_count": 158,
   "metadata": {},
   "outputs": [
    {
     "name": "stdout",
     "output_type": "stream",
     "text": [
      "1, 2, 3, 4, 5, 6, 7, 8, 9, 10, 11, 12, 14, 15, 16, 17, 18, 19, 20, "
     ]
    }
   ],
   "source": [
    "# Loop control statement = change a loops execution from its normal sequence / mengubah eksekusi loop dari urutan normalnya\n",
    "#       break       = used to terminate the loop entirely / digunakan untuk mengakhiri loop seluruhnya\n",
    "#       continue    = skips to the next iteration of the loop / melompat ke iterasi berikutnya dari loop\n",
    "#       pass        = does nothing, acts as a placeholder / tidak melakukan apa-apa, bertindak sebagai placeholder\n",
    "\n",
    "# while True:\n",
    "#     name = input(\"Enter your name: \")\n",
    "#     if name != \"\":\n",
    "#         break\n",
    "\n",
    "# phone_number = \"5493-3942-0393\"\n",
    "\n",
    "# for i in phone_number:\n",
    "#     if i == \"-\":\n",
    "#         continue\n",
    "#     print(i, end=\"\")\n",
    "\n",
    "for i in range(1, 21):\n",
    "    if i == 13:\n",
    "        pass\n",
    "    else:\n",
    "        print(i, end=\", \")"
   ]
  },
  {
   "attachments": {},
   "cell_type": "markdown",
   "metadata": {},
   "source": [
    "#15 01:21:06​ lists 🧾"
   ]
  },
  {
   "cell_type": "code",
   "execution_count": 182,
   "metadata": {},
   "outputs": [
    {
     "name": "stdout",
     "output_type": "stream",
     "text": [
      "<class 'list'>\n"
     ]
    }
   ],
   "source": [
    "# List = used to store multiple items in a single variabel\n",
    "\n",
    "# food = [\"pizza\", \"hamburger\", \"hotdog\", \"spaghetti\"]\n",
    "\n",
    "# food[0] = \"sushi\" # Akan mengganti pizza menjadi sushi\n",
    "\n",
    "# # print(food)\n",
    "# print(food[0]) # Indexing\n",
    "\n",
    "# for i in food:\n",
    "#     print(i)\n",
    "\n",
    "# food.append(\"donut\")\n",
    "\n",
    "# food1 = \"cake\", \"gorengan\"\n",
    "# food.extend(food1)\n",
    "# food.insert(6, \"coto\")\n",
    "# food.remove(\"hotdog\")\n",
    "# food.pop(3)\n",
    "# print(food.index(\"coto\"))\n",
    "# print(food.count(\"coto\"))\n",
    "# food.sort()\n",
    "# food.reverse()\n",
    "# food.clear()\n",
    "\n",
    "# print(type(food))"
   ]
  },
  {
   "attachments": {},
   "cell_type": "markdown",
   "metadata": {},
   "source": [
    "#16 01:26:58​ 2D lists 📜"
   ]
  },
  {
   "cell_type": "code",
   "execution_count": 186,
   "metadata": {},
   "outputs": [
    {
     "name": "stdout",
     "output_type": "stream",
     "text": [
      "tea\n"
     ]
    }
   ],
   "source": [
    "# 2D lists = a list of lists\n",
    "\n",
    "drinks = [\"coffe\", \"soda\", \"tea\"]\n",
    "dinner = [\"pizza\", \"hamburger\", \"hotdog\"]\n",
    "dessert = [\"cake\", \"ice cream\"]\n",
    "\n",
    "food = [drinks, dinner, dessert]\n",
    "\n",
    "print(food[0][2]) # Indexing in 2D list"
   ]
  },
  {
   "attachments": {},
   "cell_type": "markdown",
   "metadata": {},
   "source": [
    "#17 01:30:47​ tuples 📄"
   ]
  },
  {
   "cell_type": "code",
   "execution_count": 190,
   "metadata": {},
   "outputs": [
    {
     "name": "stdout",
     "output_type": "stream",
     "text": [
      "Bro\n",
      "21\n",
      "Male\n",
      "Bro is here\n"
     ]
    }
   ],
   "source": [
    "# tuple = collection which is ordered and unchangeable used to group together related data\n",
    "# tuple = koleksi yang diurutkan dan tidak dapat diubah digunakan untuk mengelompokkan data terkait\n",
    "\n",
    "student = (\"Bro\", 21, \"Male\")\n",
    "\n",
    "# print(student.count(\"Bro\"))\n",
    "# print(student.index(\"Male\"))\n",
    "\n",
    "for i in student:\n",
    "    print(i)\n",
    "\n",
    "if \"Bro\" in student:\n",
    "    print(\"Bro is here!\")"
   ]
  },
  {
   "attachments": {},
   "cell_type": "markdown",
   "metadata": {},
   "source": [
    "#18 01:33:47​ sets 🍴"
   ]
  },
  {
   "cell_type": "code",
   "execution_count": 211,
   "metadata": {},
   "outputs": [
    {
     "name": "stdout",
     "output_type": "stream",
     "text": [
      "spoon\n",
      "knife\n",
      "glass\n",
      "fork\n"
     ]
    }
   ],
   "source": [
    "# Set = collection which is unordered, unindexed.  No duplicate value\n",
    "\n",
    "utensils = {\"fork\", \"spoon\", \"knife\"}\n",
    "dishes = {\"bowl\", \"plate\", \"cup\"}\n",
    "\n",
    "utensils.add(\"glass\")\n",
    "\n",
    "for i in utensils:\n",
    "    print(i)"
   ]
  },
  {
   "attachments": {},
   "cell_type": "markdown",
   "metadata": {},
   "source": [
    "add() - adds an element to the set  \n",
    "clear() - removes all elements from the set  \n",
    "copy() - returns a copy of the set  \n",
    "difference() - returns the difference of two or more sets as a new set  \n",
    "intersection() - returns the intersection of two or more sets as a new set  \n",
    "isdisjoint() - returns True if the set has no elements in common with another set  \n",
    "issubset() - returns True if the set is a subset of another set  \n",
    "issuperset() - returns True if the set is a superset of another set  \n",
    "pop() - removes and returns a random element from the set  \n",
    "remove() - removes an element from the set  "
   ]
  },
  {
   "attachments": {},
   "cell_type": "markdown",
   "metadata": {},
   "source": [
    "\n",
    "\n",
    "#19 01:40:03​ dictionaries 📖\n",
    "#20 01:47:20​ indexing 📑\n",
    "#21 01:53:23​ functions 📞\n",
    "#22 02:02:03​ return statement 🔙\n",
    "#23 02:04:51 keyword arguments 🔑\n",
    "#24 02:07:09​ nested function calls 🖇️\n",
    "#25 02:09:40​ variable scope 🔬\n",
    "#26 02:13:23​ *args 📦\n",
    "#27 02:16:58​ **kwargs 🎁\n",
    "#28 02:21:17​ string format 💬\n",
    "#29 02:33:22​ random numbers 🎲\n",
    "#30 02:36:43​ exception handling ⚠️\n",
    "#31 02:43:40 file detection 📁\n",
    "#32 02:47:28​ read a file 🔍\n",
    "#33 02:51:00​ write a file 📝\n",
    "#34 02:53:45​ copy a file 🖨️\n",
    "#35 02:57:05​ move a file 🗃️\n",
    "#36 03:01:20​ delete a file 🗑️\n",
    "#37 03:06:15​ modules 💌\n",
    "#38 03:10:26 rock, paper, scissors game 🗿\n",
    "#39 03:18:32​ quiz game 💯\n",
    "#40 03:35:45​ Object Oriented Programming (OOP) 🐍\n",
    "#41 03:45:06​ class variables 🚗\n",
    "#42 03:48:54​ inheritance 👪\n",
    "#43 03:55:30​ multilevel inheritance 👴\n",
    "#44 03:58:32 multiple inheritance 👨‍👩‍👧‍👦\n",
    "#45 04:01:49 method overriding 🙅\n",
    "#46 04:04:14​ method chaining ⛓️\n",
    "#47 04:08:08 super function 🦸\n",
    "#48 04:12:09​ abstract classes 👻\n",
    "#49 04:19:12 objects as arguments 🏍️\n",
    "#50 04:23:20​ duck typing 🦆\n",
    "#51 04:27:38 walrus operator 🦦\n",
    "#52 04:31:45​ functions to variables 📛\n",
    "#53 04:35:21​ higher order functions 👑\n",
    "#54 04:41:06​ lambda λ\n",
    "#55 04:45:44​ sort 🗄️\n",
    "#56 04:53:22​ map 🗺️\n",
    "#57 04:57:17​ filter 🍺\n",
    "#58 05:00:10​ reduce ♻️\n",
    "#59 05:04:54​ list comprehensions 📰\n",
    "#60 05:10:54 dictionary comprehensions 🕮\n",
    "#61 05:18:59​ zip function 🤐\n",
    "#62 05:23:41​ if name == '__main__' ❓\n",
    "#63 05:29:21​ time module ⌚\n",
    "#64 05:39:58​ threading 🧵\n",
    "#65 05:53:31​ daemon threads 😈\n",
    "#66 05:58:19​ multiprocessing ⚡\n",
    "#67 06:07:15​ GUI windows 🖼️\n",
    "#68 06:14:38​ labels 🏷️\n",
    "#69 06:24:24​ buttons 🛎️\n",
    "#70 06:30:44​ entrybox ⌨️\n",
    "#71 06:40:15​ checkbox ✔️\n",
    "#72 06:49:08​ radio buttons 🔘\n",
    "#73 07:00:47​ scale 🌡️\n",
    "#74 07:10:24​ listbox 📋\n",
    "#75 07:24:41​ messagebox 💭\n",
    "#76 07:37:17​ colorchooser 🎨\n",
    "#77 07:43:10​ text area 📒\n",
    "#78 07:48:38​ open a file (file dialog) 📁\n",
    "#79 07:55:33​ save a file (file dialog) 💾\n",
    "#80 08:05:17​ menubar 🧾\n",
    "#81 08:15:23​ frames ⚰️\n",
    "#82 08:21:30​ new windows 🗔\n",
    "#83 08:25:32​ window tabs 📑\n",
    "#84 08:30:52​ grid 🏢\n",
    "#85 08:39:52​ progress bar 📊\n",
    "#86 08:49:48​ canvas 🖍️\n",
    "#87 09:01:18​ keyboard events ⌨️\n",
    "#88 09:05:54​ mouse events 🖱️\n",
    "#89 09:11:00​ drag & drop 👈\n",
    "#90 09:18:18​ move images w/ keys 🏎️\n",
    "#91 09:29:13​ animations 🛸\n",
    "#92 09:41:31​ multiple animations 🎞️\n",
    "#93 09:53:04​ clock program 🕒\n",
    "#94 10:01:03​ send an email 📧\n",
    "#95 10:07:37​ run with command prompt 👨‍💻\n",
    "#96 10:09:53 pip 🏗️\n",
    "#97 10:13:30​ py to exe 🏃\n",
    "#98 10:17:13​ calculator program 🖩\n",
    "#99 10:31:38​ text editor program ✏️\n",
    "#100 11:05:51 tic tac toe game ⭕\n",
    "#101 11:26:25​ snake game 🐍\n",
    "\n",
    "#🎮 GAMES & PROJECTS 🎮\n",
    "#03:10:26 rock, paper, scissors game 🗿\n",
    "#03:18:32​ quiz game 💯\n",
    "#09:53:04​ clock program 🕒\n",
    "#10:17:13​ calculator program 🖩\n",
    "#10:31:38​ text editor program ✏️\n",
    "#11:05:51 tic tac toe game ⭕\n",
    "#11:26:25​ snake game 🐍\n"
   ]
  }
 ],
 "metadata": {
  "kernelspec": {
   "display_name": "base",
   "language": "python",
   "name": "python3"
  },
  "language_info": {
   "codemirror_mode": {
    "name": "ipython",
    "version": 3
   },
   "file_extension": ".py",
   "mimetype": "text/x-python",
   "name": "python",
   "nbconvert_exporter": "python",
   "pygments_lexer": "ipython3",
   "version": "3.10.8 (main, Nov 24 2022, 14:13:03) [GCC 11.2.0]"
  },
  "orig_nbformat": 4,
  "vscode": {
   "interpreter": {
    "hash": "46ba8b78efd2206173599717abff8d67dc45b096af27dc0efa49d9c30dc4508b"
   }
  }
 },
 "nbformat": 4,
 "nbformat_minor": 2
}
