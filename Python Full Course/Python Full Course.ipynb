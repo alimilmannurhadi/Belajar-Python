{
 "cells": [
  {
   "attachments": {},
   "cell_type": "markdown",
   "metadata": {},
   "source": [
    "****#⭐️Time Stamps⭐️****"
   ]
  },
  {
   "attachments": {},
   "cell_type": "markdown",
   "metadata": {},
   "source": [
    "#1 00:00:00​ Python tutorial for beginners 🐍"
   ]
  },
  {
   "cell_type": "code",
   "execution_count": null,
   "metadata": {},
   "outputs": [],
   "source": [
    "print(\"I love Pizza\")\n",
    "print(\"It's Really Good!\")"
   ]
  },
  {
   "attachments": {},
   "cell_type": "markdown",
   "metadata": {},
   "source": [
    "#2 00:05:57​ variables ✘"
   ]
  },
  {
   "cell_type": "code",
   "execution_count": 13,
   "metadata": {},
   "outputs": [
    {
     "name": "stdout",
     "output_type": "stream",
     "text": [
      "Hello Alim Ilman Nurhadi\n",
      "Your age is : 23\n",
      "Your height is : 170.8cm\n",
      "Are you a human : True\n",
      "<class 'str'>\n",
      "<class 'int'>\n",
      "<class 'float'>\n",
      "<class 'bool'>\n"
     ]
    }
   ],
   "source": [
    "# Variabel = a container for a value / Tempat menaruh sebuah nilai\n",
    "\n",
    "# String = a series of characters / serangkaian karakter\n",
    "firs_name = \"Alim\"\n",
    "middle_name = \"Ilman\"\n",
    "last_name = \"Nurhadi\"\n",
    "full_name = firs_name + \" \" + middle_name + \" \" + last_name\n",
    "\n",
    "print(\"Hello \" + full_name)\n",
    "\n",
    "# interger = a whole number\n",
    "age = 22\n",
    "age += 1\n",
    "\n",
    "print(\"Your age is : \" + str(age)) # jika terdapan str pada perintah print, maka variabel selain str perlu di convert ke str\n",
    "\n",
    "# Float = floating point number / a decimal number \n",
    "height = 170.8\n",
    "print(\"Your height is : \" + str(height) + \"cm\")\n",
    "\n",
    "# Boolean = True or False\n",
    "human = True\n",
    "print(\"Are you a human : \" + str(human))\n",
    "\n",
    "print(type(full_name)) # gunakan perintah print jika tidak, consol hanya akan menampilkan type data human\n",
    "print(type(age))\n",
    "print(type(height))\n",
    "print(type(human))"
   ]
  },
  {
   "attachments": {},
   "cell_type": "markdown",
   "metadata": {},
   "source": [
    "#3 00:17:38​ multiple assignment 🔠"
   ]
  },
  {
   "cell_type": "code",
   "execution_count": 22,
   "metadata": {},
   "outputs": [
    {
     "name": "stdout",
     "output_type": "stream",
     "text": [
      "Alim\n",
      "22\n",
      "True\n",
      "30 30 30\n"
     ]
    }
   ],
   "source": [
    "# Multiple assignments = allow us to assign multiple variables at the same time in one line\n",
    "# Penugasan berganda = memungkinkan kita untuk menetapkan beberapa variabel sekaligus dalam satu baris\n",
    "\n",
    "name, age, attractive = \"Alim\", 22, True\n",
    "\n",
    "print(name)\n",
    "print(age)\n",
    "print(attractive)\n",
    "\n",
    "# spongebob = 30\n",
    "# patrick  = 20\n",
    "# sandy = 30\n",
    "\n",
    "# Jika dengan one line code\n",
    "spongebob = patrick = sandy = 30\n",
    "\n",
    "print(spongebob, patrick, sandy)\n"
   ]
  },
  {
   "attachments": {},
   "cell_type": "markdown",
   "metadata": {},
   "source": [
    "#4 00:20:27​ string methods 〰️"
   ]
  },
  {
   "cell_type": "code",
   "execution_count": 56,
   "metadata": {},
   "outputs": [],
   "source": [
    "name = \"Alim Ilman Nurhadi\"\n",
    "\n",
    "# print(len(name))\n",
    "# print(name.find(\"h\"))\n",
    "# print(name.capitalize())\n",
    "# print(name.upper())\n",
    "# print(name.lower())\n",
    "# print(name.isdigit())\n",
    "# print(name.isalpha())\n",
    "# print(name.isalnum())\n",
    "# print(name.count(\"a\"))\n",
    "# print(name.replace(\"a\",\"o\"))\n",
    "# print(name * 3)\n",
    "# print(name.split())\n",
    "# print(name.strip(\"A\"))\n",
    "# print(name.join('123'))\n",
    "# print(\"Nama saya {}\".format(name))\n",
    "# print(name.startswith(\"Alim\"))\n",
    "# print(name.endswith(\"roger\"))\n",
    "# print(name.index(\"a\"))\n",
    "# print(name.rindex(\"Ilman\"))"
   ]
  },
  {
   "attachments": {},
   "cell_type": "markdown",
   "metadata": {},
   "source": [
    "#5 00:25:13​ type cast 💱"
   ]
  },
  {
   "cell_type": "code",
   "execution_count": null,
   "metadata": {},
   "outputs": [],
   "source": [
    "# Type casting = convert the data type of a value to another data type\n",
    "# Type casting = mengubah tipe data suatu nilai menjadi tipe data lainnya\n",
    "\n",
    "\n"
   ]
  },
  {
   "attachments": {},
   "cell_type": "markdown",
   "metadata": {},
   "source": [
    "\n",
    "\n",
    "#6 00:30:14​ user input ⌨️\n",
    "#7 00:36:50​ math functions 🧮\n",
    "#8 00:40:58​ string slicing ✂️\n",
    "#9 00:51:52​ if statements 🤔\n",
    "#10 00:58:19​ logical operators 🔣\n",
    "#11 01:04:03​ while loops 🔄\n",
    "#12 01:07:31​ for loops ➰\n",
    "#13 01:13:04​ nested loops ➿\n",
    "#14 01:17:08 break continue pass ⛔\n",
    "#15 01:21:06​ lists 🧾\n",
    "#16 01:26:58​ 2D lists 📜\n",
    "#17 01:30:47​ tuples 📄\n",
    "#18 01:33:47​ sets 🍴\n",
    "#19 01:40:03​ dictionaries 📖\n",
    "#20 01:47:20​ indexing 📑\n",
    "#21 01:53:23​ functions 📞\n",
    "#22 02:02:03​ return statement 🔙\n",
    "#23 02:04:51 keyword arguments 🔑\n",
    "#24 02:07:09​ nested function calls 🖇️\n",
    "#25 02:09:40​ variable scope 🔬\n",
    "#26 02:13:23​ *args 📦\n",
    "#27 02:16:58​ **kwargs 🎁\n",
    "#28 02:21:17​ string format 💬\n",
    "#29 02:33:22​ random numbers 🎲\n",
    "#30 02:36:43​ exception handling ⚠️\n",
    "#31 02:43:40 file detection 📁\n",
    "#32 02:47:28​ read a file 🔍\n",
    "#33 02:51:00​ write a file 📝\n",
    "#34 02:53:45​ copy a file 🖨️\n",
    "#35 02:57:05​ move a file 🗃️\n",
    "#36 03:01:20​ delete a file 🗑️\n",
    "#37 03:06:15​ modules 💌\n",
    "#38 03:10:26 rock, paper, scissors game 🗿\n",
    "#39 03:18:32​ quiz game 💯\n",
    "#40 03:35:45​ Object Oriented Programming (OOP) 🐍\n",
    "#41 03:45:06​ class variables 🚗\n",
    "#42 03:48:54​ inheritance 👪\n",
    "#43 03:55:30​ multilevel inheritance 👴\n",
    "#44 03:58:32 multiple inheritance 👨‍👩‍👧‍👦\n",
    "#45 04:01:49 method overriding 🙅\n",
    "#46 04:04:14​ method chaining ⛓️\n",
    "#47 04:08:08 super function 🦸\n",
    "#48 04:12:09​ abstract classes 👻\n",
    "#49 04:19:12 objects as arguments 🏍️\n",
    "#50 04:23:20​ duck typing 🦆\n",
    "#51 04:27:38 walrus operator 🦦\n",
    "#52 04:31:45​ functions to variables 📛\n",
    "#53 04:35:21​ higher order functions 👑\n",
    "#54 04:41:06​ lambda λ\n",
    "#55 04:45:44​ sort 🗄️\n",
    "#56 04:53:22​ map 🗺️\n",
    "#57 04:57:17​ filter 🍺\n",
    "#58 05:00:10​ reduce ♻️\n",
    "#59 05:04:54​ list comprehensions 📰\n",
    "#60 05:10:54 dictionary comprehensions 🕮\n",
    "#61 05:18:59​ zip function 🤐\n",
    "#62 05:23:41​ if name == '__main__' ❓\n",
    "#63 05:29:21​ time module ⌚\n",
    "#64 05:39:58​ threading 🧵\n",
    "#65 05:53:31​ daemon threads 😈\n",
    "#66 05:58:19​ multiprocessing ⚡\n",
    "#67 06:07:15​ GUI windows 🖼️\n",
    "#68 06:14:38​ labels 🏷️\n",
    "#69 06:24:24​ buttons 🛎️\n",
    "#70 06:30:44​ entrybox ⌨️\n",
    "#71 06:40:15​ checkbox ✔️\n",
    "#72 06:49:08​ radio buttons 🔘\n",
    "#73 07:00:47​ scale 🌡️\n",
    "#74 07:10:24​ listbox 📋\n",
    "#75 07:24:41​ messagebox 💭\n",
    "#76 07:37:17​ colorchooser 🎨\n",
    "#77 07:43:10​ text area 📒\n",
    "#78 07:48:38​ open a file (file dialog) 📁\n",
    "#79 07:55:33​ save a file (file dialog) 💾\n",
    "#80 08:05:17​ menubar 🧾\n",
    "#81 08:15:23​ frames ⚰️\n",
    "#82 08:21:30​ new windows 🗔\n",
    "#83 08:25:32​ window tabs 📑\n",
    "#84 08:30:52​ grid 🏢\n",
    "#85 08:39:52​ progress bar 📊\n",
    "#86 08:49:48​ canvas 🖍️\n",
    "#87 09:01:18​ keyboard events ⌨️\n",
    "#88 09:05:54​ mouse events 🖱️\n",
    "#89 09:11:00​ drag & drop 👈\n",
    "#90 09:18:18​ move images w/ keys 🏎️\n",
    "#91 09:29:13​ animations 🛸\n",
    "#92 09:41:31​ multiple animations 🎞️\n",
    "#93 09:53:04​ clock program 🕒\n",
    "#94 10:01:03​ send an email 📧\n",
    "#95 10:07:37​ run with command prompt 👨‍💻\n",
    "#96 10:09:53 pip 🏗️\n",
    "#97 10:13:30​ py to exe 🏃\n",
    "#98 10:17:13​ calculator program 🖩\n",
    "#99 10:31:38​ text editor program ✏️\n",
    "#100 11:05:51 tic tac toe game ⭕\n",
    "#101 11:26:25​ snake game 🐍\n",
    "\n",
    "#🎮 GAMES & PROJECTS 🎮\n",
    "#03:10:26 rock, paper, scissors game 🗿\n",
    "#03:18:32​ quiz game 💯\n",
    "#09:53:04​ clock program 🕒\n",
    "#10:17:13​ calculator program 🖩\n",
    "#10:31:38​ text editor program ✏️\n",
    "#11:05:51 tic tac toe game ⭕\n",
    "#11:26:25​ snake game 🐍\n"
   ]
  }
 ],
 "metadata": {
  "kernelspec": {
   "display_name": "base",
   "language": "python",
   "name": "python3"
  },
  "language_info": {
   "codemirror_mode": {
    "name": "ipython",
    "version": 3
   },
   "file_extension": ".py",
   "mimetype": "text/x-python",
   "name": "python",
   "nbconvert_exporter": "python",
   "pygments_lexer": "ipython3",
   "version": "3.10.8"
  },
  "orig_nbformat": 4,
  "vscode": {
   "interpreter": {
    "hash": "46ba8b78efd2206173599717abff8d67dc45b096af27dc0efa49d9c30dc4508b"
   }
  }
 },
 "nbformat": 4,
 "nbformat_minor": 2
}
